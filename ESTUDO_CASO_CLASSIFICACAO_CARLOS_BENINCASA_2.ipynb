{
  "cells": [
    {
      "cell_type": "markdown",
      "metadata": {
        "id": "view-in-github",
        "colab_type": "text"
      },
      "source": [
        "<a href=\"https://colab.research.google.com/github/cbenincasa/MBA-case-classificacao/blob/main/ESTUDO_CASO_CLASSIFICACAO_CARLOS_BENINCASA_2.ipynb\" target=\"_parent\"><img src=\"https://colab.research.google.com/assets/colab-badge.svg\" alt=\"Open In Colab\"/></a>"
      ]
    },
    {
      "cell_type": "markdown",
      "metadata": {
        "id": "4731-FbOXnsv"
      },
      "source": [
        "### *Case: Credit Score*\n",
        "---\n",
        "\n"
      ]
    },
    {
      "cell_type": "markdown",
      "metadata": {
        "id": "nGD5Csd2q7VV"
      },
      "source": [
        "### **Bibliotecas**"
      ]
    },
    {
      "cell_type": "code",
      "execution_count": 62,
      "metadata": {
        "id": "OBRFOAK4Xnsz"
      },
      "outputs": [],
      "source": [
        "# Instalação de bibliotecas não disponíveis na instalação padrão do Python no Google Colab\n",
        "# ! pip install shap"
      ]
    },
    {
      "cell_type": "code",
      "execution_count": 63,
      "metadata": {
        "id": "DY4aICW6q8Eb"
      },
      "outputs": [],
      "source": [
        "import pandas as pd                                                                # Manipulação de dados\n",
        "import numpy as np                                                                 # Realização de cálculos específicos\n",
        "import matplotlib.pyplot as plt                                                    # Visualização de dados\n",
        "import seaborn as sns                                                              # Visualização de dados\n",
        "import time                                                                        # Cálculo de tempo de execução\n",
        "import math                                                                        # Funções matemáticas\n",
        "from scipy.stats import randint, uniform, loguniform                               # Geração de valores aleatórios\n",
        "from sklearn.compose import ColumnTransformer                                      # Transformação de colunas\n",
        "from sklearn.preprocessing import StandardScaler, OneHotEncoder                    # Transformação de colunas\n",
        "from sklearn.base import clone                                                     # Criação de cópias de modelos\n",
        "from sklearn.model_selection import train_test_split                               # Validação simples\n",
        "from sklearn.model_selection import StratifiedKFold, RandomizedSearchCV            # Validação cruzada e estratificação de folds\n",
        "from sklearn.utils.class_weight import compute_sample_weight                       # Cálculo de pesos para observações\n",
        "from sklearn.linear_model import SGDClassifier                                     # Regressão logística com regularização\n",
        "from sklearn.tree import DecisionTreeClassifier, plot_tree                                    # Árvore de decisão\n",
        "from sklearn.ensemble import RandomForestClassifier                                # Floresta aleatória\n",
        "from sklearn.ensemble import AdaBoostClassifier, GradientBoostingClassifier        # Impulsionamento tradicional\n",
        "from sklearn.ensemble import HistGradientBoostingClassifier                        # Impulsionamento com histogramas\n",
        "from xgboost import XGBClassifier                                                  # Impulsionamento via XGBoost\n",
        "from lightgbm import LGBMClassifier                                                # Impulsionamento via LightGBM\n",
        "from sklearn.calibration import CalibratedClassifierCV                             # Calibração de probabilidades\n",
        "from sklearn.calibration import calibration_curve                                  # Gráfico de curva de calibração\n",
        "from sklearn.metrics import brier_score_loss                                       # Score de Brier\n",
        "from sklearn.metrics import accuracy_score, confusion_matrix                       # Análise de desempenho: matriz de classificação\n",
        "from sklearn.metrics import get_scorer, roc_auc_score, roc_curve                   # Análise de desempenho: KS e AUC\n",
        "from sklearn.inspection import permutation_importance                              # Importância de variáveis por permutação\n",
        "import shap                                                                        # Interpretabilidade de variáveis nos modelos\n",
        "import statsmodels.api as sm                                                    # Ajuste de modelos de regressão\n",
        "from statsmodels.stats.outliers_influence import variance_inflation_factor      # Cálculo do VIF\n",
        "from sklearn.preprocessing import label_binarize                                   # Binarização da resposta (Score de Brier one-vs-rest)"
      ]
    },
    {
      "cell_type": "markdown",
      "metadata": {
        "id": "fMKYTQt50PSk"
      },
      "source": [
        "### **Leitura da base de dados**"
      ]
    },
    {
      "cell_type": "code",
      "execution_count": 64,
      "metadata": {
        "id": "luxgNBQF0PSk"
      },
      "outputs": [],
      "source": [
        "dados = pd.read_table(\"Credit_Score.txt\",\n",
        "                      sep=\"\\t\",\n",
        "                      decimal=\".\",\n",
        "                      header=0)"
      ]
    },
    {
      "cell_type": "markdown",
      "metadata": {
        "id": "q3nWlTuwiJDh"
      },
      "source": [
        "### **Visualização da base de dados**"
      ]
    },
    {
      "cell_type": "code",
      "execution_count": 65,
      "metadata": {
        "colab": {
          "base_uri": "https://localhost:8080/",
          "height": 0
        },
        "id": "NWxUtoLNiJDh",
        "outputId": "15d668d4-c800-49a4-d78f-684c0004d899"
      },
      "outputs": [
        {
          "output_type": "execute_result",
          "data": {
            "text/plain": [
              "        ID    SAFRA  IDADE  RENDA_MEDIA_MENSAL  TOTAL_INVESTIMENTOS  \\\n",
              "0  0x10002  Safra 2     18               22900                75100   \n",
              "1  0x1000e  Safra 2     18                6000                    0   \n",
              "2  0x1001a  Safra 1     18                6900                 4800   \n",
              "3  0x1001b  Safra 3     18               23700                 2000   \n",
              "4  0x1001c  Safra 2     18                7000                 4400   \n",
              "\n",
              "   QTDE_CONSULTAS_CREDITO_12M  QTDE_CARTOES  QTDE_EMPRESTIMOS_12M  \\\n",
              "0                           8             9                     3   \n",
              "1                           1             3                     1   \n",
              "2                           2             2                     0   \n",
              "3                           1             3                     1   \n",
              "4                           0             2                     0   \n",
              "\n",
              "   QTDE_CHEQUE_ESPECIAL_12M  QTDE_PGTOS_EM_ATRASO_12M  TOTAL_DIAS_ATRASO_12M  \\\n",
              "0                         3                         6                     38   \n",
              "1                         1                         4                     24   \n",
              "2                         2                         1                      8   \n",
              "3                         2                         3                     28   \n",
              "4                         1                         1                      5   \n",
              "\n",
              "  FLAG_PGTO_PARCIAL_12M  VALOR_PGTOS_12M  PERC_MEDIO_LIMITE_TOMADO_12M  \\\n",
              "0                   Sim             4246                         0.050   \n",
              "1                   Sim            15013                         0.700   \n",
              "2                   Sim             3361                         0.800   \n",
              "3                   Sim             5369                         0.320   \n",
              "4                   Nao            21381                         0.260   \n",
              "\n",
              "   RESPOSTA_MAU_BOM  \n",
              "0                 1  \n",
              "1                 1  \n",
              "2                 1  \n",
              "3                 0  \n",
              "4                 1  "
            ],
            "text/html": [
              "\n",
              "  <div id=\"df-90db49c0-5023-422b-96e3-7662150806ce\" class=\"colab-df-container\">\n",
              "    <div>\n",
              "<style scoped>\n",
              "    .dataframe tbody tr th:only-of-type {\n",
              "        vertical-align: middle;\n",
              "    }\n",
              "\n",
              "    .dataframe tbody tr th {\n",
              "        vertical-align: top;\n",
              "    }\n",
              "\n",
              "    .dataframe thead th {\n",
              "        text-align: right;\n",
              "    }\n",
              "</style>\n",
              "<table border=\"1\" class=\"dataframe\">\n",
              "  <thead>\n",
              "    <tr style=\"text-align: right;\">\n",
              "      <th></th>\n",
              "      <th>ID</th>\n",
              "      <th>SAFRA</th>\n",
              "      <th>IDADE</th>\n",
              "      <th>RENDA_MEDIA_MENSAL</th>\n",
              "      <th>TOTAL_INVESTIMENTOS</th>\n",
              "      <th>QTDE_CONSULTAS_CREDITO_12M</th>\n",
              "      <th>QTDE_CARTOES</th>\n",
              "      <th>QTDE_EMPRESTIMOS_12M</th>\n",
              "      <th>QTDE_CHEQUE_ESPECIAL_12M</th>\n",
              "      <th>QTDE_PGTOS_EM_ATRASO_12M</th>\n",
              "      <th>TOTAL_DIAS_ATRASO_12M</th>\n",
              "      <th>FLAG_PGTO_PARCIAL_12M</th>\n",
              "      <th>VALOR_PGTOS_12M</th>\n",
              "      <th>PERC_MEDIO_LIMITE_TOMADO_12M</th>\n",
              "      <th>RESPOSTA_MAU_BOM</th>\n",
              "    </tr>\n",
              "  </thead>\n",
              "  <tbody>\n",
              "    <tr>\n",
              "      <th>0</th>\n",
              "      <td>0x10002</td>\n",
              "      <td>Safra 2</td>\n",
              "      <td>18</td>\n",
              "      <td>22900</td>\n",
              "      <td>75100</td>\n",
              "      <td>8</td>\n",
              "      <td>9</td>\n",
              "      <td>3</td>\n",
              "      <td>3</td>\n",
              "      <td>6</td>\n",
              "      <td>38</td>\n",
              "      <td>Sim</td>\n",
              "      <td>4246</td>\n",
              "      <td>0.050</td>\n",
              "      <td>1</td>\n",
              "    </tr>\n",
              "    <tr>\n",
              "      <th>1</th>\n",
              "      <td>0x1000e</td>\n",
              "      <td>Safra 2</td>\n",
              "      <td>18</td>\n",
              "      <td>6000</td>\n",
              "      <td>0</td>\n",
              "      <td>1</td>\n",
              "      <td>3</td>\n",
              "      <td>1</td>\n",
              "      <td>1</td>\n",
              "      <td>4</td>\n",
              "      <td>24</td>\n",
              "      <td>Sim</td>\n",
              "      <td>15013</td>\n",
              "      <td>0.700</td>\n",
              "      <td>1</td>\n",
              "    </tr>\n",
              "    <tr>\n",
              "      <th>2</th>\n",
              "      <td>0x1001a</td>\n",
              "      <td>Safra 1</td>\n",
              "      <td>18</td>\n",
              "      <td>6900</td>\n",
              "      <td>4800</td>\n",
              "      <td>2</td>\n",
              "      <td>2</td>\n",
              "      <td>0</td>\n",
              "      <td>2</td>\n",
              "      <td>1</td>\n",
              "      <td>8</td>\n",
              "      <td>Sim</td>\n",
              "      <td>3361</td>\n",
              "      <td>0.800</td>\n",
              "      <td>1</td>\n",
              "    </tr>\n",
              "    <tr>\n",
              "      <th>3</th>\n",
              "      <td>0x1001b</td>\n",
              "      <td>Safra 3</td>\n",
              "      <td>18</td>\n",
              "      <td>23700</td>\n",
              "      <td>2000</td>\n",
              "      <td>1</td>\n",
              "      <td>3</td>\n",
              "      <td>1</td>\n",
              "      <td>2</td>\n",
              "      <td>3</td>\n",
              "      <td>28</td>\n",
              "      <td>Sim</td>\n",
              "      <td>5369</td>\n",
              "      <td>0.320</td>\n",
              "      <td>0</td>\n",
              "    </tr>\n",
              "    <tr>\n",
              "      <th>4</th>\n",
              "      <td>0x1001c</td>\n",
              "      <td>Safra 2</td>\n",
              "      <td>18</td>\n",
              "      <td>7000</td>\n",
              "      <td>4400</td>\n",
              "      <td>0</td>\n",
              "      <td>2</td>\n",
              "      <td>0</td>\n",
              "      <td>1</td>\n",
              "      <td>1</td>\n",
              "      <td>5</td>\n",
              "      <td>Nao</td>\n",
              "      <td>21381</td>\n",
              "      <td>0.260</td>\n",
              "      <td>1</td>\n",
              "    </tr>\n",
              "  </tbody>\n",
              "</table>\n",
              "</div>\n",
              "    <div class=\"colab-df-buttons\">\n",
              "\n",
              "  <div class=\"colab-df-container\">\n",
              "    <button class=\"colab-df-convert\" onclick=\"convertToInteractive('df-90db49c0-5023-422b-96e3-7662150806ce')\"\n",
              "            title=\"Convert this dataframe to an interactive table.\"\n",
              "            style=\"display:none;\">\n",
              "\n",
              "  <svg xmlns=\"http://www.w3.org/2000/svg\" height=\"24px\" viewBox=\"0 -960 960 960\">\n",
              "    <path d=\"M120-120v-720h720v720H120Zm60-500h600v-160H180v160Zm220 220h160v-160H400v160Zm0 220h160v-160H400v160ZM180-400h160v-160H180v160Zm440 0h160v-160H620v160ZM180-180h160v-160H180v160Zm440 0h160v-160H620v160Z\"/>\n",
              "  </svg>\n",
              "    </button>\n",
              "\n",
              "  <style>\n",
              "    .colab-df-container {\n",
              "      display:flex;\n",
              "      gap: 12px;\n",
              "    }\n",
              "\n",
              "    .colab-df-convert {\n",
              "      background-color: #E8F0FE;\n",
              "      border: none;\n",
              "      border-radius: 50%;\n",
              "      cursor: pointer;\n",
              "      display: none;\n",
              "      fill: #1967D2;\n",
              "      height: 32px;\n",
              "      padding: 0 0 0 0;\n",
              "      width: 32px;\n",
              "    }\n",
              "\n",
              "    .colab-df-convert:hover {\n",
              "      background-color: #E2EBFA;\n",
              "      box-shadow: 0px 1px 2px rgba(60, 64, 67, 0.3), 0px 1px 3px 1px rgba(60, 64, 67, 0.15);\n",
              "      fill: #174EA6;\n",
              "    }\n",
              "\n",
              "    .colab-df-buttons div {\n",
              "      margin-bottom: 4px;\n",
              "    }\n",
              "\n",
              "    [theme=dark] .colab-df-convert {\n",
              "      background-color: #3B4455;\n",
              "      fill: #D2E3FC;\n",
              "    }\n",
              "\n",
              "    [theme=dark] .colab-df-convert:hover {\n",
              "      background-color: #434B5C;\n",
              "      box-shadow: 0px 1px 3px 1px rgba(0, 0, 0, 0.15);\n",
              "      filter: drop-shadow(0px 1px 2px rgba(0, 0, 0, 0.3));\n",
              "      fill: #FFFFFF;\n",
              "    }\n",
              "  </style>\n",
              "\n",
              "    <script>\n",
              "      const buttonEl =\n",
              "        document.querySelector('#df-90db49c0-5023-422b-96e3-7662150806ce button.colab-df-convert');\n",
              "      buttonEl.style.display =\n",
              "        google.colab.kernel.accessAllowed ? 'block' : 'none';\n",
              "\n",
              "      async function convertToInteractive(key) {\n",
              "        const element = document.querySelector('#df-90db49c0-5023-422b-96e3-7662150806ce');\n",
              "        const dataTable =\n",
              "          await google.colab.kernel.invokeFunction('convertToInteractive',\n",
              "                                                    [key], {});\n",
              "        if (!dataTable) return;\n",
              "\n",
              "        const docLinkHtml = 'Like what you see? Visit the ' +\n",
              "          '<a target=\"_blank\" href=https://colab.research.google.com/notebooks/data_table.ipynb>data table notebook</a>'\n",
              "          + ' to learn more about interactive tables.';\n",
              "        element.innerHTML = '';\n",
              "        dataTable['output_type'] = 'display_data';\n",
              "        await google.colab.output.renderOutput(dataTable, element);\n",
              "        const docLink = document.createElement('div');\n",
              "        docLink.innerHTML = docLinkHtml;\n",
              "        element.appendChild(docLink);\n",
              "      }\n",
              "    </script>\n",
              "  </div>\n",
              "\n",
              "\n",
              "    <div id=\"df-4fa56292-220a-4dd0-b197-aa3ddca00bc6\">\n",
              "      <button class=\"colab-df-quickchart\" onclick=\"quickchart('df-4fa56292-220a-4dd0-b197-aa3ddca00bc6')\"\n",
              "                title=\"Suggest charts\"\n",
              "                style=\"display:none;\">\n",
              "\n",
              "<svg xmlns=\"http://www.w3.org/2000/svg\" height=\"24px\"viewBox=\"0 0 24 24\"\n",
              "     width=\"24px\">\n",
              "    <g>\n",
              "        <path d=\"M19 3H5c-1.1 0-2 .9-2 2v14c0 1.1.9 2 2 2h14c1.1 0 2-.9 2-2V5c0-1.1-.9-2-2-2zM9 17H7v-7h2v7zm4 0h-2V7h2v10zm4 0h-2v-4h2v4z\"/>\n",
              "    </g>\n",
              "</svg>\n",
              "      </button>\n",
              "\n",
              "<style>\n",
              "  .colab-df-quickchart {\n",
              "      --bg-color: #E8F0FE;\n",
              "      --fill-color: #1967D2;\n",
              "      --hover-bg-color: #E2EBFA;\n",
              "      --hover-fill-color: #174EA6;\n",
              "      --disabled-fill-color: #AAA;\n",
              "      --disabled-bg-color: #DDD;\n",
              "  }\n",
              "\n",
              "  [theme=dark] .colab-df-quickchart {\n",
              "      --bg-color: #3B4455;\n",
              "      --fill-color: #D2E3FC;\n",
              "      --hover-bg-color: #434B5C;\n",
              "      --hover-fill-color: #FFFFFF;\n",
              "      --disabled-bg-color: #3B4455;\n",
              "      --disabled-fill-color: #666;\n",
              "  }\n",
              "\n",
              "  .colab-df-quickchart {\n",
              "    background-color: var(--bg-color);\n",
              "    border: none;\n",
              "    border-radius: 50%;\n",
              "    cursor: pointer;\n",
              "    display: none;\n",
              "    fill: var(--fill-color);\n",
              "    height: 32px;\n",
              "    padding: 0;\n",
              "    width: 32px;\n",
              "  }\n",
              "\n",
              "  .colab-df-quickchart:hover {\n",
              "    background-color: var(--hover-bg-color);\n",
              "    box-shadow: 0 1px 2px rgba(60, 64, 67, 0.3), 0 1px 3px 1px rgba(60, 64, 67, 0.15);\n",
              "    fill: var(--button-hover-fill-color);\n",
              "  }\n",
              "\n",
              "  .colab-df-quickchart-complete:disabled,\n",
              "  .colab-df-quickchart-complete:disabled:hover {\n",
              "    background-color: var(--disabled-bg-color);\n",
              "    fill: var(--disabled-fill-color);\n",
              "    box-shadow: none;\n",
              "  }\n",
              "\n",
              "  .colab-df-spinner {\n",
              "    border: 2px solid var(--fill-color);\n",
              "    border-color: transparent;\n",
              "    border-bottom-color: var(--fill-color);\n",
              "    animation:\n",
              "      spin 1s steps(1) infinite;\n",
              "  }\n",
              "\n",
              "  @keyframes spin {\n",
              "    0% {\n",
              "      border-color: transparent;\n",
              "      border-bottom-color: var(--fill-color);\n",
              "      border-left-color: var(--fill-color);\n",
              "    }\n",
              "    20% {\n",
              "      border-color: transparent;\n",
              "      border-left-color: var(--fill-color);\n",
              "      border-top-color: var(--fill-color);\n",
              "    }\n",
              "    30% {\n",
              "      border-color: transparent;\n",
              "      border-left-color: var(--fill-color);\n",
              "      border-top-color: var(--fill-color);\n",
              "      border-right-color: var(--fill-color);\n",
              "    }\n",
              "    40% {\n",
              "      border-color: transparent;\n",
              "      border-right-color: var(--fill-color);\n",
              "      border-top-color: var(--fill-color);\n",
              "    }\n",
              "    60% {\n",
              "      border-color: transparent;\n",
              "      border-right-color: var(--fill-color);\n",
              "    }\n",
              "    80% {\n",
              "      border-color: transparent;\n",
              "      border-right-color: var(--fill-color);\n",
              "      border-bottom-color: var(--fill-color);\n",
              "    }\n",
              "    90% {\n",
              "      border-color: transparent;\n",
              "      border-bottom-color: var(--fill-color);\n",
              "    }\n",
              "  }\n",
              "</style>\n",
              "\n",
              "      <script>\n",
              "        async function quickchart(key) {\n",
              "          const quickchartButtonEl =\n",
              "            document.querySelector('#' + key + ' button');\n",
              "          quickchartButtonEl.disabled = true;  // To prevent multiple clicks.\n",
              "          quickchartButtonEl.classList.add('colab-df-spinner');\n",
              "          try {\n",
              "            const charts = await google.colab.kernel.invokeFunction(\n",
              "                'suggestCharts', [key], {});\n",
              "          } catch (error) {\n",
              "            console.error('Error during call to suggestCharts:', error);\n",
              "          }\n",
              "          quickchartButtonEl.classList.remove('colab-df-spinner');\n",
              "          quickchartButtonEl.classList.add('colab-df-quickchart-complete');\n",
              "        }\n",
              "        (() => {\n",
              "          let quickchartButtonEl =\n",
              "            document.querySelector('#df-4fa56292-220a-4dd0-b197-aa3ddca00bc6 button');\n",
              "          quickchartButtonEl.style.display =\n",
              "            google.colab.kernel.accessAllowed ? 'block' : 'none';\n",
              "        })();\n",
              "      </script>\n",
              "    </div>\n",
              "\n",
              "    </div>\n",
              "  </div>\n"
            ],
            "application/vnd.google.colaboratory.intrinsic+json": {
              "type": "dataframe",
              "variable_name": "dados",
              "summary": "{\n  \"name\": \"dados\",\n  \"rows\": 18258,\n  \"fields\": [\n    {\n      \"column\": \"ID\",\n      \"properties\": {\n        \"dtype\": \"string\",\n        \"num_unique_values\": 18258,\n        \"samples\": [\n          \"0x24750\",\n          \"0x5af6\",\n          \"0x14586\"\n        ],\n        \"semantic_type\": \"\",\n        \"description\": \"\"\n      }\n    },\n    {\n      \"column\": \"SAFRA\",\n      \"properties\": {\n        \"dtype\": \"category\",\n        \"num_unique_values\": 3,\n        \"samples\": [\n          \"Safra 2\",\n          \"Safra 1\",\n          \"Safra 3\"\n        ],\n        \"semantic_type\": \"\",\n        \"description\": \"\"\n      }\n    },\n    {\n      \"column\": \"IDADE\",\n      \"properties\": {\n        \"dtype\": \"number\",\n        \"std\": 10,\n        \"min\": 18,\n        \"max\": 95,\n        \"num_unique_values\": 76,\n        \"samples\": [\n          22,\n          53,\n          28\n        ],\n        \"semantic_type\": \"\",\n        \"description\": \"\"\n      }\n    },\n    {\n      \"column\": \"RENDA_MEDIA_MENSAL\",\n      \"properties\": {\n        \"dtype\": \"number\",\n        \"std\": 5656,\n        \"min\": 1100,\n        \"max\": 53400,\n        \"num_unique_values\": 353,\n        \"samples\": [\n          29700,\n          13900,\n          14400\n        ],\n        \"semantic_type\": \"\",\n        \"description\": \"\"\n      }\n    },\n    {\n      \"column\": \"TOTAL_INVESTIMENTOS\",\n      \"properties\": {\n        \"dtype\": \"number\",\n        \"std\": 31770,\n        \"min\": 0,\n        \"max\": 193100,\n        \"num_unique_values\": 1433,\n        \"samples\": [\n          94500,\n          69500,\n          40400\n        ],\n        \"semantic_type\": \"\",\n        \"description\": \"\"\n      }\n    },\n    {\n      \"column\": \"QTDE_CONSULTAS_CREDITO_12M\",\n      \"properties\": {\n        \"dtype\": \"number\",\n        \"std\": 1,\n        \"min\": 0,\n        \"max\": 20,\n        \"num_unique_values\": 18,\n        \"samples\": [\n          8,\n          1,\n          10\n        ],\n        \"semantic_type\": \"\",\n        \"description\": \"\"\n      }\n    },\n    {\n      \"column\": \"QTDE_CARTOES\",\n      \"properties\": {\n        \"dtype\": \"number\",\n        \"std\": 1,\n        \"min\": 1,\n        \"max\": 12,\n        \"num_unique_values\": 12,\n        \"samples\": [\n          12,\n          8,\n          9\n        ],\n        \"semantic_type\": \"\",\n        \"description\": \"\"\n      }\n    },\n    {\n      \"column\": \"QTDE_EMPRESTIMOS_12M\",\n      \"properties\": {\n        \"dtype\": \"number\",\n        \"std\": 0,\n        \"min\": 0,\n        \"max\": 6,\n        \"num_unique_values\": 7,\n        \"samples\": [\n          3,\n          1,\n          4\n        ],\n        \"semantic_type\": \"\",\n        \"description\": \"\"\n      }\n    },\n    {\n      \"column\": \"QTDE_CHEQUE_ESPECIAL_12M\",\n      \"properties\": {\n        \"dtype\": \"number\",\n        \"std\": 0,\n        \"min\": 0,\n        \"max\": 7,\n        \"num_unique_values\": 8,\n        \"samples\": [\n          1,\n          5,\n          3\n        ],\n        \"semantic_type\": \"\",\n        \"description\": \"\"\n      }\n    },\n    {\n      \"column\": \"QTDE_PGTOS_EM_ATRASO_12M\",\n      \"properties\": {\n        \"dtype\": \"number\",\n        \"std\": 1,\n        \"min\": 0,\n        \"max\": 19,\n        \"num_unique_values\": 19,\n        \"samples\": [\n          6,\n          0,\n          12\n        ],\n        \"semantic_type\": \"\",\n        \"description\": \"\"\n      }\n    },\n    {\n      \"column\": \"TOTAL_DIAS_ATRASO_12M\",\n      \"properties\": {\n        \"dtype\": \"number\",\n        \"std\": 21,\n        \"min\": 0,\n        \"max\": 249,\n        \"num_unique_values\": 166,\n        \"samples\": [\n          49,\n          94,\n          53\n        ],\n        \"semantic_type\": \"\",\n        \"description\": \"\"\n      }\n    },\n    {\n      \"column\": \"FLAG_PGTO_PARCIAL_12M\",\n      \"properties\": {\n        \"dtype\": \"category\",\n        \"num_unique_values\": 2,\n        \"samples\": [\n          \"Nao\",\n          \"Sim\"\n        ],\n        \"semantic_type\": \"\",\n        \"description\": \"\"\n      }\n    },\n    {\n      \"column\": \"VALOR_PGTOS_12M\",\n      \"properties\": {\n        \"dtype\": \"number\",\n        \"std\": 11272,\n        \"min\": 0,\n        \"max\": 89830,\n        \"num_unique_values\": 13822,\n        \"samples\": [\n          25052,\n          4187\n        ],\n        \"semantic_type\": \"\",\n        \"description\": \"\"\n      }\n    },\n    {\n      \"column\": \"PERC_MEDIO_LIMITE_TOMADO_12M\",\n      \"properties\": {\n        \"dtype\": \"number\",\n        \"std\": 0.2602480559311147,\n        \"min\": 0.0,\n        \"max\": 0.99,\n        \"num_unique_values\": 100,\n        \"samples\": [\n          0.87,\n          0.72\n        ],\n        \"semantic_type\": \"\",\n        \"description\": \"\"\n      }\n    },\n    {\n      \"column\": \"RESPOSTA_MAU_BOM\",\n      \"properties\": {\n        \"dtype\": \"number\",\n        \"std\": 0,\n        \"min\": 0,\n        \"max\": 1,\n        \"num_unique_values\": 2,\n        \"samples\": [\n          0,\n          1\n        ],\n        \"semantic_type\": \"\",\n        \"description\": \"\"\n      }\n    }\n  ]\n}"
            }
          },
          "metadata": {},
          "execution_count": 65
        }
      ],
      "source": [
        "dados.head()"
      ]
    },
    {
      "cell_type": "markdown",
      "metadata": {
        "id": "5VC7IpoA2soL"
      },
      "source": [
        "### **Dimensões da base de dados**"
      ]
    },
    {
      "cell_type": "code",
      "execution_count": 66,
      "metadata": {
        "colab": {
          "base_uri": "https://localhost:8080/"
        },
        "id": "Sq_qAaFU2soM",
        "outputId": "4d5dd44a-01d3-4065-f5ce-221918c4ae08"
      },
      "outputs": [
        {
          "output_type": "execute_result",
          "data": {
            "text/plain": [
              "(18258, 15)"
            ]
          },
          "metadata": {},
          "execution_count": 66
        }
      ],
      "source": [
        "dados.shape"
      ]
    },
    {
      "cell_type": "markdown",
      "metadata": {
        "id": "i6guzACW3Jdh"
      },
      "source": [
        "### **Tipos das colunas da base de dados**"
      ]
    },
    {
      "cell_type": "code",
      "execution_count": 67,
      "metadata": {
        "colab": {
          "base_uri": "https://localhost:8080/",
          "height": 0
        },
        "id": "MXpbc8N43Jdi",
        "outputId": "b04dda59-dd7f-4ec2-8cde-3ea1527907aa"
      },
      "outputs": [
        {
          "output_type": "execute_result",
          "data": {
            "text/plain": [
              "ID                               object\n",
              "SAFRA                            object\n",
              "IDADE                             int64\n",
              "RENDA_MEDIA_MENSAL                int64\n",
              "TOTAL_INVESTIMENTOS               int64\n",
              "QTDE_CONSULTAS_CREDITO_12M        int64\n",
              "QTDE_CARTOES                      int64\n",
              "QTDE_EMPRESTIMOS_12M              int64\n",
              "QTDE_CHEQUE_ESPECIAL_12M          int64\n",
              "QTDE_PGTOS_EM_ATRASO_12M          int64\n",
              "TOTAL_DIAS_ATRASO_12M             int64\n",
              "FLAG_PGTO_PARCIAL_12M            object\n",
              "VALOR_PGTOS_12M                   int64\n",
              "PERC_MEDIO_LIMITE_TOMADO_12M    float64\n",
              "RESPOSTA_MAU_BOM                  int64\n",
              "dtype: object"
            ],
            "text/html": [
              "<div>\n",
              "<style scoped>\n",
              "    .dataframe tbody tr th:only-of-type {\n",
              "        vertical-align: middle;\n",
              "    }\n",
              "\n",
              "    .dataframe tbody tr th {\n",
              "        vertical-align: top;\n",
              "    }\n",
              "\n",
              "    .dataframe thead th {\n",
              "        text-align: right;\n",
              "    }\n",
              "</style>\n",
              "<table border=\"1\" class=\"dataframe\">\n",
              "  <thead>\n",
              "    <tr style=\"text-align: right;\">\n",
              "      <th></th>\n",
              "      <th>0</th>\n",
              "    </tr>\n",
              "  </thead>\n",
              "  <tbody>\n",
              "    <tr>\n",
              "      <th>ID</th>\n",
              "      <td>object</td>\n",
              "    </tr>\n",
              "    <tr>\n",
              "      <th>SAFRA</th>\n",
              "      <td>object</td>\n",
              "    </tr>\n",
              "    <tr>\n",
              "      <th>IDADE</th>\n",
              "      <td>int64</td>\n",
              "    </tr>\n",
              "    <tr>\n",
              "      <th>RENDA_MEDIA_MENSAL</th>\n",
              "      <td>int64</td>\n",
              "    </tr>\n",
              "    <tr>\n",
              "      <th>TOTAL_INVESTIMENTOS</th>\n",
              "      <td>int64</td>\n",
              "    </tr>\n",
              "    <tr>\n",
              "      <th>QTDE_CONSULTAS_CREDITO_12M</th>\n",
              "      <td>int64</td>\n",
              "    </tr>\n",
              "    <tr>\n",
              "      <th>QTDE_CARTOES</th>\n",
              "      <td>int64</td>\n",
              "    </tr>\n",
              "    <tr>\n",
              "      <th>QTDE_EMPRESTIMOS_12M</th>\n",
              "      <td>int64</td>\n",
              "    </tr>\n",
              "    <tr>\n",
              "      <th>QTDE_CHEQUE_ESPECIAL_12M</th>\n",
              "      <td>int64</td>\n",
              "    </tr>\n",
              "    <tr>\n",
              "      <th>QTDE_PGTOS_EM_ATRASO_12M</th>\n",
              "      <td>int64</td>\n",
              "    </tr>\n",
              "    <tr>\n",
              "      <th>TOTAL_DIAS_ATRASO_12M</th>\n",
              "      <td>int64</td>\n",
              "    </tr>\n",
              "    <tr>\n",
              "      <th>FLAG_PGTO_PARCIAL_12M</th>\n",
              "      <td>object</td>\n",
              "    </tr>\n",
              "    <tr>\n",
              "      <th>VALOR_PGTOS_12M</th>\n",
              "      <td>int64</td>\n",
              "    </tr>\n",
              "    <tr>\n",
              "      <th>PERC_MEDIO_LIMITE_TOMADO_12M</th>\n",
              "      <td>float64</td>\n",
              "    </tr>\n",
              "    <tr>\n",
              "      <th>RESPOSTA_MAU_BOM</th>\n",
              "      <td>int64</td>\n",
              "    </tr>\n",
              "  </tbody>\n",
              "</table>\n",
              "</div><br><label><b>dtype:</b> object</label>"
            ]
          },
          "metadata": {},
          "execution_count": 67
        }
      ],
      "source": [
        "dados.dtypes"
      ]
    },
    {
      "cell_type": "markdown",
      "source": [
        "### **Questão 1**"
      ],
      "metadata": {
        "id": "cJypgi7hM83M"
      }
    },
    {
      "cell_type": "markdown",
      "metadata": {
        "id": "xYrxMOz1Xns2"
      },
      "source": [
        "**Etapa 1: Especificação de variáveis e análise bivariada**"
      ]
    },
    {
      "cell_type": "markdown",
      "metadata": {
        "id": "WamLEwijXns2"
      },
      "source": [
        "*Lista de nomes das variáveis explicativas, separando em quantitativas e qualitativas*"
      ]
    },
    {
      "cell_type": "code",
      "execution_count": 68,
      "metadata": {
        "id": "3XYnbB_aXns2"
      },
      "outputs": [],
      "source": [
        "# Variáveis explicativas quantitativas (deixar vazio [] caso não haja nenhuma)\n",
        "lista_X_quanti = [\n",
        "    'IDADE',\n",
        "    'RENDA_MEDIA_MENSAL',\n",
        "    'TOTAL_INVESTIMENTOS',\n",
        "    'QTDE_CONSULTAS_CREDITO_12M',\n",
        "    'QTDE_CARTOES',\n",
        "    'QTDE_EMPRESTIMOS_12M',\n",
        "    'QTDE_CHEQUE_ESPECIAL_12M',\n",
        "    'QTDE_PGTOS_EM_ATRASO_12M',\n",
        "    'TOTAL_DIAS_ATRASO_12M',\n",
        "    'VALOR_PGTOS_12M',\n",
        "    'PERC_MEDIO_LIMITE_TOMADO_12M'\n",
        "]\n",
        "\n",
        "# Variáveis explicativas qualitativas (deixar vazio [] caso não haja nenhuma)\n",
        "lista_X_quali = [\n",
        "    'FLAG_PGTO_PARCIAL_12M'\n",
        "]"
      ]
    },
    {
      "cell_type": "markdown",
      "metadata": {
        "id": "9Fc8SzaNXns2"
      },
      "source": [
        "*Objetos para variável resposta (y) e explicativas (X)*"
      ]
    },
    {
      "cell_type": "code",
      "execution_count": 69,
      "metadata": {
        "id": "YgKsfL8iXns2"
      },
      "outputs": [],
      "source": [
        "y = dados['RESPOSTA_MAU_BOM']\n",
        "X = dados[lista_X_quali + lista_X_quanti]"
      ]
    },
    {
      "cell_type": "markdown",
      "metadata": {
        "id": "3pns1o7BXns2"
      },
      "source": [
        "**Análise univariada: variável resposta**"
      ]
    },
    {
      "cell_type": "code",
      "execution_count": 70,
      "metadata": {
        "colab": {
          "base_uri": "https://localhost:8080/",
          "height": 0
        },
        "id": "65zCKSVNXns2",
        "outputId": "27cfb511-653b-4b89-b79b-5eb610948df7"
      },
      "outputs": [
        {
          "output_type": "execute_result",
          "data": {
            "text/plain": [
              "RESPOSTA_MAU_BOM\n",
              "1    15293\n",
              "0     2965\n",
              "Name: count, dtype: int64"
            ],
            "text/html": [
              "<div>\n",
              "<style scoped>\n",
              "    .dataframe tbody tr th:only-of-type {\n",
              "        vertical-align: middle;\n",
              "    }\n",
              "\n",
              "    .dataframe tbody tr th {\n",
              "        vertical-align: top;\n",
              "    }\n",
              "\n",
              "    .dataframe thead th {\n",
              "        text-align: right;\n",
              "    }\n",
              "</style>\n",
              "<table border=\"1\" class=\"dataframe\">\n",
              "  <thead>\n",
              "    <tr style=\"text-align: right;\">\n",
              "      <th></th>\n",
              "      <th>count</th>\n",
              "    </tr>\n",
              "    <tr>\n",
              "      <th>RESPOSTA_MAU_BOM</th>\n",
              "      <th></th>\n",
              "    </tr>\n",
              "  </thead>\n",
              "  <tbody>\n",
              "    <tr>\n",
              "      <th>1</th>\n",
              "      <td>15293</td>\n",
              "    </tr>\n",
              "    <tr>\n",
              "      <th>0</th>\n",
              "      <td>2965</td>\n",
              "    </tr>\n",
              "  </tbody>\n",
              "</table>\n",
              "</div><br><label><b>dtype:</b> int64</label>"
            ]
          },
          "metadata": {},
          "execution_count": 70
        }
      ],
      "source": [
        "y.value_counts()"
      ]
    },
    {
      "cell_type": "code",
      "execution_count": 71,
      "metadata": {
        "colab": {
          "base_uri": "https://localhost:8080/",
          "height": 0
        },
        "id": "YckYa9ZdXns2",
        "outputId": "daf8111f-99b1-43c3-dfd4-5d1ad4e61575"
      },
      "outputs": [
        {
          "output_type": "execute_result",
          "data": {
            "text/plain": [
              "RESPOSTA_MAU_BOM\n",
              "1   0.838\n",
              "0   0.162\n",
              "Name: proportion, dtype: float64"
            ],
            "text/html": [
              "<div>\n",
              "<style scoped>\n",
              "    .dataframe tbody tr th:only-of-type {\n",
              "        vertical-align: middle;\n",
              "    }\n",
              "\n",
              "    .dataframe tbody tr th {\n",
              "        vertical-align: top;\n",
              "    }\n",
              "\n",
              "    .dataframe thead th {\n",
              "        text-align: right;\n",
              "    }\n",
              "</style>\n",
              "<table border=\"1\" class=\"dataframe\">\n",
              "  <thead>\n",
              "    <tr style=\"text-align: right;\">\n",
              "      <th></th>\n",
              "      <th>proportion</th>\n",
              "    </tr>\n",
              "    <tr>\n",
              "      <th>RESPOSTA_MAU_BOM</th>\n",
              "      <th></th>\n",
              "    </tr>\n",
              "  </thead>\n",
              "  <tbody>\n",
              "    <tr>\n",
              "      <th>1</th>\n",
              "      <td>0.838</td>\n",
              "    </tr>\n",
              "    <tr>\n",
              "      <th>0</th>\n",
              "      <td>0.162</td>\n",
              "    </tr>\n",
              "  </tbody>\n",
              "</table>\n",
              "</div><br><label><b>dtype:</b> float64</label>"
            ]
          },
          "metadata": {},
          "execution_count": 71
        }
      ],
      "source": [
        "y.value_counts(normalize=True)"
      ]
    },
    {
      "cell_type": "markdown",
      "source": [
        "Percebe-se um desbalanceamento da distribuição das categorias na variável resposta."
      ],
      "metadata": {
        "id": "RUXiauwFdnHM"
      }
    },
    {
      "cell_type": "markdown",
      "metadata": {
        "id": "pbI74rg4Xns2"
      },
      "source": [
        "### **Questão 2:** Análise bivariada: gráficos de boxplot para variáveis explicativas quantitativas versus variável resposta"
      ]
    },
    {
      "cell_type": "code",
      "execution_count": 72,
      "metadata": {
        "colab": {
          "base_uri": "https://localhost:8080/",
          "height": 0
        },
        "id": "mWaUorHLXns2",
        "outputId": "ff092e88-63a5-4cc7-b4d7-fbbdc1b15fd1"
      },
      "outputs": [
        {
          "output_type": "display_data",
          "data": {
            "text/plain": [
              "<Figure size 1500x1600 with 11 Axes>"
            ],
            "image/png": "[encoded data removed]"
          },
          "metadata": {}
        }
      ],
      "source": [
        "if lista_X_quanti:\n",
        "    n = len(lista_X_quanti)\n",
        "    ncols = 3\n",
        "    nrows = math.ceil(n / ncols)\n",
        "    fig, axes = plt.subplots(nrows=nrows,\n",
        "                             ncols=ncols,\n",
        "                             figsize=(5 * ncols, 4 * nrows))\n",
        "    axes = axes.flatten()\n",
        "\n",
        "    for i, var in enumerate(lista_X_quanti):\n",
        "        sns.boxplot(y=dados[var],\n",
        "                    x=y,\n",
        "                    ax=axes[i],\n",
        "                    color='darkturquoise')\n",
        "        axes[i].set_title(f'{y.name} vs. \\n{var}')\n",
        "        axes[i].tick_params(axis='x', rotation=0)\n",
        "        axes[i].set_xlabel(\"\")\n",
        "        axes[i].set_ylabel(\"\")\n",
        "\n",
        "    for j in range(i+1, len(axes)):\n",
        "        fig.delaxes(axes[j])\n",
        "\n",
        "    fig.tight_layout(h_pad=2, w_pad=2)\n",
        "    plt.show()"
      ]
    },
    {
      "cell_type": "markdown",
      "metadata": {
        "id": "usx5JZtrXY3p"
      },
      "source": [
        "*Codificação one-hot para variáveis qualitativas*"
      ]
    },
    {
      "cell_type": "code",
      "execution_count": 73,
      "metadata": {
        "id": "P3s1qFDWXY3p"
      },
      "outputs": [],
      "source": [
        "# Criando um objeto da classe OneHotEncoder (dropando a primeira categoria de cada variável)\n",
        "codificador_one_hot = OneHotEncoder(sparse_output=False, drop='first', handle_unknown='ignore')\n",
        "\n",
        "# Criando as variáveis dummies e salvando em um objeto à parte\n",
        "aux_dummies = codificador_one_hot.fit_transform(dados[lista_X_quali])\n",
        "\n",
        "# Criando nomes para as variáveis dummies\n",
        "col_names = codificador_one_hot.get_feature_names_out(lista_X_quali)\n",
        "\n",
        "# Transformando o novo objeto criado em um DataFrame\n",
        "aux_dummies = pd.DataFrame(aux_dummies, columns=col_names, index=dados.index)"
      ]
    },
    {
      "cell_type": "code",
      "execution_count": 74,
      "metadata": {
        "id": "p_tm4rhHXY3p"
      },
      "outputs": [],
      "source": [
        "X = pd.concat([dados[lista_X_quanti], aux_dummies], axis=1)\n",
        "y = dados['RESPOSTA_MAU_BOM']"
      ]
    },
    {
      "cell_type": "markdown",
      "metadata": {
        "id": "Lf_-wfotXns2"
      },
      "source": [
        "*Análise bivariada: gráficos de barras empilhadas 100% para variáveis explicativas qualitativas versus variável resposta*"
      ]
    },
    {
      "cell_type": "code",
      "execution_count": 75,
      "metadata": {
        "colab": {
          "base_uri": "https://localhost:8080/",
          "height": 0
        },
        "id": "PifdKSCTXns2",
        "outputId": "51476e30-2466-47af-a3b6-d89e3859af5b"
      },
      "outputs": [
        {
          "output_type": "display_data",
          "data": {
            "text/plain": [
              "<Figure size 1000x400 with 1 Axes>"
            ],
            "image/png": "[encoded data removed]"
          },
          "metadata": {}
        }
      ],
      "source": [
        "if lista_X_quali:\n",
        "    n = len(lista_X_quali)\n",
        "    ncols = 2\n",
        "    nrows = math.ceil(n / ncols)\n",
        "    fig, axes = plt.subplots(nrows=nrows,\n",
        "                             ncols=ncols,\n",
        "                             figsize=(5 * ncols, 4 * nrows))\n",
        "    axes = axes.flatten()\n",
        "\n",
        "    for i, var in enumerate(lista_X_quali):\n",
        "        ct = pd.crosstab(dados[var], y, normalize='index')\n",
        "        ct.plot(kind='barh',\n",
        "                stacked=True,\n",
        "                ax=axes[i],\n",
        "                color=['lightcoral', 'darkseagreen'],\n",
        "                edgecolor='white')\n",
        "        axes[i].set_title(f'{y.name} vs. \\n{var}')\n",
        "        axes[i].tick_params(axis='x', rotation=0)\n",
        "        axes[i].set_xticks([])\n",
        "        axes[i].set_ylabel(\"\")\n",
        "        for container in axes[i].containers:\n",
        "            axes[i].bar_label(container,\n",
        "                              labels=[f\"{w.get_width()*100:.0f}%\" for w in container],\n",
        "                              label_type='center')\n",
        "        if i != 0:\n",
        "            axes[i].legend_.remove()  # Manter legenda apenas no primeiro gráfico\n",
        "\n",
        "    for j in range(i+1, len(axes)):\n",
        "        fig.delaxes(axes[j])\n",
        "\n",
        "    fig.tight_layout(h_pad=2, w_pad=2)\n",
        "    plt.show()"
      ]
    },
    {
      "cell_type": "markdown",
      "source": [
        "### **Questão 3**: Modelo de regressão logística"
      ],
      "metadata": {
        "id": "mIOwsKP1rDPC"
      }
    },
    {
      "cell_type": "markdown",
      "metadata": {
        "id": "0hzfCO4PtMwC"
      },
      "source": [
        "*Ajuste do modelo 1*"
      ]
    },
    {
      "cell_type": "code",
      "execution_count": 76,
      "metadata": {
        "colab": {
          "base_uri": "https://localhost:8080/"
        },
        "id": "3ahGCeowtMwC",
        "outputId": "7fcee57a-3016-479b-f12c-012b56b4bb79"
      },
      "outputs": [
        {
          "output_type": "stream",
          "name": "stdout",
          "text": [
            "Optimization terminated successfully.\n",
            "         Current function value: 0.421003\n",
            "         Iterations 6\n",
            "                           Logit Regression Results                           \n",
            "==============================================================================\n",
            "Dep. Variable:       RESPOSTA_MAU_BOM   No. Observations:                18258\n",
            "Model:                          Logit   Df Residuals:                    18245\n",
            "Method:                           MLE   Df Model:                           12\n",
            "Date:                Mon, 29 Sep 2025   Pseudo R-squ.:                 0.05098\n",
            "Time:                        18:10:36   Log-Likelihood:                -7686.7\n",
            "converged:                       True   LL-Null:                       -8099.6\n",
            "Covariance Type:            nonrobust   LLR p-value:                4.705e-169\n",
            "================================================================================================\n",
            "                                   coef    std err          z      P>|z|      [0.025      0.975]\n",
            "------------------------------------------------------------------------------------------------\n",
            "const                            2.4960      0.101     24.827      0.000       2.299       2.693\n",
            "IDADE                           -0.0033      0.002     -1.704      0.088      -0.007       0.001\n",
            "RENDA_MEDIA_MENSAL             1.72e-06   3.86e-06      0.445      0.656   -5.85e-06    9.29e-06\n",
            "TOTAL_INVESTIMENTOS           2.025e-06   7.43e-07      2.727      0.006     5.7e-07    3.48e-06\n",
            "QTDE_CONSULTAS_CREDITO_12M       0.0006      0.017      0.034      0.973      -0.033       0.034\n",
            "QTDE_CARTOES                     0.0055      0.015      0.370      0.711      -0.024       0.035\n",
            "QTDE_EMPRESTIMOS_12M            -0.3034      0.030     -9.969      0.000      -0.363      -0.244\n",
            "QTDE_CHEQUE_ESPECIAL_12M        -0.1689      0.027     -6.290      0.000      -0.222      -0.116\n",
            "QTDE_PGTOS_EM_ATRASO_12M        -0.1052      0.012     -8.693      0.000      -0.129      -0.081\n",
            "TOTAL_DIAS_ATRASO_12M           -0.0009      0.001     -0.707      0.480      -0.003       0.002\n",
            "VALOR_PGTOS_12M               1.643e-05   1.97e-06      8.337      0.000    1.26e-05    2.03e-05\n",
            "PERC_MEDIO_LIMITE_TOMADO_12M     0.0147      0.082      0.178      0.859      -0.147       0.176\n",
            "FLAG_PGTO_PARCIAL_12M_Sim       -0.5378      0.057     -9.490      0.000      -0.649      -0.427\n",
            "================================================================================================\n"
          ]
        }
      ],
      "source": [
        "modelo_1 = sm.Logit(y, sm.add_constant(X)).fit()\n",
        "print(modelo_1.summary())"
      ]
    },
    {
      "cell_type": "code",
      "source": [
        "#Considerando o nível de confiança de 95% (p<=0.05), vamos remover a variável com maior p-valor QTDE_CONSULTAS_CREDITO_12M\n",
        "X = X.drop(['QTDE_CONSULTAS_CREDITO_12M'], axis=1)\n",
        "modelo_2 = sm.Logit(y, sm.add_constant(X)).fit()\n",
        "print(modelo_2.summary())"
      ],
      "metadata": {
        "colab": {
          "base_uri": "https://localhost:8080/"
        },
        "id": "U6dbB59JtlE_",
        "outputId": "28fc76a0-edbd-4e16-ca2a-0a6f9705a382"
      },
      "execution_count": 77,
      "outputs": [
        {
          "output_type": "stream",
          "name": "stdout",
          "text": [
            "Optimization terminated successfully.\n",
            "         Current function value: 0.421003\n",
            "         Iterations 6\n",
            "                           Logit Regression Results                           \n",
            "==============================================================================\n",
            "Dep. Variable:       RESPOSTA_MAU_BOM   No. Observations:                18258\n",
            "Model:                          Logit   Df Residuals:                    18246\n",
            "Method:                           MLE   Df Model:                           11\n",
            "Date:                Mon, 29 Sep 2025   Pseudo R-squ.:                 0.05098\n",
            "Time:                        18:10:36   Log-Likelihood:                -7686.7\n",
            "converged:                       True   LL-Null:                       -8099.6\n",
            "Covariance Type:            nonrobust   LLR p-value:                5.305e-170\n",
            "================================================================================================\n",
            "                                   coef    std err          z      P>|z|      [0.025      0.975]\n",
            "------------------------------------------------------------------------------------------------\n",
            "const                            2.4956      0.100     24.995      0.000       2.300       2.691\n",
            "IDADE                           -0.0033      0.002     -1.704      0.088      -0.007       0.001\n",
            "RENDA_MEDIA_MENSAL            1.732e-06   3.85e-06      0.450      0.653   -5.81e-06    9.28e-06\n",
            "TOTAL_INVESTIMENTOS           2.033e-06   7.09e-07      2.867      0.004    6.43e-07    3.42e-06\n",
            "QTDE_CARTOES                     0.0055      0.015      0.372      0.710      -0.024       0.035\n",
            "QTDE_EMPRESTIMOS_12M            -0.3034      0.030     -9.971      0.000      -0.363      -0.244\n",
            "QTDE_CHEQUE_ESPECIAL_12M        -0.1685      0.024     -7.064      0.000      -0.215      -0.122\n",
            "QTDE_PGTOS_EM_ATRASO_12M        -0.1052      0.012     -8.694      0.000      -0.129      -0.081\n",
            "TOTAL_DIAS_ATRASO_12M           -0.0009      0.001     -0.706      0.480      -0.003       0.002\n",
            "VALOR_PGTOS_12M               1.644e-05   1.97e-06      8.338      0.000    1.26e-05    2.03e-05\n",
            "PERC_MEDIO_LIMITE_TOMADO_12M     0.0145      0.082      0.177      0.860      -0.147       0.176\n",
            "FLAG_PGTO_PARCIAL_12M_Sim       -0.5377      0.057     -9.496      0.000      -0.649      -0.427\n",
            "================================================================================================\n"
          ]
        }
      ]
    },
    {
      "cell_type": "code",
      "source": [
        "#Considerando o nível de confiança de 95% (p<=0.05), vamos remover a variável com maior p-valor PERC_MEDIO_LIMITE_TOMADO_12M\n",
        "X = X.drop(['PERC_MEDIO_LIMITE_TOMADO_12M'], axis=1)\n",
        "modelo_3 = sm.Logit(y, sm.add_constant(X)).fit()\n",
        "print(modelo_3.summary())"
      ],
      "metadata": {
        "colab": {
          "base_uri": "https://localhost:8080/"
        },
        "id": "yPnA3UT1t_yp",
        "outputId": "19d3defe-89ec-4ad4-eea1-6b98a4cd9d9c"
      },
      "execution_count": 78,
      "outputs": [
        {
          "output_type": "stream",
          "name": "stdout",
          "text": [
            "Optimization terminated successfully.\n",
            "         Current function value: 0.421004\n",
            "         Iterations 6\n",
            "                           Logit Regression Results                           \n",
            "==============================================================================\n",
            "Dep. Variable:       RESPOSTA_MAU_BOM   No. Observations:                18258\n",
            "Model:                          Logit   Df Residuals:                    18247\n",
            "Method:                           MLE   Df Model:                           10\n",
            "Date:                Mon, 29 Sep 2025   Pseudo R-squ.:                 0.05098\n",
            "Time:                        18:10:36   Log-Likelihood:                -7686.7\n",
            "converged:                       True   LL-Null:                       -8099.6\n",
            "Covariance Type:            nonrobust   LLR p-value:                5.776e-171\n",
            "=============================================================================================\n",
            "                                coef    std err          z      P>|z|      [0.025      0.975]\n",
            "---------------------------------------------------------------------------------------------\n",
            "const                         2.5011      0.095     26.352      0.000       2.315       2.687\n",
            "IDADE                        -0.0033      0.002     -1.706      0.088      -0.007       0.000\n",
            "RENDA_MEDIA_MENSAL         1.738e-06   3.85e-06      0.452      0.652   -5.81e-06    9.28e-06\n",
            "TOTAL_INVESTIMENTOS        2.033e-06   7.09e-07      2.868      0.004    6.44e-07    3.42e-06\n",
            "QTDE_CARTOES                  0.0056      0.015      0.374      0.709      -0.024       0.035\n",
            "QTDE_EMPRESTIMOS_12M         -0.3033      0.030     -9.970      0.000      -0.363      -0.244\n",
            "QTDE_CHEQUE_ESPECIAL_12M     -0.1692      0.024     -7.180      0.000      -0.215      -0.123\n",
            "QTDE_PGTOS_EM_ATRASO_12M     -0.1052      0.012     -8.693      0.000      -0.129      -0.081\n",
            "TOTAL_DIAS_ATRASO_12M        -0.0009      0.001     -0.707      0.480      -0.003       0.002\n",
            "VALOR_PGTOS_12M            1.644e-05   1.97e-06      8.341      0.000    1.26e-05    2.03e-05\n",
            "FLAG_PGTO_PARCIAL_12M_Sim    -0.5379      0.057     -9.501      0.000      -0.649      -0.427\n",
            "=============================================================================================\n"
          ]
        }
      ]
    },
    {
      "cell_type": "code",
      "source": [
        "#Considerando o nível de confiança de 95% (p<=0.05), vamos remover a variável com maior p-valor QTDE_CARTOES\n",
        "X = X.drop(['QTDE_CARTOES'], axis=1)\n",
        "modelo_4 = sm.Logit(y, sm.add_constant(X)).fit()\n",
        "print(modelo_4.summary())"
      ],
      "metadata": {
        "colab": {
          "base_uri": "https://localhost:8080/"
        },
        "id": "OmzN_Wo6uIhh",
        "outputId": "b655701c-2890-4602-c87c-4fca0078c57a"
      },
      "execution_count": 79,
      "outputs": [
        {
          "output_type": "stream",
          "name": "stdout",
          "text": [
            "Optimization terminated successfully.\n",
            "         Current function value: 0.421008\n",
            "         Iterations 6\n",
            "                           Logit Regression Results                           \n",
            "==============================================================================\n",
            "Dep. Variable:       RESPOSTA_MAU_BOM   No. Observations:                18258\n",
            "Model:                          Logit   Df Residuals:                    18248\n",
            "Method:                           MLE   Df Model:                            9\n",
            "Date:                Mon, 29 Sep 2025   Pseudo R-squ.:                 0.05097\n",
            "Time:                        18:10:36   Log-Likelihood:                -7686.8\n",
            "converged:                       True   LL-Null:                       -8099.6\n",
            "Covariance Type:            nonrobust   LLR p-value:                6.278e-172\n",
            "=============================================================================================\n",
            "                                coef    std err          z      P>|z|      [0.025      0.975]\n",
            "---------------------------------------------------------------------------------------------\n",
            "const                         2.5092      0.092     27.159      0.000       2.328       2.690\n",
            "IDADE                        -0.0034      0.002     -1.708      0.088      -0.007       0.000\n",
            "RENDA_MEDIA_MENSAL         1.899e-06   3.83e-06      0.496      0.620    -5.6e-06     9.4e-06\n",
            "TOTAL_INVESTIMENTOS        2.029e-06   7.09e-07      2.863      0.004     6.4e-07    3.42e-06\n",
            "QTDE_EMPRESTIMOS_12M         -0.3004      0.029    -10.234      0.000      -0.358      -0.243\n",
            "QTDE_CHEQUE_ESPECIAL_12M     -0.1684      0.023     -7.174      0.000      -0.214      -0.122\n",
            "QTDE_PGTOS_EM_ATRASO_12M     -0.1046      0.012     -8.718      0.000      -0.128      -0.081\n",
            "TOTAL_DIAS_ATRASO_12M        -0.0008      0.001     -0.664      0.506      -0.003       0.002\n",
            "VALOR_PGTOS_12M            1.648e-05   1.97e-06      8.372      0.000    1.26e-05    2.03e-05\n",
            "FLAG_PGTO_PARCIAL_12M_Sim    -0.5340      0.056     -9.591      0.000      -0.643      -0.425\n",
            "=============================================================================================\n"
          ]
        }
      ]
    },
    {
      "cell_type": "code",
      "source": [
        "#Considerando o nível de confiança de 95% (p<=0.05), vamos remover a variável com maior p-valor RENDA_MEDIA_MENSAL\n",
        "X = X.drop(['RENDA_MEDIA_MENSAL'], axis=1)\n",
        "modelo_5 = sm.Logit(y, sm.add_constant(X)).fit()\n",
        "print(modelo_5.summary())"
      ],
      "metadata": {
        "colab": {
          "base_uri": "https://localhost:8080/"
        },
        "id": "uASW5YhiuZ_h",
        "outputId": "b6ecede4-a279-480b-bd17-706e65418302"
      },
      "execution_count": 80,
      "outputs": [
        {
          "output_type": "stream",
          "name": "stdout",
          "text": [
            "Optimization terminated successfully.\n",
            "         Current function value: 0.421015\n",
            "         Iterations 6\n",
            "                           Logit Regression Results                           \n",
            "==============================================================================\n",
            "Dep. Variable:       RESPOSTA_MAU_BOM   No. Observations:                18258\n",
            "Model:                          Logit   Df Residuals:                    18249\n",
            "Method:                           MLE   Df Model:                            8\n",
            "Date:                Mon, 29 Sep 2025   Pseudo R-squ.:                 0.05096\n",
            "Time:                        18:10:36   Log-Likelihood:                -7686.9\n",
            "converged:                       True   LL-Null:                       -8099.6\n",
            "Covariance Type:            nonrobust   LLR p-value:                6.763e-173\n",
            "=============================================================================================\n",
            "                                coef    std err          z      P>|z|      [0.025      0.975]\n",
            "---------------------------------------------------------------------------------------------\n",
            "const                         2.5221      0.089     28.437      0.000       2.348       2.696\n",
            "IDADE                        -0.0034      0.002     -1.712      0.087      -0.007       0.000\n",
            "TOTAL_INVESTIMENTOS        2.101e-06   6.95e-07      3.025      0.002     7.4e-07    3.46e-06\n",
            "QTDE_EMPRESTIMOS_12M         -0.2996      0.029    -10.222      0.000      -0.357      -0.242\n",
            "QTDE_CHEQUE_ESPECIAL_12M     -0.1680      0.023     -7.162      0.000      -0.214      -0.122\n",
            "QTDE_PGTOS_EM_ATRASO_12M     -0.1045      0.012     -8.714      0.000      -0.128      -0.081\n",
            "TOTAL_DIAS_ATRASO_12M        -0.0008      0.001     -0.652      0.514      -0.003       0.002\n",
            "VALOR_PGTOS_12M            1.652e-05   1.97e-06      8.401      0.000    1.27e-05    2.04e-05\n",
            "FLAG_PGTO_PARCIAL_12M_Sim    -0.5321      0.056     -9.579      0.000      -0.641      -0.423\n",
            "=============================================================================================\n"
          ]
        }
      ]
    },
    {
      "cell_type": "code",
      "source": [
        "#Considerando o nível de confiança de 95% (p<=0.05), vamos remover a variável com maior p-valor TOTAL_DIAS_ATRASO_12M\n",
        "X = X.drop(['TOTAL_DIAS_ATRASO_12M'], axis=1)\n",
        "modelo_6 = sm.Logit(y, sm.add_constant(X)).fit()\n",
        "print(modelo_6.summary())"
      ],
      "metadata": {
        "colab": {
          "base_uri": "https://localhost:8080/"
        },
        "id": "028GmsIGugk7",
        "outputId": "39ce261c-72e3-43f8-d2af-17d607f7640c"
      },
      "execution_count": 81,
      "outputs": [
        {
          "output_type": "stream",
          "name": "stdout",
          "text": [
            "Optimization terminated successfully.\n",
            "         Current function value: 0.421026\n",
            "         Iterations 6\n",
            "                           Logit Regression Results                           \n",
            "==============================================================================\n",
            "Dep. Variable:       RESPOSTA_MAU_BOM   No. Observations:                18258\n",
            "Model:                          Logit   Df Residuals:                    18250\n",
            "Method:                           MLE   Df Model:                            7\n",
            "Date:                Mon, 29 Sep 2025   Pseudo R-squ.:                 0.05093\n",
            "Time:                        18:10:37   Log-Likelihood:                -7687.1\n",
            "converged:                       True   LL-Null:                       -8099.6\n",
            "Covariance Type:            nonrobust   LLR p-value:                7.410e-174\n",
            "=============================================================================================\n",
            "                                coef    std err          z      P>|z|      [0.025      0.975]\n",
            "---------------------------------------------------------------------------------------------\n",
            "const                         2.5249      0.089     28.502      0.000       2.351       2.699\n",
            "IDADE                        -0.0033      0.002     -1.703      0.088      -0.007       0.001\n",
            "TOTAL_INVESTIMENTOS        2.117e-06   6.94e-07      3.048      0.002    7.56e-07    3.48e-06\n",
            "QTDE_EMPRESTIMOS_12M         -0.3094      0.025    -12.340      0.000      -0.359      -0.260\n",
            "QTDE_CHEQUE_ESPECIAL_12M     -0.1690      0.023     -7.226      0.000      -0.215      -0.123\n",
            "QTDE_PGTOS_EM_ATRASO_12M     -0.1078      0.011     -9.864      0.000      -0.129      -0.086\n",
            "VALOR_PGTOS_12M            1.651e-05   1.97e-06      8.392      0.000    1.27e-05    2.04e-05\n",
            "FLAG_PGTO_PARCIAL_12M_Sim    -0.5357      0.055     -9.692      0.000      -0.644      -0.427\n",
            "=============================================================================================\n"
          ]
        }
      ]
    },
    {
      "cell_type": "code",
      "source": [
        "#Considerando o nível de confiança de 95% (p<=0.05), vamos remover a variável com maior p-valor IDADE\n",
        "X = X.drop(['IDADE'], axis=1)\n",
        "modelo_7 = sm.Logit(y, sm.add_constant(X)).fit()\n",
        "print(modelo_7.summary())"
      ],
      "metadata": {
        "colab": {
          "base_uri": "https://localhost:8080/"
        },
        "id": "wA0xUi-Runea",
        "outputId": "a808e1d5-5fbb-4348-de52-e6e0f370362d"
      },
      "execution_count": 82,
      "outputs": [
        {
          "output_type": "stream",
          "name": "stdout",
          "text": [
            "Optimization terminated successfully.\n",
            "         Current function value: 0.421105\n",
            "         Iterations 6\n",
            "                           Logit Regression Results                           \n",
            "==============================================================================\n",
            "Dep. Variable:       RESPOSTA_MAU_BOM   No. Observations:                18258\n",
            "Model:                          Logit   Df Residuals:                    18251\n",
            "Method:                           MLE   Df Model:                            6\n",
            "Date:                Mon, 29 Sep 2025   Pseudo R-squ.:                 0.05075\n",
            "Time:                        18:10:37   Log-Likelihood:                -7688.5\n",
            "converged:                       True   LL-Null:                       -8099.6\n",
            "Covariance Type:            nonrobust   LLR p-value:                2.538e-174\n",
            "=============================================================================================\n",
            "                                coef    std err          z      P>|z|      [0.025      0.975]\n",
            "---------------------------------------------------------------------------------------------\n",
            "const                         2.4070      0.055     43.840      0.000       2.299       2.515\n",
            "TOTAL_INVESTIMENTOS        2.126e-06   6.94e-07      3.063      0.002    7.66e-07    3.49e-06\n",
            "QTDE_EMPRESTIMOS_12M         -0.3098      0.025    -12.356      0.000      -0.359      -0.261\n",
            "QTDE_CHEQUE_ESPECIAL_12M     -0.1690      0.023     -7.225      0.000      -0.215      -0.123\n",
            "QTDE_PGTOS_EM_ATRASO_12M     -0.1078      0.011     -9.873      0.000      -0.129      -0.086\n",
            "VALOR_PGTOS_12M            1.653e-05   1.97e-06      8.403      0.000    1.27e-05    2.04e-05\n",
            "FLAG_PGTO_PARCIAL_12M_Sim    -0.5352      0.055     -9.683      0.000      -0.644      -0.427\n",
            "=============================================================================================\n"
          ]
        }
      ]
    },
    {
      "cell_type": "markdown",
      "metadata": {
        "id": "bfbKAZExXY3q"
      },
      "source": [
        "*Avaliação de colinearidade no modelo*"
      ]
    },
    {
      "cell_type": "code",
      "execution_count": 83,
      "metadata": {
        "colab": {
          "base_uri": "https://localhost:8080/"
        },
        "id": "JoF1WmZyXY3q",
        "outputId": "576966ad-3d8a-4426-f317-28abf9b4faf6"
      },
      "outputs": [
        {
          "output_type": "stream",
          "name": "stdout",
          "text": [
            "                    Variável   VIF\n",
            "0                      const 5.899\n",
            "1        TOTAL_INVESTIMENTOS 1.014\n",
            "2       QTDE_EMPRESTIMOS_12M 1.284\n",
            "3   QTDE_CHEQUE_ESPECIAL_12M 1.186\n",
            "4   QTDE_PGTOS_EM_ATRASO_12M 1.247\n",
            "5            VALOR_PGTOS_12M 1.274\n",
            "6  FLAG_PGTO_PARCIAL_12M_Sim 1.441\n"
          ]
        }
      ],
      "source": [
        "modelo = modelo_7\n",
        "vif = pd.DataFrame({\n",
        "    \"Variável\": modelo.model.exog_names,\n",
        "    \"VIF\": [variance_inflation_factor(modelo.model.exog, i) for i in range(modelo.model.exog.shape[1])]\n",
        "})\n",
        "\n",
        "print(vif)"
      ]
    },
    {
      "cell_type": "markdown",
      "source": [
        "### **Questão 4**: Avaliação de desempenho do modelo de regressão logística"
      ],
      "metadata": {
        "id": "tHwrRQ8XNM-b"
      }
    },
    {
      "cell_type": "markdown",
      "metadata": {
        "id": "DJmIGrd8XY3t"
      },
      "source": [
        "*Aplicação do modelo na base*"
      ]
    },
    {
      "cell_type": "code",
      "execution_count": 84,
      "metadata": {
        "id": "wU57jaJZXY3t"
      },
      "outputs": [],
      "source": [
        "dados['Probabilidade'] = modelo.predict()"
      ]
    },
    {
      "cell_type": "markdown",
      "metadata": {
        "id": "ZdC5KRDuXY3t"
      },
      "source": [
        "*Definição de ponto de corte (padrão: % de 1's na amostra - Bons pagadores)*"
      ]
    },
    {
      "cell_type": "code",
      "execution_count": 85,
      "metadata": {
        "id": "L5infBm6XY3t",
        "colab": {
          "base_uri": "https://localhost:8080/"
        },
        "outputId": "d9d7be36-566c-4345-d583-4dcb8a85d41f"
      },
      "outputs": [
        {
          "output_type": "execute_result",
          "data": {
            "text/plain": [
              "np.float64(0.8376054332347465)"
            ]
          },
          "metadata": {},
          "execution_count": 85
        }
      ],
      "source": [
        "ponto_corte = dados['RESPOSTA_MAU_BOM'].mean()\n",
        "ponto_corte"
      ]
    },
    {
      "cell_type": "markdown",
      "metadata": {
        "id": "gLBYyA8gXY3t"
      },
      "source": [
        "*Atribuição da resposta predita pelo modelo*"
      ]
    },
    {
      "cell_type": "code",
      "execution_count": 86,
      "metadata": {
        "id": "vXxtbuNqXY3t"
      },
      "outputs": [],
      "source": [
        "dados['Predito'] = (dados['Probabilidade'] > ponto_corte).astype(int)"
      ]
    },
    {
      "cell_type": "markdown",
      "metadata": {
        "id": "l82_95h3JsBP"
      },
      "source": [
        "Análise de desempenho"
      ]
    },
    {
      "cell_type": "markdown",
      "metadata": {
        "id": "gZKs8KL9XY3u"
      },
      "source": [
        "*Tabela de classificação*"
      ]
    },
    {
      "cell_type": "code",
      "execution_count": 87,
      "metadata": {
        "id": "LhRKYIhZXY3u",
        "colab": {
          "base_uri": "https://localhost:8080/",
          "height": 143
        },
        "outputId": "a31e9811-3018-4a9e-b0cd-0a3cf1faf75f"
      },
      "outputs": [
        {
          "output_type": "execute_result",
          "data": {
            "text/plain": [
              "Predito              0     1\n",
              "RESPOSTA_MAU_BOM            \n",
              "0                 1737  1228\n",
              "1                 5329  9964"
            ],
            "text/html": [
              "\n",
              "  <div id=\"df-0be1f23d-ba55-49af-8cda-0ce9b030288d\" class=\"colab-df-container\">\n",
              "    <div>\n",
              "<style scoped>\n",
              "    .dataframe tbody tr th:only-of-type {\n",
              "        vertical-align: middle;\n",
              "    }\n",
              "\n",
              "    .dataframe tbody tr th {\n",
              "        vertical-align: top;\n",
              "    }\n",
              "\n",
              "    .dataframe thead th {\n",
              "        text-align: right;\n",
              "    }\n",
              "</style>\n",
              "<table border=\"1\" class=\"dataframe\">\n",
              "  <thead>\n",
              "    <tr style=\"text-align: right;\">\n",
              "      <th>Predito</th>\n",
              "      <th>0</th>\n",
              "      <th>1</th>\n",
              "    </tr>\n",
              "    <tr>\n",
              "      <th>RESPOSTA_MAU_BOM</th>\n",
              "      <th></th>\n",
              "      <th></th>\n",
              "    </tr>\n",
              "  </thead>\n",
              "  <tbody>\n",
              "    <tr>\n",
              "      <th>0</th>\n",
              "      <td>1737</td>\n",
              "      <td>1228</td>\n",
              "    </tr>\n",
              "    <tr>\n",
              "      <th>1</th>\n",
              "      <td>5329</td>\n",
              "      <td>9964</td>\n",
              "    </tr>\n",
              "  </tbody>\n",
              "</table>\n",
              "</div>\n",
              "    <div class=\"colab-df-buttons\">\n",
              "\n",
              "  <div class=\"colab-df-container\">\n",
              "    <button class=\"colab-df-convert\" onclick=\"convertToInteractive('df-0be1f23d-ba55-49af-8cda-0ce9b030288d')\"\n",
              "            title=\"Convert this dataframe to an interactive table.\"\n",
              "            style=\"display:none;\">\n",
              "\n",
              "  <svg xmlns=\"http://www.w3.org/2000/svg\" height=\"24px\" viewBox=\"0 -960 960 960\">\n",
              "    <path d=\"M120-120v-720h720v720H120Zm60-500h600v-160H180v160Zm220 220h160v-160H400v160Zm0 220h160v-160H400v160ZM180-400h160v-160H180v160Zm440 0h160v-160H620v160ZM180-180h160v-160H180v160Zm440 0h160v-160H620v160Z\"/>\n",
              "  </svg>\n",
              "    </button>\n",
              "\n",
              "  <style>\n",
              "    .colab-df-container {\n",
              "      display:flex;\n",
              "      gap: 12px;\n",
              "    }\n",
              "\n",
              "    .colab-df-convert {\n",
              "      background-color: #E8F0FE;\n",
              "      border: none;\n",
              "      border-radius: 50%;\n",
              "      cursor: pointer;\n",
              "      display: none;\n",
              "      fill: #1967D2;\n",
              "      height: 32px;\n",
              "      padding: 0 0 0 0;\n",
              "      width: 32px;\n",
              "    }\n",
              "\n",
              "    .colab-df-convert:hover {\n",
              "      background-color: #E2EBFA;\n",
              "      box-shadow: 0px 1px 2px rgba(60, 64, 67, 0.3), 0px 1px 3px 1px rgba(60, 64, 67, 0.15);\n",
              "      fill: #174EA6;\n",
              "    }\n",
              "\n",
              "    .colab-df-buttons div {\n",
              "      margin-bottom: 4px;\n",
              "    }\n",
              "\n",
              "    [theme=dark] .colab-df-convert {\n",
              "      background-color: #3B4455;\n",
              "      fill: #D2E3FC;\n",
              "    }\n",
              "\n",
              "    [theme=dark] .colab-df-convert:hover {\n",
              "      background-color: #434B5C;\n",
              "      box-shadow: 0px 1px 3px 1px rgba(0, 0, 0, 0.15);\n",
              "      filter: drop-shadow(0px 1px 2px rgba(0, 0, 0, 0.3));\n",
              "      fill: #FFFFFF;\n",
              "    }\n",
              "  </style>\n",
              "\n",
              "    <script>\n",
              "      const buttonEl =\n",
              "        document.querySelector('#df-0be1f23d-ba55-49af-8cda-0ce9b030288d button.colab-df-convert');\n",
              "      buttonEl.style.display =\n",
              "        google.colab.kernel.accessAllowed ? 'block' : 'none';\n",
              "\n",
              "      async function convertToInteractive(key) {\n",
              "        const element = document.querySelector('#df-0be1f23d-ba55-49af-8cda-0ce9b030288d');\n",
              "        const dataTable =\n",
              "          await google.colab.kernel.invokeFunction('convertToInteractive',\n",
              "                                                    [key], {});\n",
              "        if (!dataTable) return;\n",
              "\n",
              "        const docLinkHtml = 'Like what you see? Visit the ' +\n",
              "          '<a target=\"_blank\" href=https://colab.research.google.com/notebooks/data_table.ipynb>data table notebook</a>'\n",
              "          + ' to learn more about interactive tables.';\n",
              "        element.innerHTML = '';\n",
              "        dataTable['output_type'] = 'display_data';\n",
              "        await google.colab.output.renderOutput(dataTable, element);\n",
              "        const docLink = document.createElement('div');\n",
              "        docLink.innerHTML = docLinkHtml;\n",
              "        element.appendChild(docLink);\n",
              "      }\n",
              "    </script>\n",
              "  </div>\n",
              "\n",
              "\n",
              "    <div id=\"df-7049977d-6001-489a-bb22-72c823a659c2\">\n",
              "      <button class=\"colab-df-quickchart\" onclick=\"quickchart('df-7049977d-6001-489a-bb22-72c823a659c2')\"\n",
              "                title=\"Suggest charts\"\n",
              "                style=\"display:none;\">\n",
              "\n",
              "<svg xmlns=\"http://www.w3.org/2000/svg\" height=\"24px\"viewBox=\"0 0 24 24\"\n",
              "     width=\"24px\">\n",
              "    <g>\n",
              "        <path d=\"M19 3H5c-1.1 0-2 .9-2 2v14c0 1.1.9 2 2 2h14c1.1 0 2-.9 2-2V5c0-1.1-.9-2-2-2zM9 17H7v-7h2v7zm4 0h-2V7h2v10zm4 0h-2v-4h2v4z\"/>\n",
              "    </g>\n",
              "</svg>\n",
              "      </button>\n",
              "\n",
              "<style>\n",
              "  .colab-df-quickchart {\n",
              "      --bg-color: #E8F0FE;\n",
              "      --fill-color: #1967D2;\n",
              "      --hover-bg-color: #E2EBFA;\n",
              "      --hover-fill-color: #174EA6;\n",
              "      --disabled-fill-color: #AAA;\n",
              "      --disabled-bg-color: #DDD;\n",
              "  }\n",
              "\n",
              "  [theme=dark] .colab-df-quickchart {\n",
              "      --bg-color: #3B4455;\n",
              "      --fill-color: #D2E3FC;\n",
              "      --hover-bg-color: #434B5C;\n",
              "      --hover-fill-color: #FFFFFF;\n",
              "      --disabled-bg-color: #3B4455;\n",
              "      --disabled-fill-color: #666;\n",
              "  }\n",
              "\n",
              "  .colab-df-quickchart {\n",
              "    background-color: var(--bg-color);\n",
              "    border: none;\n",
              "    border-radius: 50%;\n",
              "    cursor: pointer;\n",
              "    display: none;\n",
              "    fill: var(--fill-color);\n",
              "    height: 32px;\n",
              "    padding: 0;\n",
              "    width: 32px;\n",
              "  }\n",
              "\n",
              "  .colab-df-quickchart:hover {\n",
              "    background-color: var(--hover-bg-color);\n",
              "    box-shadow: 0 1px 2px rgba(60, 64, 67, 0.3), 0 1px 3px 1px rgba(60, 64, 67, 0.15);\n",
              "    fill: var(--button-hover-fill-color);\n",
              "  }\n",
              "\n",
              "  .colab-df-quickchart-complete:disabled,\n",
              "  .colab-df-quickchart-complete:disabled:hover {\n",
              "    background-color: var(--disabled-bg-color);\n",
              "    fill: var(--disabled-fill-color);\n",
              "    box-shadow: none;\n",
              "  }\n",
              "\n",
              "  .colab-df-spinner {\n",
              "    border: 2px solid var(--fill-color);\n",
              "    border-color: transparent;\n",
              "    border-bottom-color: var(--fill-color);\n",
              "    animation:\n",
              "      spin 1s steps(1) infinite;\n",
              "  }\n",
              "\n",
              "  @keyframes spin {\n",
              "    0% {\n",
              "      border-color: transparent;\n",
              "      border-bottom-color: var(--fill-color);\n",
              "      border-left-color: var(--fill-color);\n",
              "    }\n",
              "    20% {\n",
              "      border-color: transparent;\n",
              "      border-left-color: var(--fill-color);\n",
              "      border-top-color: var(--fill-color);\n",
              "    }\n",
              "    30% {\n",
              "      border-color: transparent;\n",
              "      border-left-color: var(--fill-color);\n",
              "      border-top-color: var(--fill-color);\n",
              "      border-right-color: var(--fill-color);\n",
              "    }\n",
              "    40% {\n",
              "      border-color: transparent;\n",
              "      border-right-color: var(--fill-color);\n",
              "      border-top-color: var(--fill-color);\n",
              "    }\n",
              "    60% {\n",
              "      border-color: transparent;\n",
              "      border-right-color: var(--fill-color);\n",
              "    }\n",
              "    80% {\n",
              "      border-color: transparent;\n",
              "      border-right-color: var(--fill-color);\n",
              "      border-bottom-color: var(--fill-color);\n",
              "    }\n",
              "    90% {\n",
              "      border-color: transparent;\n",
              "      border-bottom-color: var(--fill-color);\n",
              "    }\n",
              "  }\n",
              "</style>\n",
              "\n",
              "      <script>\n",
              "        async function quickchart(key) {\n",
              "          const quickchartButtonEl =\n",
              "            document.querySelector('#' + key + ' button');\n",
              "          quickchartButtonEl.disabled = true;  // To prevent multiple clicks.\n",
              "          quickchartButtonEl.classList.add('colab-df-spinner');\n",
              "          try {\n",
              "            const charts = await google.colab.kernel.invokeFunction(\n",
              "                'suggestCharts', [key], {});\n",
              "          } catch (error) {\n",
              "            console.error('Error during call to suggestCharts:', error);\n",
              "          }\n",
              "          quickchartButtonEl.classList.remove('colab-df-spinner');\n",
              "          quickchartButtonEl.classList.add('colab-df-quickchart-complete');\n",
              "        }\n",
              "        (() => {\n",
              "          let quickchartButtonEl =\n",
              "            document.querySelector('#df-7049977d-6001-489a-bb22-72c823a659c2 button');\n",
              "          quickchartButtonEl.style.display =\n",
              "            google.colab.kernel.accessAllowed ? 'block' : 'none';\n",
              "        })();\n",
              "      </script>\n",
              "    </div>\n",
              "\n",
              "  <div id=\"id_9733d154-37cf-41ea-8c23-7d477f923ccf\">\n",
              "    <style>\n",
              "      .colab-df-generate {\n",
              "        background-color: #E8F0FE;\n",
              "        border: none;\n",
              "        border-radius: 50%;\n",
              "        cursor: pointer;\n",
              "        display: none;\n",
              "        fill: #1967D2;\n",
              "        height: 32px;\n",
              "        padding: 0 0 0 0;\n",
              "        width: 32px;\n",
              "      }\n",
              "\n",
              "      .colab-df-generate:hover {\n",
              "        background-color: #E2EBFA;\n",
              "        box-shadow: 0px 1px 2px rgba(60, 64, 67, 0.3), 0px 1px 3px 1px rgba(60, 64, 67, 0.15);\n",
              "        fill: #174EA6;\n",
              "      }\n",
              "\n",
              "      [theme=dark] .colab-df-generate {\n",
              "        background-color: #3B4455;\n",
              "        fill: #D2E3FC;\n",
              "      }\n",
              "\n",
              "      [theme=dark] .colab-df-generate:hover {\n",
              "        background-color: #434B5C;\n",
              "        box-shadow: 0px 1px 3px 1px rgba(0, 0, 0, 0.15);\n",
              "        filter: drop-shadow(0px 1px 2px rgba(0, 0, 0, 0.3));\n",
              "        fill: #FFFFFF;\n",
              "      }\n",
              "    </style>\n",
              "    <button class=\"colab-df-generate\" onclick=\"generateWithVariable('tabela')\"\n",
              "            title=\"Generate code using this dataframe.\"\n",
              "            style=\"display:none;\">\n",
              "\n",
              "  <svg xmlns=\"http://www.w3.org/2000/svg\" height=\"24px\"viewBox=\"0 0 24 24\"\n",
              "       width=\"24px\">\n",
              "    <path d=\"M7,19H8.4L18.45,9,17,7.55,7,17.6ZM5,21V16.75L18.45,3.32a2,2,0,0,1,2.83,0l1.4,1.43a1.91,1.91,0,0,1,.58,1.4,1.91,1.91,0,0,1-.58,1.4L9.25,21ZM18.45,9,17,7.55Zm-12,3A5.31,5.31,0,0,0,4.9,8.1,5.31,5.31,0,0,0,1,6.5,5.31,5.31,0,0,0,4.9,4.9,5.31,5.31,0,0,0,6.5,1,5.31,5.31,0,0,0,8.1,4.9,5.31,5.31,0,0,0,12,6.5,5.46,5.46,0,0,0,6.5,12Z\"/>\n",
              "  </svg>\n",
              "    </button>\n",
              "    <script>\n",
              "      (() => {\n",
              "      const buttonEl =\n",
              "        document.querySelector('#id_9733d154-37cf-41ea-8c23-7d477f923ccf button.colab-df-generate');\n",
              "      buttonEl.style.display =\n",
              "        google.colab.kernel.accessAllowed ? 'block' : 'none';\n",
              "\n",
              "      buttonEl.onclick = () => {\n",
              "        google.colab.notebook.generateWithVariable('tabela');\n",
              "      }\n",
              "      })();\n",
              "    </script>\n",
              "  </div>\n",
              "\n",
              "    </div>\n",
              "  </div>\n"
            ],
            "application/vnd.google.colaboratory.intrinsic+json": {
              "type": "dataframe",
              "variable_name": "tabela",
              "summary": "{\n  \"name\": \"tabela\",\n  \"rows\": 2,\n  \"fields\": [\n    {\n      \"column\": \"RESPOSTA_MAU_BOM\",\n      \"properties\": {\n        \"dtype\": \"number\",\n        \"std\": 0,\n        \"min\": 0,\n        \"max\": 1,\n        \"num_unique_values\": 2,\n        \"samples\": [\n          1,\n          0\n        ],\n        \"semantic_type\": \"\",\n        \"description\": \"\"\n      }\n    },\n    {\n      \"column\": 0,\n      \"properties\": {\n        \"dtype\": \"number\",\n        \"std\": 2539,\n        \"min\": 1737,\n        \"max\": 5329,\n        \"num_unique_values\": 2,\n        \"samples\": [\n          5329,\n          1737\n        ],\n        \"semantic_type\": \"\",\n        \"description\": \"\"\n      }\n    },\n    {\n      \"column\": 1,\n      \"properties\": {\n        \"dtype\": \"number\",\n        \"std\": 6177,\n        \"min\": 1228,\n        \"max\": 9964,\n        \"num_unique_values\": 2,\n        \"samples\": [\n          9964,\n          1228\n        ],\n        \"semantic_type\": \"\",\n        \"description\": \"\"\n      }\n    }\n  ]\n}"
            }
          },
          "metadata": {},
          "execution_count": 87
        }
      ],
      "source": [
        "tabela = pd.crosstab(dados['RESPOSTA_MAU_BOM'], dados['Predito'])\n",
        "tabela"
      ]
    },
    {
      "cell_type": "markdown",
      "metadata": {
        "id": "e2uSfVXaXY3u"
      },
      "source": [
        "*Desempenho: acurácia, sensibilidade, especificidade, PPV e NPV*"
      ]
    },
    {
      "cell_type": "code",
      "execution_count": 88,
      "metadata": {
        "id": "GE79lz6lXY3u",
        "colab": {
          "base_uri": "https://localhost:8080/"
        },
        "outputId": "50fd6809-7f14-4703-dfbe-376a27fb5738"
      },
      "outputs": [
        {
          "output_type": "stream",
          "name": "stdout",
          "text": [
            "Acurácia: 0.641\n",
            "Sensibilidade: 0.652\n",
            "Especificidade: 0.586\n",
            "PPV: 0.890\n",
            "NPV: 0.246\n"
          ]
        }
      ],
      "source": [
        "acuracia       = accuracy_score(dados['RESPOSTA_MAU_BOM'], dados['Predito'])\n",
        "tn, fp, fn, tp = confusion_matrix(dados['RESPOSTA_MAU_BOM'], dados['Predito']).ravel()\n",
        "sensibilidade  = tp / (tp + fn)\n",
        "especificidade = tn / (tn + fp)\n",
        "ppv = tp / (tp + fp)\n",
        "npv = tn / (tn + fn)\n",
        "\n",
        "print(f'Acurácia: {acuracia:.3f}')\n",
        "print(f'Sensibilidade: {sensibilidade:.3f}')\n",
        "print(f'Especificidade: {especificidade:.3f}')\n",
        "print(f'PPV: {ppv:.3f}')\n",
        "print(f'NPV: {npv:.3f}')"
      ]
    },
    {
      "cell_type": "code",
      "execution_count": 89,
      "metadata": {
        "id": "WGDgHtPdXY3u",
        "colab": {
          "base_uri": "https://localhost:8080/"
        },
        "outputId": "9a48409f-d73e-4580-e55c-e5682d5c487c"
      },
      "outputs": [
        {
          "output_type": "stream",
          "name": "stdout",
          "text": [
            "KS: 0.239\n"
          ]
        }
      ],
      "source": [
        "# KS\n",
        "fpr, tpr, _ = roc_curve(dados['RESPOSTA_MAU_BOM'], dados['Probabilidade'])\n",
        "ks = np.max(tpr - fpr)\n",
        "print(f'KS: {ks:.3f}')"
      ]
    },
    {
      "cell_type": "code",
      "execution_count": 90,
      "metadata": {
        "id": "hfCqxgtyXY3u",
        "colab": {
          "base_uri": "https://localhost:8080/"
        },
        "outputId": "45ca532b-1ac1-4da8-fe44-2049c53993d0"
      },
      "outputs": [
        {
          "output_type": "stream",
          "name": "stdout",
          "text": [
            "AUC: 0.656\n"
          ]
        }
      ],
      "source": [
        "# AUC\n",
        "auc = roc_auc_score(dados['RESPOSTA_MAU_BOM'], dados['Probabilidade'])\n",
        "print(f'AUC: {auc:.3f}')"
      ]
    },
    {
      "cell_type": "code",
      "execution_count": 91,
      "metadata": {
        "id": "DcUx6gbpXY3u",
        "colab": {
          "base_uri": "https://localhost:8080/",
          "height": 472
        },
        "outputId": "0518c91e-1e83-4f69-da78-537b5e5fe442"
      },
      "outputs": [
        {
          "output_type": "display_data",
          "data": {
            "text/plain": [
              "<Figure size 640x480 with 1 Axes>"
            ],
            "image/png": "[encoded data removed]"
          },
          "metadata": {}
        }
      ],
      "source": [
        "# Exibição da curva ROC\n",
        "plt.figure()\n",
        "plt.plot(fpr, tpr, color='darkturquoise', lw=2, label='Curva ROC (AUC = %0.3f)' % auc)\n",
        "plt.plot([0, 1], [0, 1], color='gray', lw=2, linestyle='--')\n",
        "plt.xlim([0.0, 1.0])\n",
        "plt.ylim([0.0, 1.05])\n",
        "plt.xlabel('1 - Especificidade')\n",
        "plt.ylabel('Sensibilidade')\n",
        "plt.title('Curva ROC')\n",
        "plt.legend(loc=\"lower right\")\n",
        "plt.show()"
      ]
    },
    {
      "cell_type": "markdown",
      "source": [
        "### **Questão 5**: Construção de modelos de árvore de decisão"
      ],
      "metadata": {
        "id": "KpGZliOrGwZj"
      }
    },
    {
      "cell_type": "markdown",
      "source": [
        "Recarregando dados para construção dos modelos de árvore"
      ],
      "metadata": {
        "id": "-QccN0A7MR8f"
      }
    },
    {
      "cell_type": "markdown",
      "metadata": {
        "id": "Cl2RpfLZMpXc"
      },
      "source": [
        "*Lista de nomes das variáveis explicativas, separando em quantitativas e qualitativas*"
      ]
    },
    {
      "cell_type": "code",
      "execution_count": 92,
      "metadata": {
        "id": "Seb1KGeVMpXc"
      },
      "outputs": [],
      "source": [
        "# Variáveis explicativas quantitativas (deixar vazio [] caso não haja nenhuma)\n",
        "lista_X_quanti = [\n",
        "    'IDADE',\n",
        "    'RENDA_MEDIA_MENSAL',\n",
        "    'TOTAL_INVESTIMENTOS',\n",
        "    'QTDE_CONSULTAS_CREDITO_12M',\n",
        "    'QTDE_CARTOES',\n",
        "    'QTDE_EMPRESTIMOS_12M',\n",
        "    'QTDE_CHEQUE_ESPECIAL_12M',\n",
        "    'QTDE_PGTOS_EM_ATRASO_12M',\n",
        "    'TOTAL_DIAS_ATRASO_12M',\n",
        "    'VALOR_PGTOS_12M',\n",
        "    'PERC_MEDIO_LIMITE_TOMADO_12M'\n",
        "]\n",
        "\n",
        "# Variáveis explicativas qualitativas (deixar vazio [] caso não haja nenhuma)\n",
        "lista_X_quali = [\n",
        "    'FLAG_PGTO_PARCIAL_12M'\n",
        "]"
      ]
    },
    {
      "cell_type": "markdown",
      "metadata": {
        "id": "hIvO6IHpMpXc"
      },
      "source": [
        "*Objetos para variável resposta (y) e explicativas (X)*"
      ]
    },
    {
      "cell_type": "code",
      "execution_count": 93,
      "metadata": {
        "id": "xkkMTmy9MpXc"
      },
      "outputs": [],
      "source": [
        "y = dados['RESPOSTA_MAU_BOM']\n",
        "X = dados[lista_X_quali + lista_X_quanti]"
      ]
    },
    {
      "cell_type": "markdown",
      "metadata": {
        "id": "epDpPsUAXns2"
      },
      "source": [
        "**Divisão de treino e teste externo**"
      ]
    },
    {
      "cell_type": "markdown",
      "metadata": {
        "id": "HNpqS02zXns2"
      },
      "source": [
        "*Divisão inicial*"
      ]
    },
    {
      "cell_type": "code",
      "execution_count": 94,
      "metadata": {
        "id": "4s_C0sZXXns2"
      },
      "outputs": [],
      "source": [
        "X_treino, X_teste, y_treino, y_teste = train_test_split(X, y,\n",
        "                                                        test_size=0.2,\n",
        "                                                        stratify=y,\n",
        "                                                        random_state=123)"
      ]
    },
    {
      "cell_type": "code",
      "source": [
        "y_treino.value_counts()"
      ],
      "metadata": {
        "colab": {
          "base_uri": "https://localhost:8080/",
          "height": 178
        },
        "id": "zIkAcSAdqJ3T",
        "outputId": "12b34080-3812-402f-cc56-3349d88dee5d"
      },
      "execution_count": 95,
      "outputs": [
        {
          "output_type": "execute_result",
          "data": {
            "text/plain": [
              "RESPOSTA_MAU_BOM\n",
              "1    12234\n",
              "0     2372\n",
              "Name: count, dtype: int64"
            ],
            "text/html": [
              "<div>\n",
              "<style scoped>\n",
              "    .dataframe tbody tr th:only-of-type {\n",
              "        vertical-align: middle;\n",
              "    }\n",
              "\n",
              "    .dataframe tbody tr th {\n",
              "        vertical-align: top;\n",
              "    }\n",
              "\n",
              "    .dataframe thead th {\n",
              "        text-align: right;\n",
              "    }\n",
              "</style>\n",
              "<table border=\"1\" class=\"dataframe\">\n",
              "  <thead>\n",
              "    <tr style=\"text-align: right;\">\n",
              "      <th></th>\n",
              "      <th>count</th>\n",
              "    </tr>\n",
              "    <tr>\n",
              "      <th>RESPOSTA_MAU_BOM</th>\n",
              "      <th></th>\n",
              "    </tr>\n",
              "  </thead>\n",
              "  <tbody>\n",
              "    <tr>\n",
              "      <th>1</th>\n",
              "      <td>12234</td>\n",
              "    </tr>\n",
              "    <tr>\n",
              "      <th>0</th>\n",
              "      <td>2372</td>\n",
              "    </tr>\n",
              "  </tbody>\n",
              "</table>\n",
              "</div><br><label><b>dtype:</b> int64</label>"
            ]
          },
          "metadata": {},
          "execution_count": 95
        }
      ]
    },
    {
      "cell_type": "markdown",
      "metadata": {
        "id": "WTHnvgcMpQS0"
      },
      "source": [
        "**Pré-processamento de variáveis explicativas**"
      ]
    },
    {
      "cell_type": "markdown",
      "metadata": {
        "id": "aoh2KKxBpQS0"
      },
      "source": [
        "*Definição das funções de pré-processamento: Padronização das variáveis quantitativas + Codificação one-hot para variáveis qualitativas*"
      ]
    },
    {
      "cell_type": "code",
      "execution_count": 96,
      "metadata": {
        "id": "HUlnGx4ipQS0"
      },
      "outputs": [],
      "source": [
        "preprocessador = ColumnTransformer(transformers=[\n",
        "    # Não é necessário padronizar variáveis quantitativas em algoritmos baseados em árvores\n",
        "    # (\"quanti\", StandardScaler(), lista_X_quanti),\n",
        "    (\"quali\", OneHotEncoder(sparse_output=False, drop=\"first\", handle_unknown='ignore'), lista_X_quali)\n",
        "],\n",
        "    remainder=\"passthrough\"\n",
        ")"
      ]
    },
    {
      "cell_type": "markdown",
      "metadata": {
        "id": "KljtA0oVpQS0"
      },
      "source": [
        "*Criação do pré-processamento no conjunto de treino* <br>"
      ]
    },
    {
      "cell_type": "code",
      "execution_count": 97,
      "metadata": {
        "id": "o1jhvda-pQS0"
      },
      "outputs": [],
      "source": [
        "X_treino_tratada = preprocessador.fit_transform(X_treino)  # O pré-processamento não deve envolver o conjunto de teste externo, que deve ficar reservado apenas para aplicações de resultados já obtidos, e nunca construções\n",
        "if lista_X_quali:\n",
        "    nomes_quali = list(preprocessador.named_transformers_['quali'].get_feature_names_out(lista_X_quali))\n",
        "else:\n",
        "    nomes_quali = []\n",
        "nomes_variaveis = nomes_quali + list(lista_X_quanti)"
      ]
    },
    {
      "cell_type": "code",
      "execution_count": 98,
      "metadata": {
        "id": "4ZMYeiwNpQS0",
        "colab": {
          "base_uri": "https://localhost:8080/",
          "height": 226
        },
        "outputId": "51690990-e3eb-4b4d-990a-28a4ba7346af"
      },
      "outputs": [
        {
          "output_type": "execute_result",
          "data": {
            "text/plain": [
              "   FLAG_PGTO_PARCIAL_12M_Sim  IDADE  RENDA_MEDIA_MENSAL  TOTAL_INVESTIMENTOS  \\\n",
              "0                      0.000 31.000            2800.000             5300.000   \n",
              "1                      0.000 37.000            5200.000            77300.000   \n",
              "2                      1.000 34.000           11300.000             7200.000   \n",
              "3                      1.000 39.000           11200.000             2500.000   \n",
              "4                      1.000 28.000            6100.000              100.000   \n",
              "\n",
              "   QTDE_CONSULTAS_CREDITO_12M  QTDE_CARTOES  QTDE_EMPRESTIMOS_12M  \\\n",
              "0                       1.000         1.000                 0.000   \n",
              "1                       5.000         2.000                 0.000   \n",
              "2                       3.000         3.000                 2.000   \n",
              "3                       0.000         2.000                 0.000   \n",
              "4                       2.000         6.000                 2.000   \n",
              "\n",
              "   QTDE_CHEQUE_ESPECIAL_12M  QTDE_PGTOS_EM_ATRASO_12M  TOTAL_DIAS_ATRASO_12M  \\\n",
              "0                     1.000                     0.000                  0.000   \n",
              "1                     1.000                     1.000                  5.000   \n",
              "2                     2.000                     2.000                 36.000   \n",
              "3                     2.000                     2.000                  6.000   \n",
              "4                     2.000                     3.000                 66.000   \n",
              "\n",
              "   VALOR_PGTOS_12M  PERC_MEDIO_LIMITE_TOMADO_12M  \n",
              "0         3967.000                         0.100  \n",
              "1        14361.000                         0.800  \n",
              "2        11620.000                         0.170  \n",
              "3        21120.000                         0.020  \n",
              "4        13500.000                         0.200  "
            ],
            "text/html": [
              "\n",
              "  <div id=\"df-a9ca1d40-9c4c-4cf6-96bd-8e168fc7d807\" class=\"colab-df-container\">\n",
              "    <div>\n",
              "<style scoped>\n",
              "    .dataframe tbody tr th:only-of-type {\n",
              "        vertical-align: middle;\n",
              "    }\n",
              "\n",
              "    .dataframe tbody tr th {\n",
              "        vertical-align: top;\n",
              "    }\n",
              "\n",
              "    .dataframe thead th {\n",
              "        text-align: right;\n",
              "    }\n",
              "</style>\n",
              "<table border=\"1\" class=\"dataframe\">\n",
              "  <thead>\n",
              "    <tr style=\"text-align: right;\">\n",
              "      <th></th>\n",
              "      <th>FLAG_PGTO_PARCIAL_12M_Sim</th>\n",
              "      <th>IDADE</th>\n",
              "      <th>RENDA_MEDIA_MENSAL</th>\n",
              "      <th>TOTAL_INVESTIMENTOS</th>\n",
              "      <th>QTDE_CONSULTAS_CREDITO_12M</th>\n",
              "      <th>QTDE_CARTOES</th>\n",
              "      <th>QTDE_EMPRESTIMOS_12M</th>\n",
              "      <th>QTDE_CHEQUE_ESPECIAL_12M</th>\n",
              "      <th>QTDE_PGTOS_EM_ATRASO_12M</th>\n",
              "      <th>TOTAL_DIAS_ATRASO_12M</th>\n",
              "      <th>VALOR_PGTOS_12M</th>\n",
              "      <th>PERC_MEDIO_LIMITE_TOMADO_12M</th>\n",
              "    </tr>\n",
              "  </thead>\n",
              "  <tbody>\n",
              "    <tr>\n",
              "      <th>0</th>\n",
              "      <td>0.000</td>\n",
              "      <td>31.000</td>\n",
              "      <td>2800.000</td>\n",
              "      <td>5300.000</td>\n",
              "      <td>1.000</td>\n",
              "      <td>1.000</td>\n",
              "      <td>0.000</td>\n",
              "      <td>1.000</td>\n",
              "      <td>0.000</td>\n",
              "      <td>0.000</td>\n",
              "      <td>3967.000</td>\n",
              "      <td>0.100</td>\n",
              "    </tr>\n",
              "    <tr>\n",
              "      <th>1</th>\n",
              "      <td>0.000</td>\n",
              "      <td>37.000</td>\n",
              "      <td>5200.000</td>\n",
              "      <td>77300.000</td>\n",
              "      <td>5.000</td>\n",
              "      <td>2.000</td>\n",
              "      <td>0.000</td>\n",
              "      <td>1.000</td>\n",
              "      <td>1.000</td>\n",
              "      <td>5.000</td>\n",
              "      <td>14361.000</td>\n",
              "      <td>0.800</td>\n",
              "    </tr>\n",
              "    <tr>\n",
              "      <th>2</th>\n",
              "      <td>1.000</td>\n",
              "      <td>34.000</td>\n",
              "      <td>11300.000</td>\n",
              "      <td>7200.000</td>\n",
              "      <td>3.000</td>\n",
              "      <td>3.000</td>\n",
              "      <td>2.000</td>\n",
              "      <td>2.000</td>\n",
              "      <td>2.000</td>\n",
              "      <td>36.000</td>\n",
              "      <td>11620.000</td>\n",
              "      <td>0.170</td>\n",
              "    </tr>\n",
              "    <tr>\n",
              "      <th>3</th>\n",
              "      <td>1.000</td>\n",
              "      <td>39.000</td>\n",
              "      <td>11200.000</td>\n",
              "      <td>2500.000</td>\n",
              "      <td>0.000</td>\n",
              "      <td>2.000</td>\n",
              "      <td>0.000</td>\n",
              "      <td>2.000</td>\n",
              "      <td>2.000</td>\n",
              "      <td>6.000</td>\n",
              "      <td>21120.000</td>\n",
              "      <td>0.020</td>\n",
              "    </tr>\n",
              "    <tr>\n",
              "      <th>4</th>\n",
              "      <td>1.000</td>\n",
              "      <td>28.000</td>\n",
              "      <td>6100.000</td>\n",
              "      <td>100.000</td>\n",
              "      <td>2.000</td>\n",
              "      <td>6.000</td>\n",
              "      <td>2.000</td>\n",
              "      <td>2.000</td>\n",
              "      <td>3.000</td>\n",
              "      <td>66.000</td>\n",
              "      <td>13500.000</td>\n",
              "      <td>0.200</td>\n",
              "    </tr>\n",
              "  </tbody>\n",
              "</table>\n",
              "</div>\n",
              "    <div class=\"colab-df-buttons\">\n",
              "\n",
              "  <div class=\"colab-df-container\">\n",
              "    <button class=\"colab-df-convert\" onclick=\"convertToInteractive('df-a9ca1d40-9c4c-4cf6-96bd-8e168fc7d807')\"\n",
              "            title=\"Convert this dataframe to an interactive table.\"\n",
              "            style=\"display:none;\">\n",
              "\n",
              "  <svg xmlns=\"http://www.w3.org/2000/svg\" height=\"24px\" viewBox=\"0 -960 960 960\">\n",
              "    <path d=\"M120-120v-720h720v720H120Zm60-500h600v-160H180v160Zm220 220h160v-160H400v160Zm0 220h160v-160H400v160ZM180-400h160v-160H180v160Zm440 0h160v-160H620v160ZM180-180h160v-160H180v160Zm440 0h160v-160H620v160Z\"/>\n",
              "  </svg>\n",
              "    </button>\n",
              "\n",
              "  <style>\n",
              "    .colab-df-container {\n",
              "      display:flex;\n",
              "      gap: 12px;\n",
              "    }\n",
              "\n",
              "    .colab-df-convert {\n",
              "      background-color: #E8F0FE;\n",
              "      border: none;\n",
              "      border-radius: 50%;\n",
              "      cursor: pointer;\n",
              "      display: none;\n",
              "      fill: #1967D2;\n",
              "      height: 32px;\n",
              "      padding: 0 0 0 0;\n",
              "      width: 32px;\n",
              "    }\n",
              "\n",
              "    .colab-df-convert:hover {\n",
              "      background-color: #E2EBFA;\n",
              "      box-shadow: 0px 1px 2px rgba(60, 64, 67, 0.3), 0px 1px 3px 1px rgba(60, 64, 67, 0.15);\n",
              "      fill: #174EA6;\n",
              "    }\n",
              "\n",
              "    .colab-df-buttons div {\n",
              "      margin-bottom: 4px;\n",
              "    }\n",
              "\n",
              "    [theme=dark] .colab-df-convert {\n",
              "      background-color: #3B4455;\n",
              "      fill: #D2E3FC;\n",
              "    }\n",
              "\n",
              "    [theme=dark] .colab-df-convert:hover {\n",
              "      background-color: #434B5C;\n",
              "      box-shadow: 0px 1px 3px 1px rgba(0, 0, 0, 0.15);\n",
              "      filter: drop-shadow(0px 1px 2px rgba(0, 0, 0, 0.3));\n",
              "      fill: #FFFFFF;\n",
              "    }\n",
              "  </style>\n",
              "\n",
              "    <script>\n",
              "      const buttonEl =\n",
              "        document.querySelector('#df-a9ca1d40-9c4c-4cf6-96bd-8e168fc7d807 button.colab-df-convert');\n",
              "      buttonEl.style.display =\n",
              "        google.colab.kernel.accessAllowed ? 'block' : 'none';\n",
              "\n",
              "      async function convertToInteractive(key) {\n",
              "        const element = document.querySelector('#df-a9ca1d40-9c4c-4cf6-96bd-8e168fc7d807');\n",
              "        const dataTable =\n",
              "          await google.colab.kernel.invokeFunction('convertToInteractive',\n",
              "                                                    [key], {});\n",
              "        if (!dataTable) return;\n",
              "\n",
              "        const docLinkHtml = 'Like what you see? Visit the ' +\n",
              "          '<a target=\"_blank\" href=https://colab.research.google.com/notebooks/data_table.ipynb>data table notebook</a>'\n",
              "          + ' to learn more about interactive tables.';\n",
              "        element.innerHTML = '';\n",
              "        dataTable['output_type'] = 'display_data';\n",
              "        await google.colab.output.renderOutput(dataTable, element);\n",
              "        const docLink = document.createElement('div');\n",
              "        docLink.innerHTML = docLinkHtml;\n",
              "        element.appendChild(docLink);\n",
              "      }\n",
              "    </script>\n",
              "  </div>\n",
              "\n",
              "\n",
              "    <div id=\"df-cc0e0d39-8989-45fc-9b82-5fa1227e9abb\">\n",
              "      <button class=\"colab-df-quickchart\" onclick=\"quickchart('df-cc0e0d39-8989-45fc-9b82-5fa1227e9abb')\"\n",
              "                title=\"Suggest charts\"\n",
              "                style=\"display:none;\">\n",
              "\n",
              "<svg xmlns=\"http://www.w3.org/2000/svg\" height=\"24px\"viewBox=\"0 0 24 24\"\n",
              "     width=\"24px\">\n",
              "    <g>\n",
              "        <path d=\"M19 3H5c-1.1 0-2 .9-2 2v14c0 1.1.9 2 2 2h14c1.1 0 2-.9 2-2V5c0-1.1-.9-2-2-2zM9 17H7v-7h2v7zm4 0h-2V7h2v10zm4 0h-2v-4h2v4z\"/>\n",
              "    </g>\n",
              "</svg>\n",
              "      </button>\n",
              "\n",
              "<style>\n",
              "  .colab-df-quickchart {\n",
              "      --bg-color: #E8F0FE;\n",
              "      --fill-color: #1967D2;\n",
              "      --hover-bg-color: #E2EBFA;\n",
              "      --hover-fill-color: #174EA6;\n",
              "      --disabled-fill-color: #AAA;\n",
              "      --disabled-bg-color: #DDD;\n",
              "  }\n",
              "\n",
              "  [theme=dark] .colab-df-quickchart {\n",
              "      --bg-color: #3B4455;\n",
              "      --fill-color: #D2E3FC;\n",
              "      --hover-bg-color: #434B5C;\n",
              "      --hover-fill-color: #FFFFFF;\n",
              "      --disabled-bg-color: #3B4455;\n",
              "      --disabled-fill-color: #666;\n",
              "  }\n",
              "\n",
              "  .colab-df-quickchart {\n",
              "    background-color: var(--bg-color);\n",
              "    border: none;\n",
              "    border-radius: 50%;\n",
              "    cursor: pointer;\n",
              "    display: none;\n",
              "    fill: var(--fill-color);\n",
              "    height: 32px;\n",
              "    padding: 0;\n",
              "    width: 32px;\n",
              "  }\n",
              "\n",
              "  .colab-df-quickchart:hover {\n",
              "    background-color: var(--hover-bg-color);\n",
              "    box-shadow: 0 1px 2px rgba(60, 64, 67, 0.3), 0 1px 3px 1px rgba(60, 64, 67, 0.15);\n",
              "    fill: var(--button-hover-fill-color);\n",
              "  }\n",
              "\n",
              "  .colab-df-quickchart-complete:disabled,\n",
              "  .colab-df-quickchart-complete:disabled:hover {\n",
              "    background-color: var(--disabled-bg-color);\n",
              "    fill: var(--disabled-fill-color);\n",
              "    box-shadow: none;\n",
              "  }\n",
              "\n",
              "  .colab-df-spinner {\n",
              "    border: 2px solid var(--fill-color);\n",
              "    border-color: transparent;\n",
              "    border-bottom-color: var(--fill-color);\n",
              "    animation:\n",
              "      spin 1s steps(1) infinite;\n",
              "  }\n",
              "\n",
              "  @keyframes spin {\n",
              "    0% {\n",
              "      border-color: transparent;\n",
              "      border-bottom-color: var(--fill-color);\n",
              "      border-left-color: var(--fill-color);\n",
              "    }\n",
              "    20% {\n",
              "      border-color: transparent;\n",
              "      border-left-color: var(--fill-color);\n",
              "      border-top-color: var(--fill-color);\n",
              "    }\n",
              "    30% {\n",
              "      border-color: transparent;\n",
              "      border-left-color: var(--fill-color);\n",
              "      border-top-color: var(--fill-color);\n",
              "      border-right-color: var(--fill-color);\n",
              "    }\n",
              "    40% {\n",
              "      border-color: transparent;\n",
              "      border-right-color: var(--fill-color);\n",
              "      border-top-color: var(--fill-color);\n",
              "    }\n",
              "    60% {\n",
              "      border-color: transparent;\n",
              "      border-right-color: var(--fill-color);\n",
              "    }\n",
              "    80% {\n",
              "      border-color: transparent;\n",
              "      border-right-color: var(--fill-color);\n",
              "      border-bottom-color: var(--fill-color);\n",
              "    }\n",
              "    90% {\n",
              "      border-color: transparent;\n",
              "      border-bottom-color: var(--fill-color);\n",
              "    }\n",
              "  }\n",
              "</style>\n",
              "\n",
              "      <script>\n",
              "        async function quickchart(key) {\n",
              "          const quickchartButtonEl =\n",
              "            document.querySelector('#' + key + ' button');\n",
              "          quickchartButtonEl.disabled = true;  // To prevent multiple clicks.\n",
              "          quickchartButtonEl.classList.add('colab-df-spinner');\n",
              "          try {\n",
              "            const charts = await google.colab.kernel.invokeFunction(\n",
              "                'suggestCharts', [key], {});\n",
              "          } catch (error) {\n",
              "            console.error('Error during call to suggestCharts:', error);\n",
              "          }\n",
              "          quickchartButtonEl.classList.remove('colab-df-spinner');\n",
              "          quickchartButtonEl.classList.add('colab-df-quickchart-complete');\n",
              "        }\n",
              "        (() => {\n",
              "          let quickchartButtonEl =\n",
              "            document.querySelector('#df-cc0e0d39-8989-45fc-9b82-5fa1227e9abb button');\n",
              "          quickchartButtonEl.style.display =\n",
              "            google.colab.kernel.accessAllowed ? 'block' : 'none';\n",
              "        })();\n",
              "      </script>\n",
              "    </div>\n",
              "\n",
              "    </div>\n",
              "  </div>\n"
            ],
            "application/vnd.google.colaboratory.intrinsic+json": {
              "type": "dataframe",
              "variable_name": "X_treino_tratada",
              "summary": "{\n  \"name\": \"X_treino_tratada\",\n  \"rows\": 14606,\n  \"fields\": [\n    {\n      \"column\": \"FLAG_PGTO_PARCIAL_12M_Sim\",\n      \"properties\": {\n        \"dtype\": \"number\",\n        \"std\": 0.47987317807799795,\n        \"min\": 0.0,\n        \"max\": 1.0,\n        \"num_unique_values\": 2,\n        \"samples\": [\n          1.0,\n          0.0\n        ],\n        \"semantic_type\": \"\",\n        \"description\": \"\"\n      }\n    },\n    {\n      \"column\": \"IDADE\",\n      \"properties\": {\n        \"dtype\": \"number\",\n        \"std\": 10.35248961917785,\n        \"min\": 18.0,\n        \"max\": 95.0,\n        \"num_unique_values\": 76,\n        \"samples\": [\n          28.0,\n          22.0\n        ],\n        \"semantic_type\": \"\",\n        \"description\": \"\"\n      }\n    },\n    {\n      \"column\": \"RENDA_MEDIA_MENSAL\",\n      \"properties\": {\n        \"dtype\": \"number\",\n        \"std\": 5633.422824321193,\n        \"min\": 1100.0,\n        \"max\": 53400.0,\n        \"num_unique_values\": 344,\n        \"samples\": [\n          6800.0,\n          16600.0\n        ],\n        \"semantic_type\": \"\",\n        \"description\": \"\"\n      }\n    },\n    {\n      \"column\": \"TOTAL_INVESTIMENTOS\",\n      \"properties\": {\n        \"dtype\": \"number\",\n        \"std\": 31626.42500338928,\n        \"min\": 0.0,\n        \"max\": 189800.0,\n        \"num_unique_values\": 1356,\n        \"samples\": [\n          10900.0,\n          65000.0\n        ],\n        \"semantic_type\": \"\",\n        \"description\": \"\"\n      }\n    },\n    {\n      \"column\": \"QTDE_CONSULTAS_CREDITO_12M\",\n      \"properties\": {\n        \"dtype\": \"number\",\n        \"std\": 1.4543060919895496,\n        \"min\": 0.0,\n        \"max\": 20.0,\n        \"num_unique_values\": 18,\n        \"samples\": [\n          1.0,\n          5.0\n        ],\n        \"semantic_type\": \"\",\n        \"description\": \"\"\n      }\n    },\n    {\n      \"column\": \"QTDE_CARTOES\",\n      \"properties\": {\n        \"dtype\": \"number\",\n        \"std\": 1.7157171732303529,\n        \"min\": 1.0,\n        \"max\": 12.0,\n        \"num_unique_values\": 12,\n        \"samples\": [\n          11.0,\n          10.0\n        ],\n        \"semantic_type\": \"\",\n        \"description\": \"\"\n      }\n    },\n    {\n      \"column\": \"QTDE_EMPRESTIMOS_12M\",\n      \"properties\": {\n        \"dtype\": \"number\",\n        \"std\": 0.779549499659866,\n        \"min\": 0.0,\n        \"max\": 6.0,\n        \"num_unique_values\": 7,\n        \"samples\": [\n          0.0,\n          2.0\n        ],\n        \"semantic_type\": \"\",\n        \"description\": \"\"\n      }\n    },\n    {\n      \"column\": \"QTDE_CHEQUE_ESPECIAL_12M\",\n      \"properties\": {\n        \"dtype\": \"number\",\n        \"std\": 0.9131052938003291,\n        \"min\": 0.0,\n        \"max\": 7.0,\n        \"num_unique_values\": 8,\n        \"samples\": [\n          2.0,\n          5.0\n        ],\n        \"semantic_type\": \"\",\n        \"description\": \"\"\n      }\n    },\n    {\n      \"column\": \"QTDE_PGTOS_EM_ATRASO_12M\",\n      \"properties\": {\n        \"dtype\": \"number\",\n        \"std\": 1.8331593862436653,\n        \"min\": 0.0,\n        \"max\": 19.0,\n        \"num_unique_values\": 19,\n        \"samples\": [\n          0.0,\n          6.0\n        ],\n        \"semantic_type\": \"\",\n        \"description\": \"\"\n      }\n    },\n    {\n      \"column\": \"TOTAL_DIAS_ATRASO_12M\",\n      \"properties\": {\n        \"dtype\": \"number\",\n        \"std\": 21.493155321946563,\n        \"min\": 0.0,\n        \"max\": 249.0,\n        \"num_unique_values\": 165,\n        \"samples\": [\n          133.0,\n          111.0\n        ],\n        \"semantic_type\": \"\",\n        \"description\": \"\"\n      }\n    },\n    {\n      \"column\": \"VALOR_PGTOS_12M\",\n      \"properties\": {\n        \"dtype\": \"number\",\n        \"std\": 11329.733373256051,\n        \"min\": 0.0,\n        \"max\": 88900.0,\n        \"num_unique_values\": 11616,\n        \"samples\": [\n          12670.0,\n          29952.0\n        ],\n        \"semantic_type\": \"\",\n        \"description\": \"\"\n      }\n    },\n    {\n      \"column\": \"PERC_MEDIO_LIMITE_TOMADO_12M\",\n      \"properties\": {\n        \"dtype\": \"number\",\n        \"std\": 0.2600201018947214,\n        \"min\": 0.0,\n        \"max\": 0.99,\n        \"num_unique_values\": 100,\n        \"samples\": [\n          0.74,\n          0.27\n        ],\n        \"semantic_type\": \"\",\n        \"description\": \"\"\n      }\n    }\n  ]\n}"
            }
          },
          "metadata": {},
          "execution_count": 98
        }
      ],
      "source": [
        "X_treino_tratada = pd.DataFrame(X_treino_tratada, columns=nomes_variaveis)\n",
        "X_treino_tratada.head()"
      ]
    },
    {
      "cell_type": "markdown",
      "metadata": {
        "id": "TLaC9G04pQS0"
      },
      "source": [
        "*Aplicação do pré-processamento no conjunto de teste externo*"
      ]
    },
    {
      "cell_type": "code",
      "execution_count": 99,
      "metadata": {
        "id": "GanOTz0ZpQS0",
        "colab": {
          "base_uri": "https://localhost:8080/",
          "height": 226
        },
        "outputId": "249dd679-2fc1-4a8f-96fd-4b5f59c38c3c"
      },
      "outputs": [
        {
          "output_type": "execute_result",
          "data": {
            "text/plain": [
              "   FLAG_PGTO_PARCIAL_12M_Sim  IDADE  RENDA_MEDIA_MENSAL  TOTAL_INVESTIMENTOS  \\\n",
              "0                      1.000 24.000            9700.000           132100.000   \n",
              "1                      1.000 19.000            2300.000              300.000   \n",
              "2                      1.000 23.000           18300.000            10100.000   \n",
              "3                      1.000 51.000           18500.000            52800.000   \n",
              "4                      1.000 41.000            3000.000             8200.000   \n",
              "\n",
              "   QTDE_CONSULTAS_CREDITO_12M  QTDE_CARTOES  QTDE_EMPRESTIMOS_12M  \\\n",
              "0                       0.000         2.000                 0.000   \n",
              "1                       0.000         2.000                 0.000   \n",
              "2                       4.000         5.000                 1.000   \n",
              "3                       4.000         5.000                 1.000   \n",
              "4                       0.000         2.000                 0.000   \n",
              "\n",
              "   QTDE_CHEQUE_ESPECIAL_12M  QTDE_PGTOS_EM_ATRASO_12M  TOTAL_DIAS_ATRASO_12M  \\\n",
              "0                     1.000                     3.000                  4.000   \n",
              "1                     3.000                     1.000                  8.000   \n",
              "2                     3.000                     1.000                 40.000   \n",
              "3                     3.000                     6.000                 52.000   \n",
              "4                     0.000                     1.000                  3.000   \n",
              "\n",
              "   VALOR_PGTOS_12M  PERC_MEDIO_LIMITE_TOMADO_12M  \n",
              "0         6044.000                         0.390  \n",
              "1        19408.000                         0.110  \n",
              "2         4653.000                         0.010  \n",
              "3         4630.000                         0.610  \n",
              "4         9706.000                         0.190  "
            ],
            "text/html": [
              "\n",
              "  <div id=\"df-da1b573f-5e8c-4443-b889-b791d30eeacc\" class=\"colab-df-container\">\n",
              "    <div>\n",
              "<style scoped>\n",
              "    .dataframe tbody tr th:only-of-type {\n",
              "        vertical-align: middle;\n",
              "    }\n",
              "\n",
              "    .dataframe tbody tr th {\n",
              "        vertical-align: top;\n",
              "    }\n",
              "\n",
              "    .dataframe thead th {\n",
              "        text-align: right;\n",
              "    }\n",
              "</style>\n",
              "<table border=\"1\" class=\"dataframe\">\n",
              "  <thead>\n",
              "    <tr style=\"text-align: right;\">\n",
              "      <th></th>\n",
              "      <th>FLAG_PGTO_PARCIAL_12M_Sim</th>\n",
              "      <th>IDADE</th>\n",
              "      <th>RENDA_MEDIA_MENSAL</th>\n",
              "      <th>TOTAL_INVESTIMENTOS</th>\n",
              "      <th>QTDE_CONSULTAS_CREDITO_12M</th>\n",
              "      <th>QTDE_CARTOES</th>\n",
              "      <th>QTDE_EMPRESTIMOS_12M</th>\n",
              "      <th>QTDE_CHEQUE_ESPECIAL_12M</th>\n",
              "      <th>QTDE_PGTOS_EM_ATRASO_12M</th>\n",
              "      <th>TOTAL_DIAS_ATRASO_12M</th>\n",
              "      <th>VALOR_PGTOS_12M</th>\n",
              "      <th>PERC_MEDIO_LIMITE_TOMADO_12M</th>\n",
              "    </tr>\n",
              "  </thead>\n",
              "  <tbody>\n",
              "    <tr>\n",
              "      <th>0</th>\n",
              "      <td>1.000</td>\n",
              "      <td>24.000</td>\n",
              "      <td>9700.000</td>\n",
              "      <td>132100.000</td>\n",
              "      <td>0.000</td>\n",
              "      <td>2.000</td>\n",
              "      <td>0.000</td>\n",
              "      <td>1.000</td>\n",
              "      <td>3.000</td>\n",
              "      <td>4.000</td>\n",
              "      <td>6044.000</td>\n",
              "      <td>0.390</td>\n",
              "    </tr>\n",
              "    <tr>\n",
              "      <th>1</th>\n",
              "      <td>1.000</td>\n",
              "      <td>19.000</td>\n",
              "      <td>2300.000</td>\n",
              "      <td>300.000</td>\n",
              "      <td>0.000</td>\n",
              "      <td>2.000</td>\n",
              "      <td>0.000</td>\n",
              "      <td>3.000</td>\n",
              "      <td>1.000</td>\n",
              "      <td>8.000</td>\n",
              "      <td>19408.000</td>\n",
              "      <td>0.110</td>\n",
              "    </tr>\n",
              "    <tr>\n",
              "      <th>2</th>\n",
              "      <td>1.000</td>\n",
              "      <td>23.000</td>\n",
              "      <td>18300.000</td>\n",
              "      <td>10100.000</td>\n",
              "      <td>4.000</td>\n",
              "      <td>5.000</td>\n",
              "      <td>1.000</td>\n",
              "      <td>3.000</td>\n",
              "      <td>1.000</td>\n",
              "      <td>40.000</td>\n",
              "      <td>4653.000</td>\n",
              "      <td>0.010</td>\n",
              "    </tr>\n",
              "    <tr>\n",
              "      <th>3</th>\n",
              "      <td>1.000</td>\n",
              "      <td>51.000</td>\n",
              "      <td>18500.000</td>\n",
              "      <td>52800.000</td>\n",
              "      <td>4.000</td>\n",
              "      <td>5.000</td>\n",
              "      <td>1.000</td>\n",
              "      <td>3.000</td>\n",
              "      <td>6.000</td>\n",
              "      <td>52.000</td>\n",
              "      <td>4630.000</td>\n",
              "      <td>0.610</td>\n",
              "    </tr>\n",
              "    <tr>\n",
              "      <th>4</th>\n",
              "      <td>1.000</td>\n",
              "      <td>41.000</td>\n",
              "      <td>3000.000</td>\n",
              "      <td>8200.000</td>\n",
              "      <td>0.000</td>\n",
              "      <td>2.000</td>\n",
              "      <td>0.000</td>\n",
              "      <td>0.000</td>\n",
              "      <td>1.000</td>\n",
              "      <td>3.000</td>\n",
              "      <td>9706.000</td>\n",
              "      <td>0.190</td>\n",
              "    </tr>\n",
              "  </tbody>\n",
              "</table>\n",
              "</div>\n",
              "    <div class=\"colab-df-buttons\">\n",
              "\n",
              "  <div class=\"colab-df-container\">\n",
              "    <button class=\"colab-df-convert\" onclick=\"convertToInteractive('df-da1b573f-5e8c-4443-b889-b791d30eeacc')\"\n",
              "            title=\"Convert this dataframe to an interactive table.\"\n",
              "            style=\"display:none;\">\n",
              "\n",
              "  <svg xmlns=\"http://www.w3.org/2000/svg\" height=\"24px\" viewBox=\"0 -960 960 960\">\n",
              "    <path d=\"M120-120v-720h720v720H120Zm60-500h600v-160H180v160Zm220 220h160v-160H400v160Zm0 220h160v-160H400v160ZM180-400h160v-160H180v160Zm440 0h160v-160H620v160ZM180-180h160v-160H180v160Zm440 0h160v-160H620v160Z\"/>\n",
              "  </svg>\n",
              "    </button>\n",
              "\n",
              "  <style>\n",
              "    .colab-df-container {\n",
              "      display:flex;\n",
              "      gap: 12px;\n",
              "    }\n",
              "\n",
              "    .colab-df-convert {\n",
              "      background-color: #E8F0FE;\n",
              "      border: none;\n",
              "      border-radius: 50%;\n",
              "      cursor: pointer;\n",
              "      display: none;\n",
              "      fill: #1967D2;\n",
              "      height: 32px;\n",
              "      padding: 0 0 0 0;\n",
              "      width: 32px;\n",
              "    }\n",
              "\n",
              "    .colab-df-convert:hover {\n",
              "      background-color: #E2EBFA;\n",
              "      box-shadow: 0px 1px 2px rgba(60, 64, 67, 0.3), 0px 1px 3px 1px rgba(60, 64, 67, 0.15);\n",
              "      fill: #174EA6;\n",
              "    }\n",
              "\n",
              "    .colab-df-buttons div {\n",
              "      margin-bottom: 4px;\n",
              "    }\n",
              "\n",
              "    [theme=dark] .colab-df-convert {\n",
              "      background-color: #3B4455;\n",
              "      fill: #D2E3FC;\n",
              "    }\n",
              "\n",
              "    [theme=dark] .colab-df-convert:hover {\n",
              "      background-color: #434B5C;\n",
              "      box-shadow: 0px 1px 3px 1px rgba(0, 0, 0, 0.15);\n",
              "      filter: drop-shadow(0px 1px 2px rgba(0, 0, 0, 0.3));\n",
              "      fill: #FFFFFF;\n",
              "    }\n",
              "  </style>\n",
              "\n",
              "    <script>\n",
              "      const buttonEl =\n",
              "        document.querySelector('#df-da1b573f-5e8c-4443-b889-b791d30eeacc button.colab-df-convert');\n",
              "      buttonEl.style.display =\n",
              "        google.colab.kernel.accessAllowed ? 'block' : 'none';\n",
              "\n",
              "      async function convertToInteractive(key) {\n",
              "        const element = document.querySelector('#df-da1b573f-5e8c-4443-b889-b791d30eeacc');\n",
              "        const dataTable =\n",
              "          await google.colab.kernel.invokeFunction('convertToInteractive',\n",
              "                                                    [key], {});\n",
              "        if (!dataTable) return;\n",
              "\n",
              "        const docLinkHtml = 'Like what you see? Visit the ' +\n",
              "          '<a target=\"_blank\" href=https://colab.research.google.com/notebooks/data_table.ipynb>data table notebook</a>'\n",
              "          + ' to learn more about interactive tables.';\n",
              "        element.innerHTML = '';\n",
              "        dataTable['output_type'] = 'display_data';\n",
              "        await google.colab.output.renderOutput(dataTable, element);\n",
              "        const docLink = document.createElement('div');\n",
              "        docLink.innerHTML = docLinkHtml;\n",
              "        element.appendChild(docLink);\n",
              "      }\n",
              "    </script>\n",
              "  </div>\n",
              "\n",
              "\n",
              "    <div id=\"df-c64b6bab-9355-4496-b751-296618a74bf9\">\n",
              "      <button class=\"colab-df-quickchart\" onclick=\"quickchart('df-c64b6bab-9355-4496-b751-296618a74bf9')\"\n",
              "                title=\"Suggest charts\"\n",
              "                style=\"display:none;\">\n",
              "\n",
              "<svg xmlns=\"http://www.w3.org/2000/svg\" height=\"24px\"viewBox=\"0 0 24 24\"\n",
              "     width=\"24px\">\n",
              "    <g>\n",
              "        <path d=\"M19 3H5c-1.1 0-2 .9-2 2v14c0 1.1.9 2 2 2h14c1.1 0 2-.9 2-2V5c0-1.1-.9-2-2-2zM9 17H7v-7h2v7zm4 0h-2V7h2v10zm4 0h-2v-4h2v4z\"/>\n",
              "    </g>\n",
              "</svg>\n",
              "      </button>\n",
              "\n",
              "<style>\n",
              "  .colab-df-quickchart {\n",
              "      --bg-color: #E8F0FE;\n",
              "      --fill-color: #1967D2;\n",
              "      --hover-bg-color: #E2EBFA;\n",
              "      --hover-fill-color: #174EA6;\n",
              "      --disabled-fill-color: #AAA;\n",
              "      --disabled-bg-color: #DDD;\n",
              "  }\n",
              "\n",
              "  [theme=dark] .colab-df-quickchart {\n",
              "      --bg-color: #3B4455;\n",
              "      --fill-color: #D2E3FC;\n",
              "      --hover-bg-color: #434B5C;\n",
              "      --hover-fill-color: #FFFFFF;\n",
              "      --disabled-bg-color: #3B4455;\n",
              "      --disabled-fill-color: #666;\n",
              "  }\n",
              "\n",
              "  .colab-df-quickchart {\n",
              "    background-color: var(--bg-color);\n",
              "    border: none;\n",
              "    border-radius: 50%;\n",
              "    cursor: pointer;\n",
              "    display: none;\n",
              "    fill: var(--fill-color);\n",
              "    height: 32px;\n",
              "    padding: 0;\n",
              "    width: 32px;\n",
              "  }\n",
              "\n",
              "  .colab-df-quickchart:hover {\n",
              "    background-color: var(--hover-bg-color);\n",
              "    box-shadow: 0 1px 2px rgba(60, 64, 67, 0.3), 0 1px 3px 1px rgba(60, 64, 67, 0.15);\n",
              "    fill: var(--button-hover-fill-color);\n",
              "  }\n",
              "\n",
              "  .colab-df-quickchart-complete:disabled,\n",
              "  .colab-df-quickchart-complete:disabled:hover {\n",
              "    background-color: var(--disabled-bg-color);\n",
              "    fill: var(--disabled-fill-color);\n",
              "    box-shadow: none;\n",
              "  }\n",
              "\n",
              "  .colab-df-spinner {\n",
              "    border: 2px solid var(--fill-color);\n",
              "    border-color: transparent;\n",
              "    border-bottom-color: var(--fill-color);\n",
              "    animation:\n",
              "      spin 1s steps(1) infinite;\n",
              "  }\n",
              "\n",
              "  @keyframes spin {\n",
              "    0% {\n",
              "      border-color: transparent;\n",
              "      border-bottom-color: var(--fill-color);\n",
              "      border-left-color: var(--fill-color);\n",
              "    }\n",
              "    20% {\n",
              "      border-color: transparent;\n",
              "      border-left-color: var(--fill-color);\n",
              "      border-top-color: var(--fill-color);\n",
              "    }\n",
              "    30% {\n",
              "      border-color: transparent;\n",
              "      border-left-color: var(--fill-color);\n",
              "      border-top-color: var(--fill-color);\n",
              "      border-right-color: var(--fill-color);\n",
              "    }\n",
              "    40% {\n",
              "      border-color: transparent;\n",
              "      border-right-color: var(--fill-color);\n",
              "      border-top-color: var(--fill-color);\n",
              "    }\n",
              "    60% {\n",
              "      border-color: transparent;\n",
              "      border-right-color: var(--fill-color);\n",
              "    }\n",
              "    80% {\n",
              "      border-color: transparent;\n",
              "      border-right-color: var(--fill-color);\n",
              "      border-bottom-color: var(--fill-color);\n",
              "    }\n",
              "    90% {\n",
              "      border-color: transparent;\n",
              "      border-bottom-color: var(--fill-color);\n",
              "    }\n",
              "  }\n",
              "</style>\n",
              "\n",
              "      <script>\n",
              "        async function quickchart(key) {\n",
              "          const quickchartButtonEl =\n",
              "            document.querySelector('#' + key + ' button');\n",
              "          quickchartButtonEl.disabled = true;  // To prevent multiple clicks.\n",
              "          quickchartButtonEl.classList.add('colab-df-spinner');\n",
              "          try {\n",
              "            const charts = await google.colab.kernel.invokeFunction(\n",
              "                'suggestCharts', [key], {});\n",
              "          } catch (error) {\n",
              "            console.error('Error during call to suggestCharts:', error);\n",
              "          }\n",
              "          quickchartButtonEl.classList.remove('colab-df-spinner');\n",
              "          quickchartButtonEl.classList.add('colab-df-quickchart-complete');\n",
              "        }\n",
              "        (() => {\n",
              "          let quickchartButtonEl =\n",
              "            document.querySelector('#df-c64b6bab-9355-4496-b751-296618a74bf9 button');\n",
              "          quickchartButtonEl.style.display =\n",
              "            google.colab.kernel.accessAllowed ? 'block' : 'none';\n",
              "        })();\n",
              "      </script>\n",
              "    </div>\n",
              "\n",
              "    </div>\n",
              "  </div>\n"
            ],
            "application/vnd.google.colaboratory.intrinsic+json": {
              "type": "dataframe",
              "variable_name": "X_teste_tratada",
              "summary": "{\n  \"name\": \"X_teste_tratada\",\n  \"rows\": 3652,\n  \"fields\": [\n    {\n      \"column\": \"FLAG_PGTO_PARCIAL_12M_Sim\",\n      \"properties\": {\n        \"dtype\": \"number\",\n        \"std\": 0.479686827122533,\n        \"min\": 0.0,\n        \"max\": 1.0,\n        \"num_unique_values\": 2,\n        \"samples\": [\n          0.0,\n          1.0\n        ],\n        \"semantic_type\": \"\",\n        \"description\": \"\"\n      }\n    },\n    {\n      \"column\": \"IDADE\",\n      \"properties\": {\n        \"dtype\": \"number\",\n        \"std\": 10.289880372405733,\n        \"min\": 18.0,\n        \"max\": 95.0,\n        \"num_unique_values\": 67,\n        \"samples\": [\n          37.0,\n          30.0\n        ],\n        \"semantic_type\": \"\",\n        \"description\": \"\"\n      }\n    },\n    {\n      \"column\": \"RENDA_MEDIA_MENSAL\",\n      \"properties\": {\n        \"dtype\": \"number\",\n        \"std\": 5748.7170187832735,\n        \"min\": 1100.0,\n        \"max\": 43800.0,\n        \"num_unique_values\": 282,\n        \"samples\": [\n          11500.0,\n          7900.0\n        ],\n        \"semantic_type\": \"\",\n        \"description\": \"\"\n      }\n    },\n    {\n      \"column\": \"TOTAL_INVESTIMENTOS\",\n      \"properties\": {\n        \"dtype\": \"number\",\n        \"std\": 32343.7740942747,\n        \"min\": 0.0,\n        \"max\": 193100.0,\n        \"num_unique_values\": 789,\n        \"samples\": [\n          28600.0,\n          800.0\n        ],\n        \"semantic_type\": \"\",\n        \"description\": \"\"\n      }\n    },\n    {\n      \"column\": \"QTDE_CONSULTAS_CREDITO_12M\",\n      \"properties\": {\n        \"dtype\": \"number\",\n        \"std\": 1.4146813115410455,\n        \"min\": 0.0,\n        \"max\": 13.0,\n        \"num_unique_values\": 13,\n        \"samples\": [\n          8.0,\n          5.0\n        ],\n        \"semantic_type\": \"\",\n        \"description\": \"\"\n      }\n    },\n    {\n      \"column\": \"QTDE_CARTOES\",\n      \"properties\": {\n        \"dtype\": \"number\",\n        \"std\": 1.7272517687794438,\n        \"min\": 1.0,\n        \"max\": 12.0,\n        \"num_unique_values\": 12,\n        \"samples\": [\n          11.0,\n          8.0\n        ],\n        \"semantic_type\": \"\",\n        \"description\": \"\"\n      }\n    },\n    {\n      \"column\": \"QTDE_EMPRESTIMOS_12M\",\n      \"properties\": {\n        \"dtype\": \"number\",\n        \"std\": 0.774674308293156,\n        \"min\": 0.0,\n        \"max\": 6.0,\n        \"num_unique_values\": 7,\n        \"samples\": [\n          0.0,\n          1.0\n        ],\n        \"semantic_type\": \"\",\n        \"description\": \"\"\n      }\n    },\n    {\n      \"column\": \"QTDE_CHEQUE_ESPECIAL_12M\",\n      \"properties\": {\n        \"dtype\": \"number\",\n        \"std\": 0.9020657309026902,\n        \"min\": 0.0,\n        \"max\": 7.0,\n        \"num_unique_values\": 8,\n        \"samples\": [\n          3.0,\n          7.0\n        ],\n        \"semantic_type\": \"\",\n        \"description\": \"\"\n      }\n    },\n    {\n      \"column\": \"QTDE_PGTOS_EM_ATRASO_12M\",\n      \"properties\": {\n        \"dtype\": \"number\",\n        \"std\": 1.8602751477805022,\n        \"min\": 0.0,\n        \"max\": 17.0,\n        \"num_unique_values\": 17,\n        \"samples\": [\n          3.0,\n          1.0\n        ],\n        \"semantic_type\": \"\",\n        \"description\": \"\"\n      }\n    },\n    {\n      \"column\": \"TOTAL_DIAS_ATRASO_12M\",\n      \"properties\": {\n        \"dtype\": \"number\",\n        \"std\": 20.565580325058967,\n        \"min\": 0.0,\n        \"max\": 165.0,\n        \"num_unique_values\": 120,\n        \"samples\": [\n          26.0,\n          32.0\n        ],\n        \"semantic_type\": \"\",\n        \"description\": \"\"\n      }\n    },\n    {\n      \"column\": \"VALOR_PGTOS_12M\",\n      \"properties\": {\n        \"dtype\": \"number\",\n        \"std\": 11039.64654963693,\n        \"min\": 0.0,\n        \"max\": 89830.0,\n        \"num_unique_values\": 3396,\n        \"samples\": [\n          12667.0,\n          11186.0\n        ],\n        \"semantic_type\": \"\",\n        \"description\": \"\"\n      }\n    },\n    {\n      \"column\": \"PERC_MEDIO_LIMITE_TOMADO_12M\",\n      \"properties\": {\n        \"dtype\": \"number\",\n        \"std\": 0.26118829607775,\n        \"min\": 0.0,\n        \"max\": 0.99,\n        \"num_unique_values\": 100,\n        \"samples\": [\n          0.77,\n          0.86\n        ],\n        \"semantic_type\": \"\",\n        \"description\": \"\"\n      }\n    }\n  ]\n}"
            }
          },
          "metadata": {},
          "execution_count": 99
        }
      ],
      "source": [
        "X_teste_tratada = preprocessador.transform(X_teste)  # Note que o mesmo objeto de pré-processamento deve ser utilizado, agora com 'transform' em vez de 'fit_transform'\n",
        "X_teste_tratada = pd.DataFrame(X_teste_tratada, columns=nomes_variaveis)\n",
        "X_teste_tratada.head()"
      ]
    },
    {
      "cell_type": "markdown",
      "metadata": {
        "id": "ELkQIS17pQS0"
      },
      "source": [
        "**Definição do algoritmo e intervalos de busca de hiperparâmetros**"
      ]
    },
    {
      "cell_type": "code",
      "execution_count": 100,
      "metadata": {
        "id": "ibC7g1BYpQS7"
      },
      "outputs": [],
      "source": [
        "algoritmos = {\n",
        "\n",
        "    'ÁRVORE DE DECISÃO': (DecisionTreeClassifier(random_state=123), {\n",
        "        'criterion': ['gini', 'entropy'],              # Critério de impureza\n",
        "        'class_weight': ['balanced'],                  # Rebalanceamento do cálculo de impureza\n",
        "        'min_impurity_decrease': uniform(0, 0.05),     # Valor mínimo de redução de impureza\n",
        "        'min_samples_split': randint(100, 201),        # Qtde. mínima de observações no nó \"pai\" (depende do tamanho da base)\n",
        "        'min_samples_leaf': randint(50, 101),          # Qtde. mínima de observações no nó \"filho\" (depende do tamanho da base)\n",
        "        'max_depth': randint(2, 11)                    # Profundidade máxima da árvore\n",
        "    })\n",
        "}"
      ]
    },
    {
      "cell_type": "code",
      "source": [
        "algoritmos = {\n",
        "\n",
        "    'ÁRVORE DE DECISÃO': (DecisionTreeClassifier(random_state=123), {\n",
        "        'criterion': ['gini', 'entropy'],              # Critério de impureza\n",
        "        'class_weight': ['balanced'],                  # Rebalanceamento do cálculo de impureza\n",
        "        'min_impurity_decrease': uniform(0, 0.05),     # Valor mínimo de redução de impureza\n",
        "        'min_samples_split': randint(1000, 5001),      # Qtde. mínima de observações no nó \"pai\" (depende do tamanho da base)\n",
        "        'min_samples_leaf': randint(500, 1001),        # Qtde. mínima de observações no nó \"filho\" (depende do tamanho da base)\n",
        "        'max_depth': randint(2, 11)                    # Profundidade máxima da árvore\n",
        "    })\n",
        "}"
      ],
      "metadata": {
        "id": "sWBZxiLYsddr"
      },
      "execution_count": 101,
      "outputs": []
    },
    {
      "cell_type": "markdown",
      "metadata": {
        "id": "L15Z7YcSXns6"
      },
      "source": [
        "**Construção de modelos usando validação cruzada, busca aleatória e teste externo**"
      ]
    },
    {
      "cell_type": "markdown",
      "metadata": {
        "id": "6MWn1J9dXns6"
      },
      "source": [
        "*Estratégia de validação cruzada estratificada (stratified k-fold) e quantidade máxima de iterações de busca*. Conforme descrito no enunciado, utilizaremos k = 5 folds e 50 iterações"
      ]
    },
    {
      "cell_type": "code",
      "execution_count": 102,
      "metadata": {
        "id": "AuqMorVTXns6"
      },
      "outputs": [],
      "source": [
        "kf = StratifiedKFold(n_splits=5, shuffle=True, random_state=123)\n",
        "qtd_iteracoes = 50"
      ]
    },
    {
      "cell_type": "markdown",
      "metadata": {
        "id": "7puzkkgQpQS7"
      },
      "source": [
        "*Construção dos modelos*"
      ]
    },
    {
      "cell_type": "code",
      "execution_count": 103,
      "metadata": {
        "id": "A3KhV0n-pQS7",
        "colab": {
          "base_uri": "https://localhost:8080/"
        },
        "outputId": "db07b08b-0c90-4399-ac36-27e464256fc0"
      },
      "outputs": [
        {
          "output_type": "stream",
          "name": "stdout",
          "text": [
            "(1 de 1) Processo concluído para o algoritmo ÁRVORE DE DECISÃO em 10.0 segundos!\n"
          ]
        }
      ],
      "source": [
        "resultados = []         # Lista para armazenar resultados\n",
        "contador_modelos = 0    # Contador de modelos testados\n",
        "\n",
        "for nome_algoritmo, (classe_algoritmo, hiperparametros) in algoritmos.items():\n",
        "\n",
        "    # Início da contagem de tempo e de modelos\n",
        "    inicio = time.time()\n",
        "\n",
        "    # Busca aleatória de hiperparâmetros com validação cruzada (randomized search)\n",
        "    busca = RandomizedSearchCV(\n",
        "        estimator=classe_algoritmo,\n",
        "        param_distributions=hiperparametros,\n",
        "        n_iter=1 if not hiperparametros else qtd_iteracoes,\n",
        "        scoring='roc_auc',\n",
        "        cv=kf,\n",
        "        return_train_score=True,\n",
        "        random_state=123,\n",
        "        n_jobs=-1\n",
        "    )\n",
        "\n",
        "    # Ajuste dos modelos\n",
        "    busca.fit(X_treino_tratada, y_treino)\n",
        "\n",
        "    # Armazenar os resultados da busca\n",
        "    resultados_aux = pd.DataFrame({\n",
        "        \"num_modelo\": [f\"Modelo {contador_modelos + i}\" for i in range(len(busca.cv_results_[\"params\"]))],\n",
        "        \"nome_algoritmo\": nome_algoritmo,\n",
        "        \"classe_algoritmo\": type(classe_algoritmo).__name__,\n",
        "        \"hiperparametros\": busca.cv_results_[\"params\"],\n",
        "        \"media_score_treino\": busca.cv_results_[\"mean_train_score\"],\n",
        "        \"media_score_teste_interno\": busca.cv_results_[\"mean_test_score\"],\n",
        "        \"dp_score_treino\": busca.cv_results_[\"std_train_score\"],\n",
        "        \"dp_score_teste_interno\": busca.cv_results_[\"std_test_score\"]\n",
        "    })\n",
        "\n",
        "    metrica = \"roc_auc\"\n",
        "    scorer = get_scorer(metrica)\n",
        "\n",
        "    # Calcular score no teste externo, para cada modelo\n",
        "    score_teste = []\n",
        "    for params in resultados_aux[\"hiperparametros\"]:\n",
        "        estimador = busca.best_estimator_\n",
        "        p_hat_teste = estimador.predict_proba(X_teste_tratada)[:, 1]\n",
        "        score = scorer(estimador, X_teste_tratada, y_teste)\n",
        "        score_teste.append(score)\n",
        "\n",
        "    # Adicionar coluna de score em teste externo e colunas de variações absolutas de score em relação ao treino\n",
        "    resultados_aux[\"score_teste_externo\"] = score_teste\n",
        "    resultados_aux[\"var_abs_media_score_teste_interno\"] = abs(resultados_aux[\"media_score_teste_interno\"] - resultados_aux[\"media_score_treino\"])\n",
        "    resultados_aux[\"var_abs_score_teste_externo\"] = abs(resultados_aux[\"score_teste_externo\"] - resultados_aux[\"media_score_treino\"])\n",
        "\n",
        "    resultados.append(resultados_aux)\n",
        "    contador_modelos += len(resultados_aux)\n",
        "\n",
        "    # Fim da contagem de tempo e mensagem de finalização\n",
        "    fim = time.time()\n",
        "    print(f\"({math.ceil(contador_modelos/qtd_iteracoes)} de {len(algoritmos)}) Processo concluído para o algoritmo {nome_algoritmo} em {fim - inicio:.1f} segundos!\")\n",
        "\n",
        "# Criação de data frame com os resultados\n",
        "resultados = pd.concat(resultados, ignore_index=True)"
      ]
    },
    {
      "cell_type": "markdown",
      "metadata": {
        "id": "qgtHwN5LpQS7"
      },
      "source": [
        "**Comparação de modelos**"
      ]
    },
    {
      "cell_type": "markdown",
      "metadata": {
        "id": "kQAunrSfpQS7"
      },
      "source": [
        "*Ordenação dos melhores modelos*"
      ]
    },
    {
      "cell_type": "code",
      "execution_count": 104,
      "metadata": {
        "id": "h3bepKSepQS7"
      },
      "outputs": [],
      "source": [
        "# Escolha por qual coluna ordenar\n",
        "ordenar_por = \"media_score_teste_interno\"\n",
        "# ordenar_por = \"score_teste_externo\"\n",
        "\n",
        "# Escolha quais o percentuais máximos de variação de score (da média do treino para a média do teste interno; e da média do treino para o teste externo)\n",
        "max_var_perc_score_teste_interno = 0.1  # ex.: 0.1 representa 10%\n",
        "max_var_perc_score_teste_externo = 0.1\n",
        "\n",
        "# Ordenação e filtragem\n",
        "resultados_filt_ord = resultados[(resultados['var_abs_media_score_teste_interno'] < max_var_perc_score_teste_interno) & (resultados['var_abs_score_teste_externo'] < max_var_perc_score_teste_externo)]\n",
        "resultados_filt_ord = resultados_filt_ord.sort_values(ordenar_por, ascending=False)"
      ]
    },
    {
      "cell_type": "markdown",
      "metadata": {
        "id": "-FV9P-D6pQS8"
      },
      "source": [
        "*Exibição dos melhores modelos, em formato de tabela e gráfico*"
      ]
    },
    {
      "cell_type": "code",
      "execution_count": 105,
      "metadata": {
        "id": "czydVSlhpQS8",
        "colab": {
          "base_uri": "https://localhost:8080/",
          "height": 730
        },
        "outputId": "91c29594-2d9e-4317-a5b5-09774aca8538"
      },
      "outputs": [
        {
          "output_type": "execute_result",
          "data": {
            "text/plain": [
              "   num_modelo     nome_algoritmo  \\\n",
              "49  Modelo 49  ÁRVORE DE DECISÃO   \n",
              "39  Modelo 39  ÁRVORE DE DECISÃO   \n",
              "42  Modelo 42  ÁRVORE DE DECISÃO   \n",
              "2    Modelo 2  ÁRVORE DE DECISÃO   \n",
              "0    Modelo 0  ÁRVORE DE DECISÃO   \n",
              "1    Modelo 1  ÁRVORE DE DECISÃO   \n",
              "5    Modelo 5  ÁRVORE DE DECISÃO   \n",
              "4    Modelo 4  ÁRVORE DE DECISÃO   \n",
              "3    Modelo 3  ÁRVORE DE DECISÃO   \n",
              "6    Modelo 6  ÁRVORE DE DECISÃO   \n",
              "\n",
              "                                      hiperparametros  media_score_treino  \\\n",
              "49  {'class_weight': 'balanced', 'criterion': 'ent...               0.627   \n",
              "39  {'class_weight': 'balanced', 'criterion': 'ent...               0.622   \n",
              "42  {'class_weight': 'balanced', 'criterion': 'gin...               0.622   \n",
              "2   {'class_weight': 'balanced', 'criterion': 'ent...               0.599   \n",
              "0   {'class_weight': 'balanced', 'criterion': 'gin...               0.599   \n",
              "1   {'class_weight': 'balanced', 'criterion': 'ent...               0.599   \n",
              "5   {'class_weight': 'balanced', 'criterion': 'gin...               0.599   \n",
              "4   {'class_weight': 'balanced', 'criterion': 'ent...               0.599   \n",
              "3   {'class_weight': 'balanced', 'criterion': 'ent...               0.599   \n",
              "6   {'class_weight': 'balanced', 'criterion': 'ent...               0.599   \n",
              "\n",
              "    dp_score_treino  media_score_teste_interno  dp_score_teste_interno  \\\n",
              "49            0.006                      0.624                   0.010   \n",
              "39            0.003                      0.622                   0.010   \n",
              "42            0.003                      0.622                   0.010   \n",
              "2             0.002                      0.599                   0.010   \n",
              "0             0.002                      0.599                   0.010   \n",
              "1             0.002                      0.599                   0.010   \n",
              "5             0.002                      0.599                   0.010   \n",
              "4             0.002                      0.599                   0.010   \n",
              "3             0.002                      0.599                   0.010   \n",
              "6             0.002                      0.599                   0.010   \n",
              "\n",
              "    var_abs_media_score_teste_interno  score_teste_externo  \\\n",
              "49                              0.003                0.633   \n",
              "39                              0.000                0.633   \n",
              "42                              0.000                0.633   \n",
              "2                               0.000                0.633   \n",
              "0                               0.000                0.633   \n",
              "1                               0.000                0.633   \n",
              "5                               0.000                0.633   \n",
              "4                               0.000                0.633   \n",
              "3                               0.000                0.633   \n",
              "6                               0.000                0.633   \n",
              "\n",
              "    var_abs_score_teste_externo  \n",
              "49                        0.006  \n",
              "39                        0.010  \n",
              "42                        0.010  \n",
              "2                         0.034  \n",
              "0                         0.034  \n",
              "1                         0.034  \n",
              "5                         0.034  \n",
              "4                         0.034  \n",
              "3                         0.034  \n",
              "6                         0.034  "
            ],
            "text/html": [
              "\n",
              "  <div id=\"df-fe6fbdd2-85c2-4660-8a93-3ed49d32a887\" class=\"colab-df-container\">\n",
              "    <div>\n",
              "<style scoped>\n",
              "    .dataframe tbody tr th:only-of-type {\n",
              "        vertical-align: middle;\n",
              "    }\n",
              "\n",
              "    .dataframe tbody tr th {\n",
              "        vertical-align: top;\n",
              "    }\n",
              "\n",
              "    .dataframe thead th {\n",
              "        text-align: right;\n",
              "    }\n",
              "</style>\n",
              "<table border=\"1\" class=\"dataframe\">\n",
              "  <thead>\n",
              "    <tr style=\"text-align: right;\">\n",
              "      <th></th>\n",
              "      <th>num_modelo</th>\n",
              "      <th>nome_algoritmo</th>\n",
              "      <th>hiperparametros</th>\n",
              "      <th>media_score_treino</th>\n",
              "      <th>dp_score_treino</th>\n",
              "      <th>media_score_teste_interno</th>\n",
              "      <th>dp_score_teste_interno</th>\n",
              "      <th>var_abs_media_score_teste_interno</th>\n",
              "      <th>score_teste_externo</th>\n",
              "      <th>var_abs_score_teste_externo</th>\n",
              "    </tr>\n",
              "  </thead>\n",
              "  <tbody>\n",
              "    <tr>\n",
              "      <th>49</th>\n",
              "      <td>Modelo 49</td>\n",
              "      <td>ÁRVORE DE DECISÃO</td>\n",
              "      <td>{'class_weight': 'balanced', 'criterion': 'ent...</td>\n",
              "      <td>0.627</td>\n",
              "      <td>0.006</td>\n",
              "      <td>0.624</td>\n",
              "      <td>0.010</td>\n",
              "      <td>0.003</td>\n",
              "      <td>0.633</td>\n",
              "      <td>0.006</td>\n",
              "    </tr>\n",
              "    <tr>\n",
              "      <th>39</th>\n",
              "      <td>Modelo 39</td>\n",
              "      <td>ÁRVORE DE DECISÃO</td>\n",
              "      <td>{'class_weight': 'balanced', 'criterion': 'ent...</td>\n",
              "      <td>0.622</td>\n",
              "      <td>0.003</td>\n",
              "      <td>0.622</td>\n",
              "      <td>0.010</td>\n",
              "      <td>0.000</td>\n",
              "      <td>0.633</td>\n",
              "      <td>0.010</td>\n",
              "    </tr>\n",
              "    <tr>\n",
              "      <th>42</th>\n",
              "      <td>Modelo 42</td>\n",
              "      <td>ÁRVORE DE DECISÃO</td>\n",
              "      <td>{'class_weight': 'balanced', 'criterion': 'gin...</td>\n",
              "      <td>0.622</td>\n",
              "      <td>0.003</td>\n",
              "      <td>0.622</td>\n",
              "      <td>0.010</td>\n",
              "      <td>0.000</td>\n",
              "      <td>0.633</td>\n",
              "      <td>0.010</td>\n",
              "    </tr>\n",
              "    <tr>\n",
              "      <th>2</th>\n",
              "      <td>Modelo 2</td>\n",
              "      <td>ÁRVORE DE DECISÃO</td>\n",
              "      <td>{'class_weight': 'balanced', 'criterion': 'ent...</td>\n",
              "      <td>0.599</td>\n",
              "      <td>0.002</td>\n",
              "      <td>0.599</td>\n",
              "      <td>0.010</td>\n",
              "      <td>0.000</td>\n",
              "      <td>0.633</td>\n",
              "      <td>0.034</td>\n",
              "    </tr>\n",
              "    <tr>\n",
              "      <th>0</th>\n",
              "      <td>Modelo 0</td>\n",
              "      <td>ÁRVORE DE DECISÃO</td>\n",
              "      <td>{'class_weight': 'balanced', 'criterion': 'gin...</td>\n",
              "      <td>0.599</td>\n",
              "      <td>0.002</td>\n",
              "      <td>0.599</td>\n",
              "      <td>0.010</td>\n",
              "      <td>0.000</td>\n",
              "      <td>0.633</td>\n",
              "      <td>0.034</td>\n",
              "    </tr>\n",
              "    <tr>\n",
              "      <th>1</th>\n",
              "      <td>Modelo 1</td>\n",
              "      <td>ÁRVORE DE DECISÃO</td>\n",
              "      <td>{'class_weight': 'balanced', 'criterion': 'ent...</td>\n",
              "      <td>0.599</td>\n",
              "      <td>0.002</td>\n",
              "      <td>0.599</td>\n",
              "      <td>0.010</td>\n",
              "      <td>0.000</td>\n",
              "      <td>0.633</td>\n",
              "      <td>0.034</td>\n",
              "    </tr>\n",
              "    <tr>\n",
              "      <th>5</th>\n",
              "      <td>Modelo 5</td>\n",
              "      <td>ÁRVORE DE DECISÃO</td>\n",
              "      <td>{'class_weight': 'balanced', 'criterion': 'gin...</td>\n",
              "      <td>0.599</td>\n",
              "      <td>0.002</td>\n",
              "      <td>0.599</td>\n",
              "      <td>0.010</td>\n",
              "      <td>0.000</td>\n",
              "      <td>0.633</td>\n",
              "      <td>0.034</td>\n",
              "    </tr>\n",
              "    <tr>\n",
              "      <th>4</th>\n",
              "      <td>Modelo 4</td>\n",
              "      <td>ÁRVORE DE DECISÃO</td>\n",
              "      <td>{'class_weight': 'balanced', 'criterion': 'ent...</td>\n",
              "      <td>0.599</td>\n",
              "      <td>0.002</td>\n",
              "      <td>0.599</td>\n",
              "      <td>0.010</td>\n",
              "      <td>0.000</td>\n",
              "      <td>0.633</td>\n",
              "      <td>0.034</td>\n",
              "    </tr>\n",
              "    <tr>\n",
              "      <th>3</th>\n",
              "      <td>Modelo 3</td>\n",
              "      <td>ÁRVORE DE DECISÃO</td>\n",
              "      <td>{'class_weight': 'balanced', 'criterion': 'ent...</td>\n",
              "      <td>0.599</td>\n",
              "      <td>0.002</td>\n",
              "      <td>0.599</td>\n",
              "      <td>0.010</td>\n",
              "      <td>0.000</td>\n",
              "      <td>0.633</td>\n",
              "      <td>0.034</td>\n",
              "    </tr>\n",
              "    <tr>\n",
              "      <th>6</th>\n",
              "      <td>Modelo 6</td>\n",
              "      <td>ÁRVORE DE DECISÃO</td>\n",
              "      <td>{'class_weight': 'balanced', 'criterion': 'ent...</td>\n",
              "      <td>0.599</td>\n",
              "      <td>0.002</td>\n",
              "      <td>0.599</td>\n",
              "      <td>0.010</td>\n",
              "      <td>0.000</td>\n",
              "      <td>0.633</td>\n",
              "      <td>0.034</td>\n",
              "    </tr>\n",
              "  </tbody>\n",
              "</table>\n",
              "</div>\n",
              "    <div class=\"colab-df-buttons\">\n",
              "\n",
              "  <div class=\"colab-df-container\">\n",
              "    <button class=\"colab-df-convert\" onclick=\"convertToInteractive('df-fe6fbdd2-85c2-4660-8a93-3ed49d32a887')\"\n",
              "            title=\"Convert this dataframe to an interactive table.\"\n",
              "            style=\"display:none;\">\n",
              "\n",
              "  <svg xmlns=\"http://www.w3.org/2000/svg\" height=\"24px\" viewBox=\"0 -960 960 960\">\n",
              "    <path d=\"M120-120v-720h720v720H120Zm60-500h600v-160H180v160Zm220 220h160v-160H400v160Zm0 220h160v-160H400v160ZM180-400h160v-160H180v160Zm440 0h160v-160H620v160ZM180-180h160v-160H180v160Zm440 0h160v-160H620v160Z\"/>\n",
              "  </svg>\n",
              "    </button>\n",
              "\n",
              "  <style>\n",
              "    .colab-df-container {\n",
              "      display:flex;\n",
              "      gap: 12px;\n",
              "    }\n",
              "\n",
              "    .colab-df-convert {\n",
              "      background-color: #E8F0FE;\n",
              "      border: none;\n",
              "      border-radius: 50%;\n",
              "      cursor: pointer;\n",
              "      display: none;\n",
              "      fill: #1967D2;\n",
              "      height: 32px;\n",
              "      padding: 0 0 0 0;\n",
              "      width: 32px;\n",
              "    }\n",
              "\n",
              "    .colab-df-convert:hover {\n",
              "      background-color: #E2EBFA;\n",
              "      box-shadow: 0px 1px 2px rgba(60, 64, 67, 0.3), 0px 1px 3px 1px rgba(60, 64, 67, 0.15);\n",
              "      fill: #174EA6;\n",
              "    }\n",
              "\n",
              "    .colab-df-buttons div {\n",
              "      margin-bottom: 4px;\n",
              "    }\n",
              "\n",
              "    [theme=dark] .colab-df-convert {\n",
              "      background-color: #3B4455;\n",
              "      fill: #D2E3FC;\n",
              "    }\n",
              "\n",
              "    [theme=dark] .colab-df-convert:hover {\n",
              "      background-color: #434B5C;\n",
              "      box-shadow: 0px 1px 3px 1px rgba(0, 0, 0, 0.15);\n",
              "      filter: drop-shadow(0px 1px 2px rgba(0, 0, 0, 0.3));\n",
              "      fill: #FFFFFF;\n",
              "    }\n",
              "  </style>\n",
              "\n",
              "    <script>\n",
              "      const buttonEl =\n",
              "        document.querySelector('#df-fe6fbdd2-85c2-4660-8a93-3ed49d32a887 button.colab-df-convert');\n",
              "      buttonEl.style.display =\n",
              "        google.colab.kernel.accessAllowed ? 'block' : 'none';\n",
              "\n",
              "      async function convertToInteractive(key) {\n",
              "        const element = document.querySelector('#df-fe6fbdd2-85c2-4660-8a93-3ed49d32a887');\n",
              "        const dataTable =\n",
              "          await google.colab.kernel.invokeFunction('convertToInteractive',\n",
              "                                                    [key], {});\n",
              "        if (!dataTable) return;\n",
              "\n",
              "        const docLinkHtml = 'Like what you see? Visit the ' +\n",
              "          '<a target=\"_blank\" href=https://colab.research.google.com/notebooks/data_table.ipynb>data table notebook</a>'\n",
              "          + ' to learn more about interactive tables.';\n",
              "        element.innerHTML = '';\n",
              "        dataTable['output_type'] = 'display_data';\n",
              "        await google.colab.output.renderOutput(dataTable, element);\n",
              "        const docLink = document.createElement('div');\n",
              "        docLink.innerHTML = docLinkHtml;\n",
              "        element.appendChild(docLink);\n",
              "      }\n",
              "    </script>\n",
              "  </div>\n",
              "\n",
              "\n",
              "    <div id=\"df-d3c656df-3aa3-4d3d-979b-915e75a303b2\">\n",
              "      <button class=\"colab-df-quickchart\" onclick=\"quickchart('df-d3c656df-3aa3-4d3d-979b-915e75a303b2')\"\n",
              "                title=\"Suggest charts\"\n",
              "                style=\"display:none;\">\n",
              "\n",
              "<svg xmlns=\"http://www.w3.org/2000/svg\" height=\"24px\"viewBox=\"0 0 24 24\"\n",
              "     width=\"24px\">\n",
              "    <g>\n",
              "        <path d=\"M19 3H5c-1.1 0-2 .9-2 2v14c0 1.1.9 2 2 2h14c1.1 0 2-.9 2-2V5c0-1.1-.9-2-2-2zM9 17H7v-7h2v7zm4 0h-2V7h2v10zm4 0h-2v-4h2v4z\"/>\n",
              "    </g>\n",
              "</svg>\n",
              "      </button>\n",
              "\n",
              "<style>\n",
              "  .colab-df-quickchart {\n",
              "      --bg-color: #E8F0FE;\n",
              "      --fill-color: #1967D2;\n",
              "      --hover-bg-color: #E2EBFA;\n",
              "      --hover-fill-color: #174EA6;\n",
              "      --disabled-fill-color: #AAA;\n",
              "      --disabled-bg-color: #DDD;\n",
              "  }\n",
              "\n",
              "  [theme=dark] .colab-df-quickchart {\n",
              "      --bg-color: #3B4455;\n",
              "      --fill-color: #D2E3FC;\n",
              "      --hover-bg-color: #434B5C;\n",
              "      --hover-fill-color: #FFFFFF;\n",
              "      --disabled-bg-color: #3B4455;\n",
              "      --disabled-fill-color: #666;\n",
              "  }\n",
              "\n",
              "  .colab-df-quickchart {\n",
              "    background-color: var(--bg-color);\n",
              "    border: none;\n",
              "    border-radius: 50%;\n",
              "    cursor: pointer;\n",
              "    display: none;\n",
              "    fill: var(--fill-color);\n",
              "    height: 32px;\n",
              "    padding: 0;\n",
              "    width: 32px;\n",
              "  }\n",
              "\n",
              "  .colab-df-quickchart:hover {\n",
              "    background-color: var(--hover-bg-color);\n",
              "    box-shadow: 0 1px 2px rgba(60, 64, 67, 0.3), 0 1px 3px 1px rgba(60, 64, 67, 0.15);\n",
              "    fill: var(--button-hover-fill-color);\n",
              "  }\n",
              "\n",
              "  .colab-df-quickchart-complete:disabled,\n",
              "  .colab-df-quickchart-complete:disabled:hover {\n",
              "    background-color: var(--disabled-bg-color);\n",
              "    fill: var(--disabled-fill-color);\n",
              "    box-shadow: none;\n",
              "  }\n",
              "\n",
              "  .colab-df-spinner {\n",
              "    border: 2px solid var(--fill-color);\n",
              "    border-color: transparent;\n",
              "    border-bottom-color: var(--fill-color);\n",
              "    animation:\n",
              "      spin 1s steps(1) infinite;\n",
              "  }\n",
              "\n",
              "  @keyframes spin {\n",
              "    0% {\n",
              "      border-color: transparent;\n",
              "      border-bottom-color: var(--fill-color);\n",
              "      border-left-color: var(--fill-color);\n",
              "    }\n",
              "    20% {\n",
              "      border-color: transparent;\n",
              "      border-left-color: var(--fill-color);\n",
              "      border-top-color: var(--fill-color);\n",
              "    }\n",
              "    30% {\n",
              "      border-color: transparent;\n",
              "      border-left-color: var(--fill-color);\n",
              "      border-top-color: var(--fill-color);\n",
              "      border-right-color: var(--fill-color);\n",
              "    }\n",
              "    40% {\n",
              "      border-color: transparent;\n",
              "      border-right-color: var(--fill-color);\n",
              "      border-top-color: var(--fill-color);\n",
              "    }\n",
              "    60% {\n",
              "      border-color: transparent;\n",
              "      border-right-color: var(--fill-color);\n",
              "    }\n",
              "    80% {\n",
              "      border-color: transparent;\n",
              "      border-right-color: var(--fill-color);\n",
              "      border-bottom-color: var(--fill-color);\n",
              "    }\n",
              "    90% {\n",
              "      border-color: transparent;\n",
              "      border-bottom-color: var(--fill-color);\n",
              "    }\n",
              "  }\n",
              "</style>\n",
              "\n",
              "      <script>\n",
              "        async function quickchart(key) {\n",
              "          const quickchartButtonEl =\n",
              "            document.querySelector('#' + key + ' button');\n",
              "          quickchartButtonEl.disabled = true;  // To prevent multiple clicks.\n",
              "          quickchartButtonEl.classList.add('colab-df-spinner');\n",
              "          try {\n",
              "            const charts = await google.colab.kernel.invokeFunction(\n",
              "                'suggestCharts', [key], {});\n",
              "          } catch (error) {\n",
              "            console.error('Error during call to suggestCharts:', error);\n",
              "          }\n",
              "          quickchartButtonEl.classList.remove('colab-df-spinner');\n",
              "          quickchartButtonEl.classList.add('colab-df-quickchart-complete');\n",
              "        }\n",
              "        (() => {\n",
              "          let quickchartButtonEl =\n",
              "            document.querySelector('#df-d3c656df-3aa3-4d3d-979b-915e75a303b2 button');\n",
              "          quickchartButtonEl.style.display =\n",
              "            google.colab.kernel.accessAllowed ? 'block' : 'none';\n",
              "        })();\n",
              "      </script>\n",
              "    </div>\n",
              "\n",
              "    </div>\n",
              "  </div>\n"
            ],
            "application/vnd.google.colaboratory.intrinsic+json": {
              "type": "dataframe",
              "summary": "{\n  \"name\": \"                     'var_abs_score_teste_externo']]\",\n  \"rows\": 10,\n  \"fields\": [\n    {\n      \"column\": \"num_modelo\",\n      \"properties\": {\n        \"dtype\": \"string\",\n        \"num_unique_values\": 10,\n        \"samples\": [\n          \"Modelo 3\",\n          \"Modelo 39\",\n          \"Modelo 1\"\n        ],\n        \"semantic_type\": \"\",\n        \"description\": \"\"\n      }\n    },\n    {\n      \"column\": \"nome_algoritmo\",\n      \"properties\": {\n        \"dtype\": \"category\",\n        \"num_unique_values\": 1,\n        \"samples\": [\n          \"\\u00c1RVORE DE DECIS\\u00c3O\"\n        ],\n        \"semantic_type\": \"\",\n        \"description\": \"\"\n      }\n    },\n    {\n      \"column\": \"hiperparametros\",\n      \"properties\": {\n        \"dtype\": \"object\",\n        \"semantic_type\": \"\",\n        \"description\": \"\"\n      }\n    },\n    {\n      \"column\": \"media_score_treino\",\n      \"properties\": {\n        \"dtype\": \"number\",\n        \"std\": 0.012250892903012562,\n        \"min\": 0.5987282899205122,\n        \"max\": 0.6270158793758391,\n        \"num_unique_values\": 3,\n        \"samples\": [\n          0.6270158793758391\n        ],\n        \"semantic_type\": \"\",\n        \"description\": \"\"\n      }\n    },\n    {\n      \"column\": \"dp_score_treino\",\n      \"properties\": {\n        \"dtype\": \"number\",\n        \"std\": 0.0010524097356614894,\n        \"min\": 0.002411275211423872,\n        \"max\": 0.005770640315611638,\n        \"num_unique_values\": 3,\n        \"samples\": [\n          0.005770640315611638\n        ],\n        \"semantic_type\": \"\",\n        \"description\": \"\"\n      }\n    },\n    {\n      \"column\": \"media_score_teste_interno\",\n      \"properties\": {\n        \"dtype\": \"number\",\n        \"std\": 0.011798852625914968,\n        \"min\": 0.598722598766732,\n        \"max\": 0.6244314726087756,\n        \"num_unique_values\": 3,\n        \"samples\": [\n          0.6244314726087756\n        ],\n        \"semantic_type\": \"\",\n        \"description\": \"\"\n      }\n    },\n    {\n      \"column\": \"dp_score_teste_interno\",\n      \"properties\": {\n        \"dtype\": \"number\",\n        \"std\": 0.00029929244780197665,\n        \"min\": 0.00965061324493667,\n        \"max\": 0.010346995630727045,\n        \"num_unique_values\": 3,\n        \"samples\": [\n          0.010045317436282777\n        ],\n        \"semantic_type\": \"\",\n        \"description\": \"\"\n      }\n    },\n    {\n      \"column\": \"var_abs_media_score_teste_interno\",\n      \"properties\": {\n        \"dtype\": \"number\",\n        \"std\": 0.0008131483953920564,\n        \"min\": 5.691153780240654e-06,\n        \"max\": 0.0025844067670635074,\n        \"num_unique_values\": 3,\n        \"samples\": [\n          0.0025844067670635074\n        ],\n        \"semantic_type\": \"\",\n        \"description\": \"\"\n      }\n    },\n    {\n      \"column\": \"score_teste_externo\",\n      \"properties\": {\n        \"dtype\": \"number\",\n        \"std\": 1.1702778228589004e-16,\n        \"min\": 0.6326533762369853,\n        \"max\": 0.6326533762369853,\n        \"num_unique_values\": 1,\n        \"samples\": [\n          0.6326533762369853\n        ],\n        \"semantic_type\": \"\",\n        \"description\": \"\"\n      }\n    },\n    {\n      \"column\": \"var_abs_score_teste_externo\",\n      \"properties\": {\n        \"dtype\": \"number\",\n        \"std\": 0.012250892903012563,\n        \"min\": 0.0056374968611461185,\n        \"max\": 0.03392508631647306,\n        \"num_unique_values\": 3,\n        \"samples\": [\n          0.0056374968611461185\n        ],\n        \"semantic_type\": \"\",\n        \"description\": \"\"\n      }\n    }\n  ]\n}"
            }
          },
          "metadata": {},
          "execution_count": 105
        }
      ],
      "source": [
        "pd.set_option('display.float_format', '{:.3f}'.format)   # Quantidade de casas decimais\n",
        "resultados_filt_ord[['num_modelo',\n",
        "                     'nome_algoritmo',\n",
        "                     'hiperparametros',\n",
        "                     'media_score_treino',\n",
        "                     'dp_score_treino',\n",
        "                     'media_score_teste_interno',\n",
        "                     'dp_score_teste_interno',\n",
        "                     'var_abs_media_score_teste_interno',\n",
        "                     'score_teste_externo',\n",
        "                     'var_abs_score_teste_externo']].head(10)   # Escolha quantos modelos quer exibir"
      ]
    },
    {
      "cell_type": "code",
      "execution_count": 106,
      "metadata": {
        "id": "H-SiHhRbpQS8",
        "colab": {
          "base_uri": "https://localhost:8080/",
          "height": 304
        },
        "outputId": "52e8762f-4ea1-4a64-fd21-3152e65a5f99"
      },
      "outputs": [
        {
          "output_type": "display_data",
          "data": {
            "text/plain": [
              "<Figure size 1800x600 with 1 Axes>"
            ],
            "image/png": "[encoded data removed]"
          },
          "metadata": {}
        }
      ],
      "source": [
        "dados_grafico = resultados_filt_ord.head(10)     # Escolha quantos modelos quer exibir\n",
        "x_pos = np.arange(len(dados_grafico))            # Posições dos rótulos do eixo X\n",
        "largura_barra = 0.25                             # Largura das barras\n",
        "\n",
        "plt.figure(figsize=(18, 6))\n",
        "plt.bar(x_pos - largura_barra,                   # Série com score médio de treino\n",
        "        dados_grafico[\"media_score_treino\"],\n",
        "        width=largura_barra,\n",
        "        label=\"Score Médio de Treino\",\n",
        "        color=\"lightgray\")\n",
        "plt.bar(x_pos,                                   # Série com score médio de teste interno\n",
        "        dados_grafico[\"media_score_teste_interno\"],\n",
        "        width=largura_barra,\n",
        "        label=\"Score Médio de Teste Interno\",\n",
        "        color=\"darkcyan\")\n",
        "plt.bar(x_pos + largura_barra,                   # Série com score médio de teste externo\n",
        "        dados_grafico[\"score_teste_externo\"],\n",
        "        width=largura_barra,\n",
        "        label=\"Score de Teste Externo\",\n",
        "        color=\"turquoise\")\n",
        "\n",
        "plt.xticks(x_pos,\n",
        "           dados_grafico[\"num_modelo\"],\n",
        "           rotation=0,\n",
        "           ha='center')\n",
        "plt.ylabel(\"Score\")\n",
        "plt.title(\"Comparativo dos Melhores Modelos: Treino, Teste Interno e Teste Externo\")\n",
        "plt.legend()\n",
        "plt.tight_layout()\n",
        "plt.grid(axis='y', linestyle='--', alpha=0.5)\n",
        "plt.show()"
      ]
    },
    {
      "cell_type": "markdown",
      "metadata": {
        "id": "WKo9XJ0spQS8"
      },
      "source": [
        "*Escolha do modelo*"
      ]
    },
    {
      "cell_type": "code",
      "execution_count": 107,
      "metadata": {
        "id": "LqWKWhmxpQS8"
      },
      "outputs": [],
      "source": [
        "num_modelo_escolhido = \"Modelo 49\""
      ]
    },
    {
      "cell_type": "markdown",
      "metadata": {
        "id": "qrQ8gZfepQS8"
      },
      "source": [
        "*Características do modelo escolhido*"
      ]
    },
    {
      "cell_type": "code",
      "execution_count": 108,
      "metadata": {
        "id": "_e1uo_JHpQS8",
        "colab": {
          "base_uri": "https://localhost:8080/"
        },
        "outputId": "3b9bfdf8-fbe3-4ce2-df3a-59a20fcca519"
      },
      "outputs": [
        {
          "output_type": "stream",
          "name": "stdout",
          "text": [
            "O modelo final adotado foi construído com o algoritmo ÁRVORE DE DECISÃO, com hiperparâmetros: {'class_weight': 'balanced', 'criterion': 'entropy', 'max_depth': 10, 'min_impurity_decrease': np.float64(0.0028), 'min_samples_leaf': 715, 'min_samples_split': 1744}\n"
          ]
        }
      ],
      "source": [
        "linha = resultados.loc[resultados[\"num_modelo\"] == num_modelo_escolhido].squeeze()\n",
        "nome_algoritmo = linha[\"nome_algoritmo\"]\n",
        "hiperparametros = linha[\"hiperparametros\"]\n",
        "classe = algoritmos[nome_algoritmo][0]\n",
        "print(f\"O modelo final adotado foi construído com o algoritmo {nome_algoritmo}, com hiperparâmetros: { {k: round(v, 4) if isinstance(v, float) else v for k, v in hiperparametros.items()} }\")"
      ]
    },
    {
      "cell_type": "markdown",
      "metadata": {
        "id": "lHWpHaxupQS8"
      },
      "source": [
        "*Retreino do modelo no conjunto de treino completo*"
      ]
    },
    {
      "cell_type": "code",
      "execution_count": 109,
      "metadata": {
        "id": "P_Yvxp1opQS8",
        "colab": {
          "base_uri": "https://localhost:8080/",
          "height": 150
        },
        "outputId": "acb958b8-1ec4-49ff-ec63-631c574de3b9"
      },
      "outputs": [
        {
          "output_type": "execute_result",
          "data": {
            "text/plain": [
              "DecisionTreeClassifier(class_weight='balanced', criterion='entropy',\n",
              "                       max_depth=10,\n",
              "                       min_impurity_decrease=np.float64(0.0028309999967802315),\n",
              "                       min_samples_leaf=715, min_samples_split=1744,\n",
              "                       random_state=123)"
            ],
            "text/html": [
              "<style>#sk-container-id-2 {\n",
              "  /* Definition of color scheme common for light and dark mode */\n",
              "  --sklearn-color-text: #000;\n",
              "  --sklearn-color-text-muted: #666;\n",
              "  --sklearn-color-line: gray;\n",
              "  /* Definition of color scheme for unfitted estimators */\n",
              "  --sklearn-color-unfitted-level-0: #fff5e6;\n",
              "  --sklearn-color-unfitted-level-1: #f6e4d2;\n",
              "  --sklearn-color-unfitted-level-2: #ffe0b3;\n",
              "  --sklearn-color-unfitted-level-3: chocolate;\n",
              "  /* Definition of color scheme for fitted estimators */\n",
              "  --sklearn-color-fitted-level-0: #f0f8ff;\n",
              "  --sklearn-color-fitted-level-1: #d4ebff;\n",
              "  --sklearn-color-fitted-level-2: #b3dbfd;\n",
              "  --sklearn-color-fitted-level-3: cornflowerblue;\n",
              "\n",
              "  /* Specific color for light theme */\n",
              "  --sklearn-color-text-on-default-background: var(--sg-text-color, var(--theme-code-foreground, var(--jp-content-font-color1, black)));\n",
              "  --sklearn-color-background: var(--sg-background-color, var(--theme-background, var(--jp-layout-color0, white)));\n",
              "  --sklearn-color-border-box: var(--sg-text-color, var(--theme-code-foreground, var(--jp-content-font-color1, black)));\n",
              "  --sklearn-color-icon: #696969;\n",
              "\n",
              "  @media (prefers-color-scheme: dark) {\n",
              "    /* Redefinition of color scheme for dark theme */\n",
              "    --sklearn-color-text-on-default-background: var(--sg-text-color, var(--theme-code-foreground, var(--jp-content-font-color1, white)));\n",
              "    --sklearn-color-background: var(--sg-background-color, var(--theme-background, var(--jp-layout-color0, #111)));\n",
              "    --sklearn-color-border-box: var(--sg-text-color, var(--theme-code-foreground, var(--jp-content-font-color1, white)));\n",
              "    --sklearn-color-icon: #878787;\n",
              "  }\n",
              "}\n",
              "\n",
              "#sk-container-id-2 {\n",
              "  color: var(--sklearn-color-text);\n",
              "}\n",
              "\n",
              "#sk-container-id-2 pre {\n",
              "  padding: 0;\n",
              "}\n",
              "\n",
              "#sk-container-id-2 input.sk-hidden--visually {\n",
              "  border: 0;\n",
              "  clip: rect(1px 1px 1px 1px);\n",
              "  clip: rect(1px, 1px, 1px, 1px);\n",
              "  height: 1px;\n",
              "  margin: -1px;\n",
              "  overflow: hidden;\n",
              "  padding: 0;\n",
              "  position: absolute;\n",
              "  width: 1px;\n",
              "}\n",
              "\n",
              "#sk-container-id-2 div.sk-dashed-wrapped {\n",
              "  border: 1px dashed var(--sklearn-color-line);\n",
              "  margin: 0 0.4em 0.5em 0.4em;\n",
              "  box-sizing: border-box;\n",
              "  padding-bottom: 0.4em;\n",
              "  background-color: var(--sklearn-color-background);\n",
              "}\n",
              "\n",
              "#sk-container-id-2 div.sk-container {\n",
              "  /* jupyter's `normalize.less` sets `[hidden] { display: none; }`\n",
              "     but bootstrap.min.css set `[hidden] { display: none !important; }`\n",
              "     so we also need the `!important` here to be able to override the\n",
              "     default hidden behavior on the sphinx rendered scikit-learn.org.\n",
              "     See: https://github.com/scikit-learn/scikit-learn/issues/21755 */\n",
              "  display: inline-block !important;\n",
              "  position: relative;\n",
              "}\n",
              "\n",
              "#sk-container-id-2 div.sk-text-repr-fallback {\n",
              "  display: none;\n",
              "}\n",
              "\n",
              "div.sk-parallel-item,\n",
              "div.sk-serial,\n",
              "div.sk-item {\n",
              "  /* draw centered vertical line to link estimators */\n",
              "  background-image: linear-gradient(var(--sklearn-color-text-on-default-background), var(--sklearn-color-text-on-default-background));\n",
              "  background-size: 2px 100%;\n",
              "  background-repeat: no-repeat;\n",
              "  background-position: center center;\n",
              "}\n",
              "\n",
              "/* Parallel-specific style estimator block */\n",
              "\n",
              "#sk-container-id-2 div.sk-parallel-item::after {\n",
              "  content: \"\";\n",
              "  width: 100%;\n",
              "  border-bottom: 2px solid var(--sklearn-color-text-on-default-background);\n",
              "  flex-grow: 1;\n",
              "}\n",
              "\n",
              "#sk-container-id-2 div.sk-parallel {\n",
              "  display: flex;\n",
              "  align-items: stretch;\n",
              "  justify-content: center;\n",
              "  background-color: var(--sklearn-color-background);\n",
              "  position: relative;\n",
              "}\n",
              "\n",
              "#sk-container-id-2 div.sk-parallel-item {\n",
              "  display: flex;\n",
              "  flex-direction: column;\n",
              "}\n",
              "\n",
              "#sk-container-id-2 div.sk-parallel-item:first-child::after {\n",
              "  align-self: flex-end;\n",
              "  width: 50%;\n",
              "}\n",
              "\n",
              "#sk-container-id-2 div.sk-parallel-item:last-child::after {\n",
              "  align-self: flex-start;\n",
              "  width: 50%;\n",
              "}\n",
              "\n",
              "#sk-container-id-2 div.sk-parallel-item:only-child::after {\n",
              "  width: 0;\n",
              "}\n",
              "\n",
              "/* Serial-specific style estimator block */\n",
              "\n",
              "#sk-container-id-2 div.sk-serial {\n",
              "  display: flex;\n",
              "  flex-direction: column;\n",
              "  align-items: center;\n",
              "  background-color: var(--sklearn-color-background);\n",
              "  padding-right: 1em;\n",
              "  padding-left: 1em;\n",
              "}\n",
              "\n",
              "\n",
              "/* Toggleable style: style used for estimator/Pipeline/ColumnTransformer box that is\n",
              "clickable and can be expanded/collapsed.\n",
              "- Pipeline and ColumnTransformer use this feature and define the default style\n",
              "- Estimators will overwrite some part of the style using the `sk-estimator` class\n",
              "*/\n",
              "\n",
              "/* Pipeline and ColumnTransformer style (default) */\n",
              "\n",
              "#sk-container-id-2 div.sk-toggleable {\n",
              "  /* Default theme specific background. It is overwritten whether we have a\n",
              "  specific estimator or a Pipeline/ColumnTransformer */\n",
              "  background-color: var(--sklearn-color-background);\n",
              "}\n",
              "\n",
              "/* Toggleable label */\n",
              "#sk-container-id-2 label.sk-toggleable__label {\n",
              "  cursor: pointer;\n",
              "  display: flex;\n",
              "  width: 100%;\n",
              "  margin-bottom: 0;\n",
              "  padding: 0.5em;\n",
              "  box-sizing: border-box;\n",
              "  text-align: center;\n",
              "  align-items: start;\n",
              "  justify-content: space-between;\n",
              "  gap: 0.5em;\n",
              "}\n",
              "\n",
              "#sk-container-id-2 label.sk-toggleable__label .caption {\n",
              "  font-size: 0.6rem;\n",
              "  font-weight: lighter;\n",
              "  color: var(--sklearn-color-text-muted);\n",
              "}\n",
              "\n",
              "#sk-container-id-2 label.sk-toggleable__label-arrow:before {\n",
              "  /* Arrow on the left of the label */\n",
              "  content: \"▸\";\n",
              "  float: left;\n",
              "  margin-right: 0.25em;\n",
              "  color: var(--sklearn-color-icon);\n",
              "}\n",
              "\n",
              "#sk-container-id-2 label.sk-toggleable__label-arrow:hover:before {\n",
              "  color: var(--sklearn-color-text);\n",
              "}\n",
              "\n",
              "/* Toggleable content - dropdown */\n",
              "\n",
              "#sk-container-id-2 div.sk-toggleable__content {\n",
              "  max-height: 0;\n",
              "  max-width: 0;\n",
              "  overflow: hidden;\n",
              "  text-align: left;\n",
              "  /* unfitted */\n",
              "  background-color: var(--sklearn-color-unfitted-level-0);\n",
              "}\n",
              "\n",
              "#sk-container-id-2 div.sk-toggleable__content.fitted {\n",
              "  /* fitted */\n",
              "  background-color: var(--sklearn-color-fitted-level-0);\n",
              "}\n",
              "\n",
              "#sk-container-id-2 div.sk-toggleable__content pre {\n",
              "  margin: 0.2em;\n",
              "  border-radius: 0.25em;\n",
              "  color: var(--sklearn-color-text);\n",
              "  /* unfitted */\n",
              "  background-color: var(--sklearn-color-unfitted-level-0);\n",
              "}\n",
              "\n",
              "#sk-container-id-2 div.sk-toggleable__content.fitted pre {\n",
              "  /* unfitted */\n",
              "  background-color: var(--sklearn-color-fitted-level-0);\n",
              "}\n",
              "\n",
              "#sk-container-id-2 input.sk-toggleable__control:checked~div.sk-toggleable__content {\n",
              "  /* Expand drop-down */\n",
              "  max-height: 200px;\n",
              "  max-width: 100%;\n",
              "  overflow: auto;\n",
              "}\n",
              "\n",
              "#sk-container-id-2 input.sk-toggleable__control:checked~label.sk-toggleable__label-arrow:before {\n",
              "  content: \"▾\";\n",
              "}\n",
              "\n",
              "/* Pipeline/ColumnTransformer-specific style */\n",
              "\n",
              "#sk-container-id-2 div.sk-label input.sk-toggleable__control:checked~label.sk-toggleable__label {\n",
              "  color: var(--sklearn-color-text);\n",
              "  background-color: var(--sklearn-color-unfitted-level-2);\n",
              "}\n",
              "\n",
              "#sk-container-id-2 div.sk-label.fitted input.sk-toggleable__control:checked~label.sk-toggleable__label {\n",
              "  background-color: var(--sklearn-color-fitted-level-2);\n",
              "}\n",
              "\n",
              "/* Estimator-specific style */\n",
              "\n",
              "/* Colorize estimator box */\n",
              "#sk-container-id-2 div.sk-estimator input.sk-toggleable__control:checked~label.sk-toggleable__label {\n",
              "  /* unfitted */\n",
              "  background-color: var(--sklearn-color-unfitted-level-2);\n",
              "}\n",
              "\n",
              "#sk-container-id-2 div.sk-estimator.fitted input.sk-toggleable__control:checked~label.sk-toggleable__label {\n",
              "  /* fitted */\n",
              "  background-color: var(--sklearn-color-fitted-level-2);\n",
              "}\n",
              "\n",
              "#sk-container-id-2 div.sk-label label.sk-toggleable__label,\n",
              "#sk-container-id-2 div.sk-label label {\n",
              "  /* The background is the default theme color */\n",
              "  color: var(--sklearn-color-text-on-default-background);\n",
              "}\n",
              "\n",
              "/* On hover, darken the color of the background */\n",
              "#sk-container-id-2 div.sk-label:hover label.sk-toggleable__label {\n",
              "  color: var(--sklearn-color-text);\n",
              "  background-color: var(--sklearn-color-unfitted-level-2);\n",
              "}\n",
              "\n",
              "/* Label box, darken color on hover, fitted */\n",
              "#sk-container-id-2 div.sk-label.fitted:hover label.sk-toggleable__label.fitted {\n",
              "  color: var(--sklearn-color-text);\n",
              "  background-color: var(--sklearn-color-fitted-level-2);\n",
              "}\n",
              "\n",
              "/* Estimator label */\n",
              "\n",
              "#sk-container-id-2 div.sk-label label {\n",
              "  font-family: monospace;\n",
              "  font-weight: bold;\n",
              "  display: inline-block;\n",
              "  line-height: 1.2em;\n",
              "}\n",
              "\n",
              "#sk-container-id-2 div.sk-label-container {\n",
              "  text-align: center;\n",
              "}\n",
              "\n",
              "/* Estimator-specific */\n",
              "#sk-container-id-2 div.sk-estimator {\n",
              "  font-family: monospace;\n",
              "  border: 1px dotted var(--sklearn-color-border-box);\n",
              "  border-radius: 0.25em;\n",
              "  box-sizing: border-box;\n",
              "  margin-bottom: 0.5em;\n",
              "  /* unfitted */\n",
              "  background-color: var(--sklearn-color-unfitted-level-0);\n",
              "}\n",
              "\n",
              "#sk-container-id-2 div.sk-estimator.fitted {\n",
              "  /* fitted */\n",
              "  background-color: var(--sklearn-color-fitted-level-0);\n",
              "}\n",
              "\n",
              "/* on hover */\n",
              "#sk-container-id-2 div.sk-estimator:hover {\n",
              "  /* unfitted */\n",
              "  background-color: var(--sklearn-color-unfitted-level-2);\n",
              "}\n",
              "\n",
              "#sk-container-id-2 div.sk-estimator.fitted:hover {\n",
              "  /* fitted */\n",
              "  background-color: var(--sklearn-color-fitted-level-2);\n",
              "}\n",
              "\n",
              "/* Specification for estimator info (e.g. \"i\" and \"?\") */\n",
              "\n",
              "/* Common style for \"i\" and \"?\" */\n",
              "\n",
              ".sk-estimator-doc-link,\n",
              "a:link.sk-estimator-doc-link,\n",
              "a:visited.sk-estimator-doc-link {\n",
              "  float: right;\n",
              "  font-size: smaller;\n",
              "  line-height: 1em;\n",
              "  font-family: monospace;\n",
              "  background-color: var(--sklearn-color-background);\n",
              "  border-radius: 1em;\n",
              "  height: 1em;\n",
              "  width: 1em;\n",
              "  text-decoration: none !important;\n",
              "  margin-left: 0.5em;\n",
              "  text-align: center;\n",
              "  /* unfitted */\n",
              "  border: var(--sklearn-color-unfitted-level-1) 1pt solid;\n",
              "  color: var(--sklearn-color-unfitted-level-1);\n",
              "}\n",
              "\n",
              ".sk-estimator-doc-link.fitted,\n",
              "a:link.sk-estimator-doc-link.fitted,\n",
              "a:visited.sk-estimator-doc-link.fitted {\n",
              "  /* fitted */\n",
              "  border: var(--sklearn-color-fitted-level-1) 1pt solid;\n",
              "  color: var(--sklearn-color-fitted-level-1);\n",
              "}\n",
              "\n",
              "/* On hover */\n",
              "div.sk-estimator:hover .sk-estimator-doc-link:hover,\n",
              ".sk-estimator-doc-link:hover,\n",
              "div.sk-label-container:hover .sk-estimator-doc-link:hover,\n",
              ".sk-estimator-doc-link:hover {\n",
              "  /* unfitted */\n",
              "  background-color: var(--sklearn-color-unfitted-level-3);\n",
              "  color: var(--sklearn-color-background);\n",
              "  text-decoration: none;\n",
              "}\n",
              "\n",
              "div.sk-estimator.fitted:hover .sk-estimator-doc-link.fitted:hover,\n",
              ".sk-estimator-doc-link.fitted:hover,\n",
              "div.sk-label-container:hover .sk-estimator-doc-link.fitted:hover,\n",
              ".sk-estimator-doc-link.fitted:hover {\n",
              "  /* fitted */\n",
              "  background-color: var(--sklearn-color-fitted-level-3);\n",
              "  color: var(--sklearn-color-background);\n",
              "  text-decoration: none;\n",
              "}\n",
              "\n",
              "/* Span, style for the box shown on hovering the info icon */\n",
              ".sk-estimator-doc-link span {\n",
              "  display: none;\n",
              "  z-index: 9999;\n",
              "  position: relative;\n",
              "  font-weight: normal;\n",
              "  right: .2ex;\n",
              "  padding: .5ex;\n",
              "  margin: .5ex;\n",
              "  width: min-content;\n",
              "  min-width: 20ex;\n",
              "  max-width: 50ex;\n",
              "  color: var(--sklearn-color-text);\n",
              "  box-shadow: 2pt 2pt 4pt #999;\n",
              "  /* unfitted */\n",
              "  background: var(--sklearn-color-unfitted-level-0);\n",
              "  border: .5pt solid var(--sklearn-color-unfitted-level-3);\n",
              "}\n",
              "\n",
              ".sk-estimator-doc-link.fitted span {\n",
              "  /* fitted */\n",
              "  background: var(--sklearn-color-fitted-level-0);\n",
              "  border: var(--sklearn-color-fitted-level-3);\n",
              "}\n",
              "\n",
              ".sk-estimator-doc-link:hover span {\n",
              "  display: block;\n",
              "}\n",
              "\n",
              "/* \"?\"-specific style due to the `<a>` HTML tag */\n",
              "\n",
              "#sk-container-id-2 a.estimator_doc_link {\n",
              "  float: right;\n",
              "  font-size: 1rem;\n",
              "  line-height: 1em;\n",
              "  font-family: monospace;\n",
              "  background-color: var(--sklearn-color-background);\n",
              "  border-radius: 1rem;\n",
              "  height: 1rem;\n",
              "  width: 1rem;\n",
              "  text-decoration: none;\n",
              "  /* unfitted */\n",
              "  color: var(--sklearn-color-unfitted-level-1);\n",
              "  border: var(--sklearn-color-unfitted-level-1) 1pt solid;\n",
              "}\n",
              "\n",
              "#sk-container-id-2 a.estimator_doc_link.fitted {\n",
              "  /* fitted */\n",
              "  border: var(--sklearn-color-fitted-level-1) 1pt solid;\n",
              "  color: var(--sklearn-color-fitted-level-1);\n",
              "}\n",
              "\n",
              "/* On hover */\n",
              "#sk-container-id-2 a.estimator_doc_link:hover {\n",
              "  /* unfitted */\n",
              "  background-color: var(--sklearn-color-unfitted-level-3);\n",
              "  color: var(--sklearn-color-background);\n",
              "  text-decoration: none;\n",
              "}\n",
              "\n",
              "#sk-container-id-2 a.estimator_doc_link.fitted:hover {\n",
              "  /* fitted */\n",
              "  background-color: var(--sklearn-color-fitted-level-3);\n",
              "}\n",
              "</style><div id=\"sk-container-id-2\" class=\"sk-top-container\"><div class=\"sk-text-repr-fallback\"><pre>DecisionTreeClassifier(class_weight=&#x27;balanced&#x27;, criterion=&#x27;entropy&#x27;,\n",
              "                       max_depth=10,\n",
              "                       min_impurity_decrease=np.float64(0.0028309999967802315),\n",
              "                       min_samples_leaf=715, min_samples_split=1744,\n",
              "                       random_state=123)</pre><b>In a Jupyter environment, please rerun this cell to show the HTML representation or trust the notebook. <br />On GitHub, the HTML representation is unable to render, please try loading this page with nbviewer.org.</b></div><div class=\"sk-container\" hidden><div class=\"sk-item\"><div class=\"sk-estimator fitted sk-toggleable\"><input class=\"sk-toggleable__control sk-hidden--visually\" id=\"sk-estimator-id-2\" type=\"checkbox\" checked><label for=\"sk-estimator-id-2\" class=\"sk-toggleable__label fitted sk-toggleable__label-arrow\"><div><div>DecisionTreeClassifier</div></div><div><a class=\"sk-estimator-doc-link fitted\" rel=\"noreferrer\" target=\"_blank\" href=\"https://scikit-learn.org/1.6/modules/generated/sklearn.tree.DecisionTreeClassifier.html\">?<span>Documentation for DecisionTreeClassifier</span></a><span class=\"sk-estimator-doc-link fitted\">i<span>Fitted</span></span></div></label><div class=\"sk-toggleable__content fitted\"><pre>DecisionTreeClassifier(class_weight=&#x27;balanced&#x27;, criterion=&#x27;entropy&#x27;,\n",
              "                       max_depth=10,\n",
              "                       min_impurity_decrease=np.float64(0.0028309999967802315),\n",
              "                       min_samples_leaf=715, min_samples_split=1744,\n",
              "                       random_state=123)</pre></div> </div></div></div></div>"
            ]
          },
          "metadata": {},
          "execution_count": 109
        }
      ],
      "source": [
        "modelo_final = classe.set_params(**hiperparametros)\n",
        "modelo_final.fit(X_treino_tratada, y_treino)"
      ]
    },
    {
      "cell_type": "markdown",
      "metadata": {
        "id": "dmIwxHQ_pQS8"
      },
      "source": [
        "*Gráfico da árvore*"
      ]
    },
    {
      "cell_type": "code",
      "execution_count": 110,
      "metadata": {
        "id": "kZiU0ehSpQS8",
        "colab": {
          "base_uri": "https://localhost:8080/",
          "height": 368
        },
        "outputId": "d0003d0b-ea39-4946-b89d-25b08c9e56af"
      },
      "outputs": [
        {
          "output_type": "display_data",
          "data": {
            "text/plain": [
              "<Figure size 3000x1200 with 1 Axes>"
            ],
            "image/png": "[encoded data removed]"
          },
          "metadata": {}
        }
      ],
      "source": [
        "plt.figure(figsize=(30, 12))                        # Ajuste o tamanho da figura para obter uma melhor visualização, a depender do tamanho da árvore\n",
        "plot_tree(modelo_final,\n",
        "          feature_names=X_treino_tratada.columns,   # Nomes das variáveis\n",
        "          filled=True,                              # Cores de preenchimento dos nós\n",
        "          fontsize=12,                              # Tamanho da fonte dos nós\n",
        "          proportion=True,                          # Exibição de frequências relativas\n",
        "          rounded=True,                             # Arredondamento de valores nos nós\n",
        "          precision=2)                              # Precisão do arredondamento\n",
        "plt.show()"
      ]
    },
    {
      "cell_type": "markdown",
      "source": [
        "### **Questão 6**: Calibração"
      ],
      "metadata": {
        "id": "sd7guC_k04KA"
      }
    },
    {
      "cell_type": "markdown",
      "metadata": {
        "id": "-v2XHKaupQS8"
      },
      "source": [
        "*Aplicação do modelo final no conjunto de teste externo*"
      ]
    },
    {
      "cell_type": "code",
      "execution_count": 111,
      "metadata": {
        "id": "BGaEAiqspQS8"
      },
      "outputs": [],
      "source": [
        "p_hat_teste = modelo_final.predict_proba(X_teste_tratada)[:, 1]"
      ]
    },
    {
      "cell_type": "markdown",
      "metadata": {
        "id": "w1QC0tNHpQS8"
      },
      "source": [
        "*Verificação gráfica de calibração das probabilidades*"
      ]
    },
    {
      "cell_type": "code",
      "execution_count": 112,
      "metadata": {
        "id": "tQ9kqEAkpQS8",
        "colab": {
          "base_uri": "https://localhost:8080/",
          "height": 472
        },
        "outputId": "f44ba5f9-c832-4489-d0a1-fa34c5fed45c"
      },
      "outputs": [
        {
          "output_type": "display_data",
          "data": {
            "text/plain": [
              "<Figure size 640x480 with 1 Axes>"
            ],
            "image/png": "[encoded data removed]"
          },
          "metadata": {}
        }
      ],
      "source": [
        "# Cálculos\n",
        "prop_obs, p_hat_media = calibration_curve(y_teste, p_hat_teste)\n",
        "brier = brier_score_loss(y_teste, p_hat_teste)\n",
        "\n",
        "# Gráfico da curva de calibração\n",
        "plt.plot([0,1],[0,1],'--', color='gray')\n",
        "plt.plot(p_hat_media, prop_obs, 'o-', color='darkturquoise', label=f\"Brier = {brier:.3f}\")\n",
        "plt.xlabel(\"Média das Probabilidades Preditas\")\n",
        "plt.ylabel(\"Proporção Observada na Amostra\")\n",
        "plt.title(\"Curva de Calibração: Teste Externo\")\n",
        "plt.legend()\n",
        "plt.show()"
      ]
    },
    {
      "cell_type": "markdown",
      "metadata": {
        "id": "eRSZhKpdpQS8"
      },
      "source": [
        "***(Se necessário)*** *Atualização de probabilidades preditas no teste, por meio de recalibração das probabilidades no conjunto de treino*"
      ]
    },
    {
      "cell_type": "code",
      "execution_count": 113,
      "metadata": {
        "id": "4aOvv_cWpQS8"
      },
      "outputs": [],
      "source": [
        "# Recalibração do modelo no treino - escolha o método: 'isotonic' (n > 1000) ou 'sigmoid'\n",
        "modelo_final_calibrado = CalibratedClassifierCV(modelo_final, method='isotonic', cv=5)\n",
        "modelo_final_calibrado.fit(X_treino_tratada, y_treino)\n",
        "\n",
        "# Armazenamento de probabilidades não calibradas e cálculo das probabilidades calibradas\n",
        "p_hat_teste_nao_calibradas = p_hat_teste\n",
        "p_hat_teste = modelo_final_calibrado.predict_proba(X_teste_tratada)[:,1]"
      ]
    },
    {
      "cell_type": "markdown",
      "metadata": {
        "id": "4G7yqEBlpQS8"
      },
      "source": [
        "***(Se necessário)*** *Verificação gráfica de calibração das probabilidades - atualização pós calibração*"
      ]
    },
    {
      "cell_type": "code",
      "execution_count": 114,
      "metadata": {
        "id": "xgGLV332pQS8",
        "colab": {
          "base_uri": "https://localhost:8080/",
          "height": 472
        },
        "outputId": "1ff32f90-af4c-46d3-e982-dc09b3dfefab"
      },
      "outputs": [
        {
          "output_type": "display_data",
          "data": {
            "text/plain": [
              "<Figure size 640x480 with 1 Axes>"
            ],
            "image/png": "[encoded data removed]"
          },
          "metadata": {}
        }
      ],
      "source": [
        "# Cálculos\n",
        "prop_obs, p_hat_media = calibration_curve(y_teste, p_hat_teste)\n",
        "brier = brier_score_loss(y_teste, p_hat_teste)\n",
        "\n",
        "# Gráfico da curva de calibração\n",
        "plt.plot([0,1],[0,1],'--', color='gray')\n",
        "plt.plot(p_hat_media, prop_obs, 'o-', color='darkturquoise', label=f\"Brier = {brier:.3f}\")\n",
        "plt.xlabel(\"Média das Probabilidades Preditas\")\n",
        "plt.ylabel(\"Proporção Observada na Amostra\")\n",
        "plt.title(\"Curva de Calibração: Teste Externo\")\n",
        "plt.legend()\n",
        "plt.show()"
      ]
    },
    {
      "cell_type": "markdown",
      "metadata": {
        "id": "tgBSjWZBpQS8"
      },
      "source": [
        "***(Se necessário)*** *Comparação das probabilidades preditas - antes e depois da calibração*"
      ]
    },
    {
      "cell_type": "code",
      "execution_count": 115,
      "metadata": {
        "id": "MswyaVeepQS8",
        "colab": {
          "base_uri": "https://localhost:8080/",
          "height": 472
        },
        "outputId": "37c2a145-5bce-4397-c50d-65e94f26dfbc"
      },
      "outputs": [
        {
          "output_type": "display_data",
          "data": {
            "text/plain": [
              "<Figure size 640x480 with 1 Axes>"
            ],
            "image/png": "[encoded data removed]"
          },
          "metadata": {}
        }
      ],
      "source": [
        "plt.plot([0,1],[0,1],'--', color='gray')\n",
        "plt.scatter(p_hat_teste_nao_calibradas,\n",
        "            p_hat_teste,\n",
        "            color=\"darkturquoise\",\n",
        "            alpha=0.4)\n",
        "plt.title(\"Comparação de Probabilidades: Antes vs. Depois\")\n",
        "plt.xlabel(\"Antes da calibração\")\n",
        "plt.ylabel(\"Depois da calibração\")\n",
        "plt.xticks(np.arange(0,1.1,0.1))\n",
        "plt.yticks(np.arange(0,1.1,0.1))\n",
        "plt.grid(True, which='both', color='lightgray', linestyle='-', linewidth=0.5)\n",
        "plt.show()"
      ]
    },
    {
      "cell_type": "markdown",
      "metadata": {
        "id": "5CkmfUafpQS8"
      },
      "source": [
        "*Definição de ponto de corte (padrão: % de 1's no conjunto de treino)* - Mesmo ponto de corte utilizado no Item 4"
      ]
    },
    {
      "cell_type": "code",
      "execution_count": 116,
      "metadata": {
        "id": "vthAEJWOpQS8",
        "colab": {
          "base_uri": "https://localhost:8080/"
        },
        "outputId": "3a387516-ddeb-43cc-8dfa-6c473a3f2fb0"
      },
      "outputs": [
        {
          "output_type": "execute_result",
          "data": {
            "text/plain": [
              "np.float64(0.837600985896207)"
            ]
          },
          "metadata": {},
          "execution_count": 116
        }
      ],
      "source": [
        "ponto_corte = y_treino.mean()\n",
        "ponto_corte"
      ]
    },
    {
      "cell_type": "markdown",
      "metadata": {
        "id": "i9hDbRhjpQS9"
      },
      "source": [
        "*Atribuição da categoria de resposta predita pelo modelo, associado ao ponto de corte*"
      ]
    },
    {
      "cell_type": "code",
      "execution_count": 117,
      "metadata": {
        "id": "olB0vVOapQS9"
      },
      "outputs": [],
      "source": [
        "y_hat_teste = (p_hat_teste > ponto_corte).astype(int)"
      ]
    },
    {
      "cell_type": "markdown",
      "metadata": {
        "id": "E8aoxqqApQS9"
      },
      "source": [
        "*Desempenho: acurácia, sensibilidade, especificidade, PPV e NPV*"
      ]
    },
    {
      "cell_type": "code",
      "execution_count": 118,
      "metadata": {
        "id": "aG99ZSISpQS9",
        "colab": {
          "base_uri": "https://localhost:8080/"
        },
        "outputId": "327c9130-2b74-4b91-d5b1-74a71bd1305a"
      },
      "outputs": [
        {
          "output_type": "stream",
          "name": "stdout",
          "text": [
            "Acurácia: 0.679\n",
            "Acurácia balanceada: 0.607\n",
            "Sensibilidade: 0.714\n",
            "Especificidade: 0.499\n",
            "PPV: 0.880\n",
            "NPV: 0.253\n"
          ]
        }
      ],
      "source": [
        "acuracia       = accuracy_score(y_teste, y_hat_teste)\n",
        "tn, fp, fn, tp = confusion_matrix(y_teste, y_hat_teste).ravel()\n",
        "sensibilidade  = tp / (tp + fn)\n",
        "especificidade = tn / (tn + fp)\n",
        "acuracia_balanceada = (sensibilidade + especificidade) / 2\n",
        "ppv = tp / (tp + fp)\n",
        "npv = tn / (tn + fn)\n",
        "\n",
        "print(f'Acurácia: {acuracia:.3f}')\n",
        "print(f'Acurácia balanceada: {acuracia_balanceada:.3f}')\n",
        "print(f'Sensibilidade: {sensibilidade:.3f}')\n",
        "print(f'Especificidade: {especificidade:.3f}')\n",
        "print(f'PPV: {ppv:.3f}')\n",
        "print(f'NPV: {npv:.3f}')"
      ]
    },
    {
      "cell_type": "markdown",
      "metadata": {
        "id": "LMTlk04CpQS9"
      },
      "source": [
        "*Desempenho: AUC e KS*"
      ]
    },
    {
      "cell_type": "code",
      "execution_count": 119,
      "metadata": {
        "id": "K9FjQRGupQS9",
        "colab": {
          "base_uri": "https://localhost:8080/"
        },
        "outputId": "75e5fa34-1fde-41b1-9d8c-b8cbcc3be677"
      },
      "outputs": [
        {
          "output_type": "stream",
          "name": "stdout",
          "text": [
            "AUC: 0.634\n"
          ]
        }
      ],
      "source": [
        "# AUC\n",
        "auc = roc_auc_score(y_teste, p_hat_teste)\n",
        "print(f'AUC: {auc:.3f}')"
      ]
    },
    {
      "cell_type": "code",
      "execution_count": 120,
      "metadata": {
        "id": "uVArrKMopQS9",
        "colab": {
          "base_uri": "https://localhost:8080/"
        },
        "outputId": "2f32525b-be0a-4c92-eff8-670d3577a3c8"
      },
      "outputs": [
        {
          "output_type": "stream",
          "name": "stdout",
          "text": [
            "KS: 0.213\n"
          ]
        }
      ],
      "source": [
        "# KS\n",
        "fpr, tpr, _ = roc_curve(y_teste, p_hat_teste)\n",
        "ks = np.max(tpr - fpr)\n",
        "print(f'KS: {ks:.3f}')"
      ]
    },
    {
      "cell_type": "code",
      "execution_count": 121,
      "metadata": {
        "id": "6h4Y-HJVpQS9",
        "colab": {
          "base_uri": "https://localhost:8080/",
          "height": 472
        },
        "outputId": "b914a4b4-9957-4727-d218-2564a3056d46"
      },
      "outputs": [
        {
          "output_type": "display_data",
          "data": {
            "text/plain": [
              "<Figure size 640x480 with 1 Axes>"
            ],
            "image/png": "[encoded data removed]"
          },
          "metadata": {}
        }
      ],
      "source": [
        "# Exibição da curva ROC\n",
        "plt.figure()\n",
        "plt.plot(fpr, tpr, color='darkturquoise', lw=2, label='Curva ROC (AUC = %0.3f)' % auc)\n",
        "plt.plot([0, 1], [0, 1], color='gray', lw=2, linestyle='--')\n",
        "plt.xlim([0.0, 1.0])\n",
        "plt.ylim([0.0, 1.05])\n",
        "plt.xlabel('1 - Especificidade')\n",
        "plt.ylabel('Sensibilidade')\n",
        "plt.title('Curva ROC: Teste Externo')\n",
        "plt.legend(loc=\"lower right\")\n",
        "plt.show()"
      ]
    },
    {
      "cell_type": "markdown",
      "source": [
        "### **Questão 7:** Modelos de Floresta e Impulsionamento"
      ],
      "metadata": {
        "id": "rcVQWmfap5R0"
      }
    },
    {
      "cell_type": "markdown",
      "metadata": {
        "id": "2tEsESa6pnd_"
      },
      "source": [
        "*Divisão inicial*"
      ]
    },
    {
      "cell_type": "code",
      "execution_count": 122,
      "metadata": {
        "id": "2XBMB6cepnd_"
      },
      "outputs": [],
      "source": [
        "X_treino, X_teste, y_treino, y_teste = train_test_split(X, y,\n",
        "                                                        test_size=0.2,\n",
        "                                                        stratify=y,\n",
        "                                                        random_state=123)"
      ]
    },
    {
      "cell_type": "code",
      "execution_count": 123,
      "metadata": {
        "id": "CcH6pujTpnd_",
        "outputId": "bbf40656-cb95-48fa-83ec-e6c41eac438d",
        "colab": {
          "base_uri": "https://localhost:8080/",
          "height": 178
        }
      },
      "outputs": [
        {
          "output_type": "execute_result",
          "data": {
            "text/plain": [
              "RESPOSTA_MAU_BOM\n",
              "1    12234\n",
              "0     2372\n",
              "Name: count, dtype: int64"
            ],
            "text/html": [
              "<div>\n",
              "<style scoped>\n",
              "    .dataframe tbody tr th:only-of-type {\n",
              "        vertical-align: middle;\n",
              "    }\n",
              "\n",
              "    .dataframe tbody tr th {\n",
              "        vertical-align: top;\n",
              "    }\n",
              "\n",
              "    .dataframe thead th {\n",
              "        text-align: right;\n",
              "    }\n",
              "</style>\n",
              "<table border=\"1\" class=\"dataframe\">\n",
              "  <thead>\n",
              "    <tr style=\"text-align: right;\">\n",
              "      <th></th>\n",
              "      <th>count</th>\n",
              "    </tr>\n",
              "    <tr>\n",
              "      <th>RESPOSTA_MAU_BOM</th>\n",
              "      <th></th>\n",
              "    </tr>\n",
              "  </thead>\n",
              "  <tbody>\n",
              "    <tr>\n",
              "      <th>1</th>\n",
              "      <td>12234</td>\n",
              "    </tr>\n",
              "    <tr>\n",
              "      <th>0</th>\n",
              "      <td>2372</td>\n",
              "    </tr>\n",
              "  </tbody>\n",
              "</table>\n",
              "</div><br><label><b>dtype:</b> int64</label>"
            ]
          },
          "metadata": {},
          "execution_count": 123
        }
      ],
      "source": [
        "y_treino.value_counts()"
      ]
    },
    {
      "cell_type": "markdown",
      "metadata": {
        "id": "o2f-0ULfpnd_"
      },
      "source": [
        "**Etapa 3: Pré-processamento de variáveis explicativas**"
      ]
    },
    {
      "cell_type": "markdown",
      "metadata": {
        "id": "e7JQOr_Mpnd_"
      },
      "source": [
        "*Definição das funções de pré-processamento: Padronização das variáveis quantitativas + Codificação one-hot para variáveis qualitativas*"
      ]
    },
    {
      "cell_type": "code",
      "execution_count": 124,
      "metadata": {
        "id": "permBRPPpnd_"
      },
      "outputs": [],
      "source": [
        "preprocessador = ColumnTransformer(transformers=[\n",
        "    (\"quanti\", StandardScaler(), lista_X_quanti),\n",
        "    (\"quali\", OneHotEncoder(sparse_output=False, drop=\"first\", handle_unknown='ignore'), lista_X_quali)\n",
        "],\n",
        "    remainder=\"passthrough\"\n",
        ")"
      ]
    },
    {
      "cell_type": "markdown",
      "metadata": {
        "id": "JmPWhvVJpnd_"
      },
      "source": [
        "*Criação do pré-processamento no conjunto de treino* <br>"
      ]
    },
    {
      "cell_type": "code",
      "execution_count": 125,
      "metadata": {
        "id": "nYbRn9FHpnd_"
      },
      "outputs": [],
      "source": [
        "X_treino_tratada = preprocessador.fit_transform(X_treino)  # O pré-processamento não deve envolver o conjunto de teste externo, que deve ficar reservado apenas para aplicações de resultados já obtidos, e nunca construções\n",
        "if lista_X_quali:\n",
        "    nomes_quali = list(preprocessador.named_transformers_['quali'].get_feature_names_out(lista_X_quali))\n",
        "else:\n",
        "    nomes_quali = []\n",
        "nomes_variaveis = list(lista_X_quanti) + nomes_quali"
      ]
    },
    {
      "cell_type": "code",
      "execution_count": 126,
      "metadata": {
        "id": "oip8Keb0pnd_",
        "outputId": "f1a9ff33-43a1-4b66-c1c0-dc85383c6c2f",
        "colab": {
          "base_uri": "https://localhost:8080/",
          "height": 226
        }
      },
      "outputs": [
        {
          "output_type": "execute_result",
          "data": {
            "text/plain": [
              "   IDADE  RENDA_MEDIA_MENSAL  TOTAL_INVESTIMENTOS  QTDE_CONSULTAS_CREDITO_12M  \\\n",
              "0 -0.386              -1.098               -0.397                       0.037   \n",
              "1  0.193              -0.672                1.880                       2.787   \n",
              "2 -0.096               0.411               -0.337                       1.412   \n",
              "3  0.387               0.394               -0.485                      -0.651   \n",
              "4 -0.676              -0.512               -0.561                       0.724   \n",
              "\n",
              "   QTDE_CARTOES  QTDE_EMPRESTIMOS_12M  QTDE_CHEQUE_ESPECIAL_12M  \\\n",
              "0        -1.181                -0.568                    -0.553   \n",
              "1        -0.598                -0.568                    -0.553   \n",
              "2        -0.015                 1.998                     0.542   \n",
              "3        -0.598                -0.568                     0.542   \n",
              "4         1.734                 1.998                     0.542   \n",
              "\n",
              "   QTDE_PGTOS_EM_ATRASO_12M  TOTAL_DIAS_ATRASO_12M  VALOR_PGTOS_12M  \\\n",
              "0                    -1.172                 -0.692           -1.061   \n",
              "1                    -0.627                 -0.459           -0.144   \n",
              "2                    -0.081                  0.983           -0.386   \n",
              "3                    -0.081                 -0.413            0.453   \n",
              "4                     0.464                  2.379           -0.220   \n",
              "\n",
              "   PERC_MEDIO_LIMITE_TOMADO_12M  FLAG_PGTO_PARCIAL_12M_Sim  \n",
              "0                        -0.812                      0.000  \n",
              "1                         1.880                      0.000  \n",
              "2                        -0.543                      1.000  \n",
              "3                        -1.120                      1.000  \n",
              "4                        -0.428                      1.000  "
            ],
            "text/html": [
              "\n",
              "  <div id=\"df-86a4248d-a510-471c-ae81-ab86437f722c\" class=\"colab-df-container\">\n",
              "    <div>\n",
              "<style scoped>\n",
              "    .dataframe tbody tr th:only-of-type {\n",
              "        vertical-align: middle;\n",
              "    }\n",
              "\n",
              "    .dataframe tbody tr th {\n",
              "        vertical-align: top;\n",
              "    }\n",
              "\n",
              "    .dataframe thead th {\n",
              "        text-align: right;\n",
              "    }\n",
              "</style>\n",
              "<table border=\"1\" class=\"dataframe\">\n",
              "  <thead>\n",
              "    <tr style=\"text-align: right;\">\n",
              "      <th></th>\n",
              "      <th>IDADE</th>\n",
              "      <th>RENDA_MEDIA_MENSAL</th>\n",
              "      <th>TOTAL_INVESTIMENTOS</th>\n",
              "      <th>QTDE_CONSULTAS_CREDITO_12M</th>\n",
              "      <th>QTDE_CARTOES</th>\n",
              "      <th>QTDE_EMPRESTIMOS_12M</th>\n",
              "      <th>QTDE_CHEQUE_ESPECIAL_12M</th>\n",
              "      <th>QTDE_PGTOS_EM_ATRASO_12M</th>\n",
              "      <th>TOTAL_DIAS_ATRASO_12M</th>\n",
              "      <th>VALOR_PGTOS_12M</th>\n",
              "      <th>PERC_MEDIO_LIMITE_TOMADO_12M</th>\n",
              "      <th>FLAG_PGTO_PARCIAL_12M_Sim</th>\n",
              "    </tr>\n",
              "  </thead>\n",
              "  <tbody>\n",
              "    <tr>\n",
              "      <th>0</th>\n",
              "      <td>-0.386</td>\n",
              "      <td>-1.098</td>\n",
              "      <td>-0.397</td>\n",
              "      <td>0.037</td>\n",
              "      <td>-1.181</td>\n",
              "      <td>-0.568</td>\n",
              "      <td>-0.553</td>\n",
              "      <td>-1.172</td>\n",
              "      <td>-0.692</td>\n",
              "      <td>-1.061</td>\n",
              "      <td>-0.812</td>\n",
              "      <td>0.000</td>\n",
              "    </tr>\n",
              "    <tr>\n",
              "      <th>1</th>\n",
              "      <td>0.193</td>\n",
              "      <td>-0.672</td>\n",
              "      <td>1.880</td>\n",
              "      <td>2.787</td>\n",
              "      <td>-0.598</td>\n",
              "      <td>-0.568</td>\n",
              "      <td>-0.553</td>\n",
              "      <td>-0.627</td>\n",
              "      <td>-0.459</td>\n",
              "      <td>-0.144</td>\n",
              "      <td>1.880</td>\n",
              "      <td>0.000</td>\n",
              "    </tr>\n",
              "    <tr>\n",
              "      <th>2</th>\n",
              "      <td>-0.096</td>\n",
              "      <td>0.411</td>\n",
              "      <td>-0.337</td>\n",
              "      <td>1.412</td>\n",
              "      <td>-0.015</td>\n",
              "      <td>1.998</td>\n",
              "      <td>0.542</td>\n",
              "      <td>-0.081</td>\n",
              "      <td>0.983</td>\n",
              "      <td>-0.386</td>\n",
              "      <td>-0.543</td>\n",
              "      <td>1.000</td>\n",
              "    </tr>\n",
              "    <tr>\n",
              "      <th>3</th>\n",
              "      <td>0.387</td>\n",
              "      <td>0.394</td>\n",
              "      <td>-0.485</td>\n",
              "      <td>-0.651</td>\n",
              "      <td>-0.598</td>\n",
              "      <td>-0.568</td>\n",
              "      <td>0.542</td>\n",
              "      <td>-0.081</td>\n",
              "      <td>-0.413</td>\n",
              "      <td>0.453</td>\n",
              "      <td>-1.120</td>\n",
              "      <td>1.000</td>\n",
              "    </tr>\n",
              "    <tr>\n",
              "      <th>4</th>\n",
              "      <td>-0.676</td>\n",
              "      <td>-0.512</td>\n",
              "      <td>-0.561</td>\n",
              "      <td>0.724</td>\n",
              "      <td>1.734</td>\n",
              "      <td>1.998</td>\n",
              "      <td>0.542</td>\n",
              "      <td>0.464</td>\n",
              "      <td>2.379</td>\n",
              "      <td>-0.220</td>\n",
              "      <td>-0.428</td>\n",
              "      <td>1.000</td>\n",
              "    </tr>\n",
              "  </tbody>\n",
              "</table>\n",
              "</div>\n",
              "    <div class=\"colab-df-buttons\">\n",
              "\n",
              "  <div class=\"colab-df-container\">\n",
              "    <button class=\"colab-df-convert\" onclick=\"convertToInteractive('df-86a4248d-a510-471c-ae81-ab86437f722c')\"\n",
              "            title=\"Convert this dataframe to an interactive table.\"\n",
              "            style=\"display:none;\">\n",
              "\n",
              "  <svg xmlns=\"http://www.w3.org/2000/svg\" height=\"24px\" viewBox=\"0 -960 960 960\">\n",
              "    <path d=\"M120-120v-720h720v720H120Zm60-500h600v-160H180v160Zm220 220h160v-160H400v160Zm0 220h160v-160H400v160ZM180-400h160v-160H180v160Zm440 0h160v-160H620v160ZM180-180h160v-160H180v160Zm440 0h160v-160H620v160Z\"/>\n",
              "  </svg>\n",
              "    </button>\n",
              "\n",
              "  <style>\n",
              "    .colab-df-container {\n",
              "      display:flex;\n",
              "      gap: 12px;\n",
              "    }\n",
              "\n",
              "    .colab-df-convert {\n",
              "      background-color: #E8F0FE;\n",
              "      border: none;\n",
              "      border-radius: 50%;\n",
              "      cursor: pointer;\n",
              "      display: none;\n",
              "      fill: #1967D2;\n",
              "      height: 32px;\n",
              "      padding: 0 0 0 0;\n",
              "      width: 32px;\n",
              "    }\n",
              "\n",
              "    .colab-df-convert:hover {\n",
              "      background-color: #E2EBFA;\n",
              "      box-shadow: 0px 1px 2px rgba(60, 64, 67, 0.3), 0px 1px 3px 1px rgba(60, 64, 67, 0.15);\n",
              "      fill: #174EA6;\n",
              "    }\n",
              "\n",
              "    .colab-df-buttons div {\n",
              "      margin-bottom: 4px;\n",
              "    }\n",
              "\n",
              "    [theme=dark] .colab-df-convert {\n",
              "      background-color: #3B4455;\n",
              "      fill: #D2E3FC;\n",
              "    }\n",
              "\n",
              "    [theme=dark] .colab-df-convert:hover {\n",
              "      background-color: #434B5C;\n",
              "      box-shadow: 0px 1px 3px 1px rgba(0, 0, 0, 0.15);\n",
              "      filter: drop-shadow(0px 1px 2px rgba(0, 0, 0, 0.3));\n",
              "      fill: #FFFFFF;\n",
              "    }\n",
              "  </style>\n",
              "\n",
              "    <script>\n",
              "      const buttonEl =\n",
              "        document.querySelector('#df-86a4248d-a510-471c-ae81-ab86437f722c button.colab-df-convert');\n",
              "      buttonEl.style.display =\n",
              "        google.colab.kernel.accessAllowed ? 'block' : 'none';\n",
              "\n",
              "      async function convertToInteractive(key) {\n",
              "        const element = document.querySelector('#df-86a4248d-a510-471c-ae81-ab86437f722c');\n",
              "        const dataTable =\n",
              "          await google.colab.kernel.invokeFunction('convertToInteractive',\n",
              "                                                    [key], {});\n",
              "        if (!dataTable) return;\n",
              "\n",
              "        const docLinkHtml = 'Like what you see? Visit the ' +\n",
              "          '<a target=\"_blank\" href=https://colab.research.google.com/notebooks/data_table.ipynb>data table notebook</a>'\n",
              "          + ' to learn more about interactive tables.';\n",
              "        element.innerHTML = '';\n",
              "        dataTable['output_type'] = 'display_data';\n",
              "        await google.colab.output.renderOutput(dataTable, element);\n",
              "        const docLink = document.createElement('div');\n",
              "        docLink.innerHTML = docLinkHtml;\n",
              "        element.appendChild(docLink);\n",
              "      }\n",
              "    </script>\n",
              "  </div>\n",
              "\n",
              "\n",
              "    <div id=\"df-51f9a183-8c1d-484b-b94b-100ede033794\">\n",
              "      <button class=\"colab-df-quickchart\" onclick=\"quickchart('df-51f9a183-8c1d-484b-b94b-100ede033794')\"\n",
              "                title=\"Suggest charts\"\n",
              "                style=\"display:none;\">\n",
              "\n",
              "<svg xmlns=\"http://www.w3.org/2000/svg\" height=\"24px\"viewBox=\"0 0 24 24\"\n",
              "     width=\"24px\">\n",
              "    <g>\n",
              "        <path d=\"M19 3H5c-1.1 0-2 .9-2 2v14c0 1.1.9 2 2 2h14c1.1 0 2-.9 2-2V5c0-1.1-.9-2-2-2zM9 17H7v-7h2v7zm4 0h-2V7h2v10zm4 0h-2v-4h2v4z\"/>\n",
              "    </g>\n",
              "</svg>\n",
              "      </button>\n",
              "\n",
              "<style>\n",
              "  .colab-df-quickchart {\n",
              "      --bg-color: #E8F0FE;\n",
              "      --fill-color: #1967D2;\n",
              "      --hover-bg-color: #E2EBFA;\n",
              "      --hover-fill-color: #174EA6;\n",
              "      --disabled-fill-color: #AAA;\n",
              "      --disabled-bg-color: #DDD;\n",
              "  }\n",
              "\n",
              "  [theme=dark] .colab-df-quickchart {\n",
              "      --bg-color: #3B4455;\n",
              "      --fill-color: #D2E3FC;\n",
              "      --hover-bg-color: #434B5C;\n",
              "      --hover-fill-color: #FFFFFF;\n",
              "      --disabled-bg-color: #3B4455;\n",
              "      --disabled-fill-color: #666;\n",
              "  }\n",
              "\n",
              "  .colab-df-quickchart {\n",
              "    background-color: var(--bg-color);\n",
              "    border: none;\n",
              "    border-radius: 50%;\n",
              "    cursor: pointer;\n",
              "    display: none;\n",
              "    fill: var(--fill-color);\n",
              "    height: 32px;\n",
              "    padding: 0;\n",
              "    width: 32px;\n",
              "  }\n",
              "\n",
              "  .colab-df-quickchart:hover {\n",
              "    background-color: var(--hover-bg-color);\n",
              "    box-shadow: 0 1px 2px rgba(60, 64, 67, 0.3), 0 1px 3px 1px rgba(60, 64, 67, 0.15);\n",
              "    fill: var(--button-hover-fill-color);\n",
              "  }\n",
              "\n",
              "  .colab-df-quickchart-complete:disabled,\n",
              "  .colab-df-quickchart-complete:disabled:hover {\n",
              "    background-color: var(--disabled-bg-color);\n",
              "    fill: var(--disabled-fill-color);\n",
              "    box-shadow: none;\n",
              "  }\n",
              "\n",
              "  .colab-df-spinner {\n",
              "    border: 2px solid var(--fill-color);\n",
              "    border-color: transparent;\n",
              "    border-bottom-color: var(--fill-color);\n",
              "    animation:\n",
              "      spin 1s steps(1) infinite;\n",
              "  }\n",
              "\n",
              "  @keyframes spin {\n",
              "    0% {\n",
              "      border-color: transparent;\n",
              "      border-bottom-color: var(--fill-color);\n",
              "      border-left-color: var(--fill-color);\n",
              "    }\n",
              "    20% {\n",
              "      border-color: transparent;\n",
              "      border-left-color: var(--fill-color);\n",
              "      border-top-color: var(--fill-color);\n",
              "    }\n",
              "    30% {\n",
              "      border-color: transparent;\n",
              "      border-left-color: var(--fill-color);\n",
              "      border-top-color: var(--fill-color);\n",
              "      border-right-color: var(--fill-color);\n",
              "    }\n",
              "    40% {\n",
              "      border-color: transparent;\n",
              "      border-right-color: var(--fill-color);\n",
              "      border-top-color: var(--fill-color);\n",
              "    }\n",
              "    60% {\n",
              "      border-color: transparent;\n",
              "      border-right-color: var(--fill-color);\n",
              "    }\n",
              "    80% {\n",
              "      border-color: transparent;\n",
              "      border-right-color: var(--fill-color);\n",
              "      border-bottom-color: var(--fill-color);\n",
              "    }\n",
              "    90% {\n",
              "      border-color: transparent;\n",
              "      border-bottom-color: var(--fill-color);\n",
              "    }\n",
              "  }\n",
              "</style>\n",
              "\n",
              "      <script>\n",
              "        async function quickchart(key) {\n",
              "          const quickchartButtonEl =\n",
              "            document.querySelector('#' + key + ' button');\n",
              "          quickchartButtonEl.disabled = true;  // To prevent multiple clicks.\n",
              "          quickchartButtonEl.classList.add('colab-df-spinner');\n",
              "          try {\n",
              "            const charts = await google.colab.kernel.invokeFunction(\n",
              "                'suggestCharts', [key], {});\n",
              "          } catch (error) {\n",
              "            console.error('Error during call to suggestCharts:', error);\n",
              "          }\n",
              "          quickchartButtonEl.classList.remove('colab-df-spinner');\n",
              "          quickchartButtonEl.classList.add('colab-df-quickchart-complete');\n",
              "        }\n",
              "        (() => {\n",
              "          let quickchartButtonEl =\n",
              "            document.querySelector('#df-51f9a183-8c1d-484b-b94b-100ede033794 button');\n",
              "          quickchartButtonEl.style.display =\n",
              "            google.colab.kernel.accessAllowed ? 'block' : 'none';\n",
              "        })();\n",
              "      </script>\n",
              "    </div>\n",
              "\n",
              "    </div>\n",
              "  </div>\n"
            ],
            "application/vnd.google.colaboratory.intrinsic+json": {
              "type": "dataframe",
              "variable_name": "X_treino_tratada",
              "summary": "{\n  \"name\": \"X_treino_tratada\",\n  \"rows\": 14606,\n  \"fields\": [\n    {\n      \"column\": \"IDADE\",\n      \"properties\": {\n        \"dtype\": \"number\",\n        \"std\": 1.000034234265055,\n        \"min\": -1.6418889089842976,\n        \"max\": 5.796190130068055,\n        \"num_unique_values\": 76,\n        \"samples\": [\n          -0.6759046181982777,\n          -1.2554951926698896,\n          -1.0622983345126857\n        ],\n        \"semantic_type\": \"\",\n        \"description\": \"\"\n      }\n    },\n    {\n      \"column\": \"RENDA_MEDIA_MENSAL\",\n      \"properties\": {\n        \"dtype\": \"number\",\n        \"std\": 1.0000342342650825,\n        \"min\": -1.3993456429282916,\n        \"max\": 7.884848368971785,\n        \"num_unique_values\": 344,\n        \"samples\": [\n          -0.3874927582661416,\n          1.3521841311529932,\n          2.541555065755871\n        ],\n        \"semantic_type\": \"\",\n        \"description\": \"\"\n      }\n    },\n    {\n      \"column\": \"TOTAL_INVESTIMENTOS\",\n      \"properties\": {\n        \"dtype\": \"number\",\n        \"std\": 1.0000342342651158,\n        \"min\": -0.5645140740016807,\n        \"max\": 5.437001988695198,\n        \"num_unique_values\": 1356,\n        \"samples\": [\n          -0.2198537732461698,\n          1.49079964609999,\n          2.4773502317487917\n        ],\n        \"semantic_type\": \"\",\n        \"description\": \"\"\n      }\n    },\n    {\n      \"column\": \"QTDE_CONSULTAS_CREDITO_12M\",\n      \"properties\": {\n        \"dtype\": \"number\",\n        \"std\": 1.0000342342651898,\n        \"min\": -0.6510562680978177,\n        \"max\": 13.101677627103173,\n        \"num_unique_values\": 18,\n        \"samples\": [\n          0.03658042666223187,\n          2.78712720570243,\n          4.16240059522253\n        ],\n        \"semantic_type\": \"\",\n        \"description\": \"\"\n      }\n    },\n    {\n      \"column\": \"QTDE_CARTOES\",\n      \"properties\": {\n        \"dtype\": \"number\",\n        \"std\": 1.00003423426511,\n        \"min\": -1.1805782196473182,\n        \"max\": 5.2309543735738835,\n        \"num_unique_values\": 12,\n        \"samples\": [\n          4.648087774190137,\n          4.065221174806392,\n          -1.1805782196473182\n        ],\n        \"semantic_type\": \"\",\n        \"description\": \"\"\n      }\n    },\n    {\n      \"column\": \"QTDE_EMPRESTIMOS_12M\",\n      \"properties\": {\n        \"dtype\": \"number\",\n        \"std\": 1.0000342342651254,\n        \"min\": -0.567817016278456,\n        \"max\": 7.129199540346257,\n        \"num_unique_values\": 7,\n        \"samples\": [\n          -0.567817016278456,\n          1.997855169263115,\n          5.846363447575472\n        ],\n        \"semantic_type\": \"\",\n        \"description\": \"\"\n      }\n    },\n    {\n      \"column\": \"QTDE_CHEQUE_ESPECIAL_12M\",\n      \"properties\": {\n        \"dtype\": \"number\",\n        \"std\": 1.0000342342650665,\n        \"min\": -1.6486508352985523,\n        \"max\": 6.017759257146737,\n        \"num_unique_values\": 8,\n        \"samples\": [\n          0.5417520482572447,\n          3.82735637359094,\n          -0.5534493935206538\n        ],\n        \"semantic_type\": \"\",\n        \"description\": \"\"\n      }\n    },\n    {\n      \"column\": \"QTDE_PGTOS_EM_ATRASO_12M\",\n      \"properties\": {\n        \"dtype\": \"number\",\n        \"std\": 1.0000342342650128,\n        \"min\": -1.172210149364545,\n        \"max\": 9.192764436926751,\n        \"num_unique_values\": 19,\n        \"samples\": [\n          -1.172210149364545,\n          2.1009397199906013,\n          5.919614567571606\n        ],\n        \"semantic_type\": \"\",\n        \"description\": \"\"\n      }\n    },\n    {\n      \"column\": \"TOTAL_DIAS_ATRASO_12M\",\n      \"properties\": {\n        \"dtype\": \"number\",\n        \"std\": 1.0000342342650759,\n        \"min\": -0.6919858253856729,\n        \"max\": 10.893494324090229,\n        \"num_unique_values\": 165,\n        \"samples\": [\n          5.4962425275472375,\n          4.472625807513222,\n          5.4031864620896\n        ],\n        \"semantic_type\": \"\",\n        \"description\": \"\"\n      }\n    },\n    {\n      \"column\": \"VALOR_PGTOS_12M\",\n      \"properties\": {\n        \"dtype\": \"number\",\n        \"std\": 1.0000342342650907,\n        \"min\": -1.4116078171830109,\n        \"max\": 6.435270877775776,\n        \"num_unique_values\": 11616,\n        \"samples\": [\n          -0.2932731370353412,\n          1.2321459586483232,\n          0.09801160148830677\n        ],\n        \"semantic_type\": \"\",\n        \"description\": \"\"\n      }\n    },\n    {\n      \"column\": \"PERC_MEDIO_LIMITE_TOMADO_12M\",\n      \"properties\": {\n        \"dtype\": \"number\",\n        \"std\": 1.0000342342650772,\n        \"min\": -1.1970750069306493,\n        \"max\": 2.610453275337633,\n        \"num_unique_values\": 100,\n        \"samples\": [\n          1.648956234360794,\n          -0.1586582026756632,\n          1.302817299609132\n        ],\n        \"semantic_type\": \"\",\n        \"description\": \"\"\n      }\n    },\n    {\n      \"column\": \"FLAG_PGTO_PARCIAL_12M_Sim\",\n      \"properties\": {\n        \"dtype\": \"number\",\n        \"std\": 0.47987317807799795,\n        \"min\": 0.0,\n        \"max\": 1.0,\n        \"num_unique_values\": 2,\n        \"samples\": [\n          1.0,\n          0.0\n        ],\n        \"semantic_type\": \"\",\n        \"description\": \"\"\n      }\n    }\n  ]\n}"
            }
          },
          "metadata": {},
          "execution_count": 126
        }
      ],
      "source": [
        "X_treino_tratada = pd.DataFrame(X_treino_tratada, columns=nomes_variaveis)\n",
        "X_treino_tratada.head()"
      ]
    },
    {
      "cell_type": "markdown",
      "metadata": {
        "id": "8lNZ05yCpneE"
      },
      "source": [
        "*Aplicação do pré-processamento no conjunto de teste externo*"
      ]
    },
    {
      "cell_type": "code",
      "execution_count": 127,
      "metadata": {
        "id": "95F-Zz2lpneE",
        "outputId": "1e559547-f5cc-4cc7-973d-55972aa577f2",
        "colab": {
          "base_uri": "https://localhost:8080/",
          "height": 226
        }
      },
      "outputs": [
        {
          "output_type": "execute_result",
          "data": {
            "text/plain": [
              "   IDADE  RENDA_MEDIA_MENSAL  TOTAL_INVESTIMENTOS  QTDE_CONSULTAS_CREDITO_12M  \\\n",
              "0 -1.062               0.127                3.613                      -0.651   \n",
              "1 -1.545              -1.186               -0.555                      -0.651   \n",
              "2 -1.159               1.654               -0.245                       2.099   \n",
              "3  1.546               1.689                1.105                       2.099   \n",
              "4  0.580              -1.062               -0.305                      -0.651   \n",
              "\n",
              "   QTDE_CARTOES  QTDE_EMPRESTIMOS_12M  QTDE_CHEQUE_ESPECIAL_12M  \\\n",
              "0        -0.598                -0.568                    -0.553   \n",
              "1        -0.598                -0.568                     1.637   \n",
              "2         1.151                 0.715                     1.637   \n",
              "3         1.151                 0.715                     1.637   \n",
              "4        -0.598                -0.568                    -1.649   \n",
              "\n",
              "   QTDE_PGTOS_EM_ATRASO_12M  TOTAL_DIAS_ATRASO_12M  VALOR_PGTOS_12M  \\\n",
              "0                     0.464                 -0.506           -0.878   \n",
              "1                    -0.627                 -0.320            0.301   \n",
              "2                    -0.627                  1.169           -1.001   \n",
              "3                     2.101                  1.727           -1.003   \n",
              "4                    -0.627                 -0.552           -0.555   \n",
              "\n",
              "   PERC_MEDIO_LIMITE_TOMADO_12M  FLAG_PGTO_PARCIAL_12M_Sim  \n",
              "0                         0.303                      1.000  \n",
              "1                        -0.774                      1.000  \n",
              "2                        -1.159                      1.000  \n",
              "3                         1.149                      1.000  \n",
              "4                        -0.466                      1.000  "
            ],
            "text/html": [
              "\n",
              "  <div id=\"df-e525a15a-1cf2-4555-8533-49666b4eadc6\" class=\"colab-df-container\">\n",
              "    <div>\n",
              "<style scoped>\n",
              "    .dataframe tbody tr th:only-of-type {\n",
              "        vertical-align: middle;\n",
              "    }\n",
              "\n",
              "    .dataframe tbody tr th {\n",
              "        vertical-align: top;\n",
              "    }\n",
              "\n",
              "    .dataframe thead th {\n",
              "        text-align: right;\n",
              "    }\n",
              "</style>\n",
              "<table border=\"1\" class=\"dataframe\">\n",
              "  <thead>\n",
              "    <tr style=\"text-align: right;\">\n",
              "      <th></th>\n",
              "      <th>IDADE</th>\n",
              "      <th>RENDA_MEDIA_MENSAL</th>\n",
              "      <th>TOTAL_INVESTIMENTOS</th>\n",
              "      <th>QTDE_CONSULTAS_CREDITO_12M</th>\n",
              "      <th>QTDE_CARTOES</th>\n",
              "      <th>QTDE_EMPRESTIMOS_12M</th>\n",
              "      <th>QTDE_CHEQUE_ESPECIAL_12M</th>\n",
              "      <th>QTDE_PGTOS_EM_ATRASO_12M</th>\n",
              "      <th>TOTAL_DIAS_ATRASO_12M</th>\n",
              "      <th>VALOR_PGTOS_12M</th>\n",
              "      <th>PERC_MEDIO_LIMITE_TOMADO_12M</th>\n",
              "      <th>FLAG_PGTO_PARCIAL_12M_Sim</th>\n",
              "    </tr>\n",
              "  </thead>\n",
              "  <tbody>\n",
              "    <tr>\n",
              "      <th>0</th>\n",
              "      <td>-1.062</td>\n",
              "      <td>0.127</td>\n",
              "      <td>3.613</td>\n",
              "      <td>-0.651</td>\n",
              "      <td>-0.598</td>\n",
              "      <td>-0.568</td>\n",
              "      <td>-0.553</td>\n",
              "      <td>0.464</td>\n",
              "      <td>-0.506</td>\n",
              "      <td>-0.878</td>\n",
              "      <td>0.303</td>\n",
              "      <td>1.000</td>\n",
              "    </tr>\n",
              "    <tr>\n",
              "      <th>1</th>\n",
              "      <td>-1.545</td>\n",
              "      <td>-1.186</td>\n",
              "      <td>-0.555</td>\n",
              "      <td>-0.651</td>\n",
              "      <td>-0.598</td>\n",
              "      <td>-0.568</td>\n",
              "      <td>1.637</td>\n",
              "      <td>-0.627</td>\n",
              "      <td>-0.320</td>\n",
              "      <td>0.301</td>\n",
              "      <td>-0.774</td>\n",
              "      <td>1.000</td>\n",
              "    </tr>\n",
              "    <tr>\n",
              "      <th>2</th>\n",
              "      <td>-1.159</td>\n",
              "      <td>1.654</td>\n",
              "      <td>-0.245</td>\n",
              "      <td>2.099</td>\n",
              "      <td>1.151</td>\n",
              "      <td>0.715</td>\n",
              "      <td>1.637</td>\n",
              "      <td>-0.627</td>\n",
              "      <td>1.169</td>\n",
              "      <td>-1.001</td>\n",
              "      <td>-1.159</td>\n",
              "      <td>1.000</td>\n",
              "    </tr>\n",
              "    <tr>\n",
              "      <th>3</th>\n",
              "      <td>1.546</td>\n",
              "      <td>1.689</td>\n",
              "      <td>1.105</td>\n",
              "      <td>2.099</td>\n",
              "      <td>1.151</td>\n",
              "      <td>0.715</td>\n",
              "      <td>1.637</td>\n",
              "      <td>2.101</td>\n",
              "      <td>1.727</td>\n",
              "      <td>-1.003</td>\n",
              "      <td>1.149</td>\n",
              "      <td>1.000</td>\n",
              "    </tr>\n",
              "    <tr>\n",
              "      <th>4</th>\n",
              "      <td>0.580</td>\n",
              "      <td>-1.062</td>\n",
              "      <td>-0.305</td>\n",
              "      <td>-0.651</td>\n",
              "      <td>-0.598</td>\n",
              "      <td>-0.568</td>\n",
              "      <td>-1.649</td>\n",
              "      <td>-0.627</td>\n",
              "      <td>-0.552</td>\n",
              "      <td>-0.555</td>\n",
              "      <td>-0.466</td>\n",
              "      <td>1.000</td>\n",
              "    </tr>\n",
              "  </tbody>\n",
              "</table>\n",
              "</div>\n",
              "    <div class=\"colab-df-buttons\">\n",
              "\n",
              "  <div class=\"colab-df-container\">\n",
              "    <button class=\"colab-df-convert\" onclick=\"convertToInteractive('df-e525a15a-1cf2-4555-8533-49666b4eadc6')\"\n",
              "            title=\"Convert this dataframe to an interactive table.\"\n",
              "            style=\"display:none;\">\n",
              "\n",
              "  <svg xmlns=\"http://www.w3.org/2000/svg\" height=\"24px\" viewBox=\"0 -960 960 960\">\n",
              "    <path d=\"M120-120v-720h720v720H120Zm60-500h600v-160H180v160Zm220 220h160v-160H400v160Zm0 220h160v-160H400v160ZM180-400h160v-160H180v160Zm440 0h160v-160H620v160ZM180-180h160v-160H180v160Zm440 0h160v-160H620v160Z\"/>\n",
              "  </svg>\n",
              "    </button>\n",
              "\n",
              "  <style>\n",
              "    .colab-df-container {\n",
              "      display:flex;\n",
              "      gap: 12px;\n",
              "    }\n",
              "\n",
              "    .colab-df-convert {\n",
              "      background-color: #E8F0FE;\n",
              "      border: none;\n",
              "      border-radius: 50%;\n",
              "      cursor: pointer;\n",
              "      display: none;\n",
              "      fill: #1967D2;\n",
              "      height: 32px;\n",
              "      padding: 0 0 0 0;\n",
              "      width: 32px;\n",
              "    }\n",
              "\n",
              "    .colab-df-convert:hover {\n",
              "      background-color: #E2EBFA;\n",
              "      box-shadow: 0px 1px 2px rgba(60, 64, 67, 0.3), 0px 1px 3px 1px rgba(60, 64, 67, 0.15);\n",
              "      fill: #174EA6;\n",
              "    }\n",
              "\n",
              "    .colab-df-buttons div {\n",
              "      margin-bottom: 4px;\n",
              "    }\n",
              "\n",
              "    [theme=dark] .colab-df-convert {\n",
              "      background-color: #3B4455;\n",
              "      fill: #D2E3FC;\n",
              "    }\n",
              "\n",
              "    [theme=dark] .colab-df-convert:hover {\n",
              "      background-color: #434B5C;\n",
              "      box-shadow: 0px 1px 3px 1px rgba(0, 0, 0, 0.15);\n",
              "      filter: drop-shadow(0px 1px 2px rgba(0, 0, 0, 0.3));\n",
              "      fill: #FFFFFF;\n",
              "    }\n",
              "  </style>\n",
              "\n",
              "    <script>\n",
              "      const buttonEl =\n",
              "        document.querySelector('#df-e525a15a-1cf2-4555-8533-49666b4eadc6 button.colab-df-convert');\n",
              "      buttonEl.style.display =\n",
              "        google.colab.kernel.accessAllowed ? 'block' : 'none';\n",
              "\n",
              "      async function convertToInteractive(key) {\n",
              "        const element = document.querySelector('#df-e525a15a-1cf2-4555-8533-49666b4eadc6');\n",
              "        const dataTable =\n",
              "          await google.colab.kernel.invokeFunction('convertToInteractive',\n",
              "                                                    [key], {});\n",
              "        if (!dataTable) return;\n",
              "\n",
              "        const docLinkHtml = 'Like what you see? Visit the ' +\n",
              "          '<a target=\"_blank\" href=https://colab.research.google.com/notebooks/data_table.ipynb>data table notebook</a>'\n",
              "          + ' to learn more about interactive tables.';\n",
              "        element.innerHTML = '';\n",
              "        dataTable['output_type'] = 'display_data';\n",
              "        await google.colab.output.renderOutput(dataTable, element);\n",
              "        const docLink = document.createElement('div');\n",
              "        docLink.innerHTML = docLinkHtml;\n",
              "        element.appendChild(docLink);\n",
              "      }\n",
              "    </script>\n",
              "  </div>\n",
              "\n",
              "\n",
              "    <div id=\"df-f537d588-3b18-4dd8-9b28-e2e89c43e0f9\">\n",
              "      <button class=\"colab-df-quickchart\" onclick=\"quickchart('df-f537d588-3b18-4dd8-9b28-e2e89c43e0f9')\"\n",
              "                title=\"Suggest charts\"\n",
              "                style=\"display:none;\">\n",
              "\n",
              "<svg xmlns=\"http://www.w3.org/2000/svg\" height=\"24px\"viewBox=\"0 0 24 24\"\n",
              "     width=\"24px\">\n",
              "    <g>\n",
              "        <path d=\"M19 3H5c-1.1 0-2 .9-2 2v14c0 1.1.9 2 2 2h14c1.1 0 2-.9 2-2V5c0-1.1-.9-2-2-2zM9 17H7v-7h2v7zm4 0h-2V7h2v10zm4 0h-2v-4h2v4z\"/>\n",
              "    </g>\n",
              "</svg>\n",
              "      </button>\n",
              "\n",
              "<style>\n",
              "  .colab-df-quickchart {\n",
              "      --bg-color: #E8F0FE;\n",
              "      --fill-color: #1967D2;\n",
              "      --hover-bg-color: #E2EBFA;\n",
              "      --hover-fill-color: #174EA6;\n",
              "      --disabled-fill-color: #AAA;\n",
              "      --disabled-bg-color: #DDD;\n",
              "  }\n",
              "\n",
              "  [theme=dark] .colab-df-quickchart {\n",
              "      --bg-color: #3B4455;\n",
              "      --fill-color: #D2E3FC;\n",
              "      --hover-bg-color: #434B5C;\n",
              "      --hover-fill-color: #FFFFFF;\n",
              "      --disabled-bg-color: #3B4455;\n",
              "      --disabled-fill-color: #666;\n",
              "  }\n",
              "\n",
              "  .colab-df-quickchart {\n",
              "    background-color: var(--bg-color);\n",
              "    border: none;\n",
              "    border-radius: 50%;\n",
              "    cursor: pointer;\n",
              "    display: none;\n",
              "    fill: var(--fill-color);\n",
              "    height: 32px;\n",
              "    padding: 0;\n",
              "    width: 32px;\n",
              "  }\n",
              "\n",
              "  .colab-df-quickchart:hover {\n",
              "    background-color: var(--hover-bg-color);\n",
              "    box-shadow: 0 1px 2px rgba(60, 64, 67, 0.3), 0 1px 3px 1px rgba(60, 64, 67, 0.15);\n",
              "    fill: var(--button-hover-fill-color);\n",
              "  }\n",
              "\n",
              "  .colab-df-quickchart-complete:disabled,\n",
              "  .colab-df-quickchart-complete:disabled:hover {\n",
              "    background-color: var(--disabled-bg-color);\n",
              "    fill: var(--disabled-fill-color);\n",
              "    box-shadow: none;\n",
              "  }\n",
              "\n",
              "  .colab-df-spinner {\n",
              "    border: 2px solid var(--fill-color);\n",
              "    border-color: transparent;\n",
              "    border-bottom-color: var(--fill-color);\n",
              "    animation:\n",
              "      spin 1s steps(1) infinite;\n",
              "  }\n",
              "\n",
              "  @keyframes spin {\n",
              "    0% {\n",
              "      border-color: transparent;\n",
              "      border-bottom-color: var(--fill-color);\n",
              "      border-left-color: var(--fill-color);\n",
              "    }\n",
              "    20% {\n",
              "      border-color: transparent;\n",
              "      border-left-color: var(--fill-color);\n",
              "      border-top-color: var(--fill-color);\n",
              "    }\n",
              "    30% {\n",
              "      border-color: transparent;\n",
              "      border-left-color: var(--fill-color);\n",
              "      border-top-color: var(--fill-color);\n",
              "      border-right-color: var(--fill-color);\n",
              "    }\n",
              "    40% {\n",
              "      border-color: transparent;\n",
              "      border-right-color: var(--fill-color);\n",
              "      border-top-color: var(--fill-color);\n",
              "    }\n",
              "    60% {\n",
              "      border-color: transparent;\n",
              "      border-right-color: var(--fill-color);\n",
              "    }\n",
              "    80% {\n",
              "      border-color: transparent;\n",
              "      border-right-color: var(--fill-color);\n",
              "      border-bottom-color: var(--fill-color);\n",
              "    }\n",
              "    90% {\n",
              "      border-color: transparent;\n",
              "      border-bottom-color: var(--fill-color);\n",
              "    }\n",
              "  }\n",
              "</style>\n",
              "\n",
              "      <script>\n",
              "        async function quickchart(key) {\n",
              "          const quickchartButtonEl =\n",
              "            document.querySelector('#' + key + ' button');\n",
              "          quickchartButtonEl.disabled = true;  // To prevent multiple clicks.\n",
              "          quickchartButtonEl.classList.add('colab-df-spinner');\n",
              "          try {\n",
              "            const charts = await google.colab.kernel.invokeFunction(\n",
              "                'suggestCharts', [key], {});\n",
              "          } catch (error) {\n",
              "            console.error('Error during call to suggestCharts:', error);\n",
              "          }\n",
              "          quickchartButtonEl.classList.remove('colab-df-spinner');\n",
              "          quickchartButtonEl.classList.add('colab-df-quickchart-complete');\n",
              "        }\n",
              "        (() => {\n",
              "          let quickchartButtonEl =\n",
              "            document.querySelector('#df-f537d588-3b18-4dd8-9b28-e2e89c43e0f9 button');\n",
              "          quickchartButtonEl.style.display =\n",
              "            google.colab.kernel.accessAllowed ? 'block' : 'none';\n",
              "        })();\n",
              "      </script>\n",
              "    </div>\n",
              "\n",
              "    </div>\n",
              "  </div>\n"
            ],
            "application/vnd.google.colaboratory.intrinsic+json": {
              "type": "dataframe",
              "variable_name": "X_teste_tratada",
              "summary": "{\n  \"name\": \"X_teste_tratada\",\n  \"rows\": 3652,\n  \"fields\": [\n    {\n      \"column\": \"IDADE\",\n      \"properties\": {\n        \"dtype\": \"number\",\n        \"std\": 0.9939862793811317,\n        \"min\": -1.6418889089842976,\n        \"max\": 5.796190130068055,\n        \"num_unique_values\": 67,\n        \"samples\": [\n          0.19348124350914012,\n          -0.4827077600410738,\n          0.5798749598235481\n        ],\n        \"semantic_type\": \"\",\n        \"description\": \"\"\n      }\n    },\n    {\n      \"column\": \"RENDA_MEDIA_MENSAL\",\n      \"properties\": {\n        \"dtype\": \"number\",\n        \"std\": 1.0205010348354842,\n        \"min\": -1.3993456429282916,\n        \"max\": 6.180675089540796,\n        \"num_unique_values\": 282,\n        \"samples\": [\n          0.44684207645528023,\n          -0.19222290333134076,\n          2.559306870749944\n        ],\n        \"semantic_type\": \"\",\n        \"description\": \"\"\n      }\n    },\n    {\n      \"column\": \"TOTAL_INVESTIMENTOS\",\n      \"properties\": {\n        \"dtype\": \"number\",\n        \"std\": 1.0227169639358673,\n        \"min\": -0.5645140740016807,\n        \"max\": 5.541348685254206,\n        \"num_unique_values\": 789,\n        \"samples\": [\n          0.3398239628430544,\n          -0.539217905138891,\n          -0.22617781546186727\n        ],\n        \"semantic_type\": \"\",\n        \"description\": \"\"\n      }\n    },\n    {\n      \"column\": \"QTDE_CONSULTAS_CREDITO_12M\",\n      \"properties\": {\n        \"dtype\": \"number\",\n        \"std\": 0.9727867812068921,\n        \"min\": -0.6510562680978177,\n        \"max\": 8.288220763782826,\n        \"num_unique_values\": 13,\n        \"samples\": [\n          4.850037289982579,\n          2.78712720570243,\n          -0.6510562680978177\n        ],\n        \"semantic_type\": \"\",\n        \"description\": \"\"\n      }\n    },\n    {\n      \"column\": \"QTDE_CARTOES\",\n      \"properties\": {\n        \"dtype\": \"number\",\n        \"std\": 1.006757364748051,\n        \"min\": -1.1805782196473182,\n        \"max\": 5.2309543735738835,\n        \"num_unique_values\": 12,\n        \"samples\": [\n          4.648087774190137,\n          2.8994879760389005,\n          -0.5977116202635726\n        ],\n        \"semantic_type\": \"\",\n        \"description\": \"\"\n      }\n    },\n    {\n      \"column\": \"QTDE_EMPRESTIMOS_12M\",\n      \"properties\": {\n        \"dtype\": \"number\",\n        \"std\": 0.9937801628207175,\n        \"min\": -0.567817016278456,\n        \"max\": 7.129199540346257,\n        \"num_unique_values\": 7,\n        \"samples\": [\n          -0.567817016278456,\n          0.7150190764923294,\n          7.129199540346257\n        ],\n        \"semantic_type\": \"\",\n        \"description\": \"\"\n      }\n    },\n    {\n      \"column\": \"QTDE_CHEQUE_ESPECIAL_12M\",\n      \"properties\": {\n        \"dtype\": \"number\",\n        \"std\": 0.9879436890630752,\n        \"min\": -1.6486508352985523,\n        \"max\": 6.017759257146737,\n        \"num_unique_values\": 8,\n        \"samples\": [\n          1.6369534900351432,\n          6.017759257146737,\n          -0.5534493935206538\n        ],\n        \"semantic_type\": \"\",\n        \"description\": \"\"\n      }\n    },\n    {\n      \"column\": \"QTDE_PGTOS_EM_ATRASO_12M\",\n      \"properties\": {\n        \"dtype\": \"number\",\n        \"std\": 1.0148265594870651,\n        \"min\": -1.172210149364545,\n        \"max\": 8.101714480475037,\n        \"num_unique_values\": 17,\n        \"samples\": [\n          0.46436478531302816,\n          -0.6266851711386873,\n          1.009889763538886\n        ],\n        \"semantic_type\": \"\",\n        \"description\": \"\"\n      }\n    },\n    {\n      \"column\": \"TOTAL_DIAS_ATRASO_12M\",\n      \"properties\": {\n        \"dtype\": \"number\",\n        \"std\": 0.9568759944515037,\n        \"min\": -0.6919858253856729,\n        \"max\": 6.985139574869442,\n        \"num_unique_values\": 120,\n        \"samples\": [\n          0.517743025563618,\n          0.7969112219365313,\n          -0.5524017271992162\n        ],\n        \"semantic_type\": \"\",\n        \"description\": \"\"\n      }\n    },\n    {\n      \"column\": \"VALOR_PGTOS_12M\",\n      \"properties\": {\n        \"dtype\": \"number\",\n        \"std\": 0.9744293285739192,\n        \"min\": -1.4116078171830109,\n        \"max\": 6.517358585158359,\n        \"num_unique_values\": 3396,\n        \"samples\": [\n          -0.29353793609141404,\n          -0.42426040343937765,\n          0.1454988988773712\n        ],\n        \"semantic_type\": \"\",\n        \"description\": \"\"\n      }\n    },\n    {\n      \"column\": \"PERC_MEDIO_LIMITE_TOMADO_12M\",\n      \"properties\": {\n        \"dtype\": \"number\",\n        \"std\": 1.0045270952661531,\n        \"min\": -1.1970750069306493,\n        \"max\": 2.610453275337633,\n        \"num_unique_values\": 100,\n        \"samples\": [\n          1.7643358792780148,\n          2.1104748140296765,\n          2.379693985503192\n        ],\n        \"semantic_type\": \"\",\n        \"description\": \"\"\n      }\n    },\n    {\n      \"column\": \"FLAG_PGTO_PARCIAL_12M_Sim\",\n      \"properties\": {\n        \"dtype\": \"number\",\n        \"std\": 0.479686827122533,\n        \"min\": 0.0,\n        \"max\": 1.0,\n        \"num_unique_values\": 2,\n        \"samples\": [\n          0.0,\n          1.0\n        ],\n        \"semantic_type\": \"\",\n        \"description\": \"\"\n      }\n    }\n  ]\n}"
            }
          },
          "metadata": {},
          "execution_count": 127
        }
      ],
      "source": [
        "X_teste_tratada = preprocessador.transform(X_teste)  # Note que o mesmo objeto de pré-processamento deve ser utilizado, agora com 'transform' em vez de 'fit_transform'\n",
        "X_teste_tratada = pd.DataFrame(X_teste_tratada, columns=nomes_variaveis)\n",
        "X_teste_tratada.head()"
      ]
    },
    {
      "cell_type": "markdown",
      "metadata": {
        "id": "52VwcdP-pneE"
      },
      "source": [
        "**Etapa 4: Definição do algoritmo e intervalos de busca de hiperparâmetros**"
      ]
    },
    {
      "cell_type": "code",
      "execution_count": 128,
      "metadata": {
        "id": "QlPhVY7bpneE"
      },
      "outputs": [],
      "source": [
        "algoritmos = {\n",
        "\n",
        "    'FLORESTA ALEATÓRIA': (RandomForestClassifier(random_state=123, n_jobs = -1), {\n",
        "        'n_estimators': randint(10, 301),             # Qtde. de árvores na floresta\n",
        "        'min_impurity_decrease': uniform(0, 0.05),    # Valor mínimo de redução de impureza\n",
        "        'min_samples_split': randint(100, 201),       # Qtde. mínima de observações no nó \"pai\" (ATENÇÃO: depende do tamanho da base)\n",
        "        'min_samples_leaf': randint(50, 101),         # Qtde. mínima de observações no nó \"filho\" (ATENÇÃO: depende do tamanho da base)\n",
        "        'max_samples': uniform(0.6, 0.4),             # Percentual de observações consideradas em cada árvore\n",
        "        'max_features': ['sqrt', 'log2', None],       # Qtde. de variáveis consideradas em cada árvore\n",
        "        'max_depth': randint(2, 11)                   # Profundidade máxima das árvores\n",
        "    }),\n",
        "\n",
        "    'ADABOOST': (AdaBoostClassifier(random_state=123), {\n",
        "        'n_estimators': randint(10, 301),             # Qtde. de árvores no boosting\n",
        "        'learning_rate': loguniform(1e-4, 1e-1)       # Taxa de aprendizado\n",
        "    }),\n",
        "\n",
        "    'GRADIENT BOOSTING': (GradientBoostingClassifier(random_state=123), {\n",
        "        'n_estimators': randint(10, 301),             # Qtde. de árvores no boosting\n",
        "        'min_impurity_decrease': uniform(0, 0.05),    # Valor mínimo de redução de impureza\n",
        "        'learning_rate': loguniform(1e-4, 1e-1),      # Taxa de aprendizado\n",
        "        'min_samples_split': randint(100, 201),       # Qtde. mínima de observações no nó \"pai\" (ATENÇÃO: depende do tamanho da base)\n",
        "        'min_samples_leaf': randint(50, 101),         # Qtde. mínima de observações no nó \"filho\" (ATENÇÃO: depende do tamanho da base)\n",
        "        'subsample': uniform(0.6, 0.4),               # Percentual de observações consideradas em cada árvore\n",
        "        'max_features': ['sqrt', 'log2', None],       # Qtde. de variáveis consideradas em cada árvore\n",
        "        'max_depth': randint(2, 11)                   # Profundidade máxima das árvores\n",
        "    }),\n",
        "\n",
        "    'GRADIENT BOOSTING COM HISTOGRAMAS': (HistGradientBoostingClassifier(random_state=123), {\n",
        "        'max_iter': randint(10, 301),                 # Qtde. de árvores no boosting\n",
        "        'learning_rate': loguniform(1e-4, 1e-1),      # Taxa de aprendizado\n",
        "        'min_samples_leaf': randint(50, 101),         # Qtde. mínima de observações no nó \"filho\" (ATENÇÃO: depende do tamanho da base)\n",
        "        'max_leaf_nodes': randint(10, 31),            # Qtde. máxima de nós finais (ATENÇÃO: depende do tamanho da base)\n",
        "        'max_bins': randint(10, 255),                 # Qtde. máxima de bins para discretização\n",
        "        'l2_regularization': loguniform(1e-5, 1e2),   # Contribuição da penalização Ridge (L2)\n",
        "        'max_depth': randint(2, 11)                   # Profundidade máxima das árvores\n",
        "    }),\n",
        "\n",
        "    'XGBOOST': (XGBClassifier(random_state=123, n_jobs=-1), {\n",
        "        'n_estimators': randint(10, 301),             # Qtde. de árvores no boosting\n",
        "        'learning_rate': loguniform(1e-4, 1e-1),      # Taxa de aprendizado\n",
        "        'colsample_bytree': uniform(0.5, 0.5),        # Percentual de variáveis consideradas em cada árvore\n",
        "        'subsample': uniform(0.6, 0.4),               # Percentual de observações consideradas em cada árvore\n",
        "        'gamma': uniform(0, 5),                       # Redução mínima na função de perda para realizar uma quebra\n",
        "        'reg_alpha': loguniform(1e-5, 1e2),           # Contribuição da penalização LASSO (L1)\n",
        "        'reg_lambda': loguniform(1e-5, 1e2),          # Contribuição da penalização Ridge (L2)\n",
        "        'max_depth': randint(2, 11)                   # Profundidade máxima das árvores\n",
        "    }),\n",
        "\n",
        "    'LIGHTGBM': (LGBMClassifier(random_state=123, n_jobs=-1, verbosity=-1), {\n",
        "        'n_estimators': randint(10, 301),             # Qtde. de árvores no boosting\n",
        "        'learning_rate': loguniform(1e-4, 1e-1),      # Taxa de aprendizado\n",
        "        'min_child_samples': randint(50, 101),        # Qtde. mínima de observações no nó \"filho\" (ATENÇÃO: depende do tamanho da base)\n",
        "        'num_leaves': randint(10, 31),                # Qtde. máxima de nós finais (ATENÇÃO: depende do tamanho da base)\n",
        "        'subsample': uniform(0.6, 0.4),               # Percentual de observações consideradas em cada árvore\n",
        "        'reg_alpha': loguniform(1e-5, 1e2),           # Contribuição da penalização LASSO (L1)\n",
        "        'reg_lambda': loguniform(1e-5, 1e2),          # Contribuição da penalização Ridge (L2)\n",
        "        'max_depth': randint(2, 11)                   # Profundidade máxima das árvores\n",
        "    })\n",
        "\n",
        "}"
      ]
    },
    {
      "cell_type": "markdown",
      "metadata": {
        "id": "RUY3AzJppneF"
      },
      "source": [
        "**Etapa 5: Construção de modelos usando validação cruzada, busca aleatória e teste externo**"
      ]
    },
    {
      "cell_type": "markdown",
      "metadata": {
        "id": "KuGSQ2zppneF"
      },
      "source": [
        "*Estratégia de validação cruzada estratificada (stratified k-fold) e quantidade máxima de iterações de busca*"
      ]
    },
    {
      "cell_type": "code",
      "execution_count": 129,
      "metadata": {
        "id": "_vfFWqRFpneF"
      },
      "outputs": [],
      "source": [
        "kf = StratifiedKFold(n_splits=5, shuffle=True, random_state=123)\n",
        "qtd_iteracoes = 50"
      ]
    },
    {
      "cell_type": "markdown",
      "metadata": {
        "id": "_RcxQ5K-pneF"
      },
      "source": [
        "*Construção dos modelos*"
      ]
    },
    {
      "cell_type": "code",
      "execution_count": 130,
      "metadata": {
        "id": "sQedXR1TpneF",
        "outputId": "a9380906-0c10-4ac3-8561-7cee10124d88",
        "colab": {
          "base_uri": "https://localhost:8080/",
          "height": 373
        }
      },
      "outputs": [
        {
          "output_type": "stream",
          "name": "stdout",
          "text": [
            "(1 de 6) Processo concluído para o algoritmo FLORESTA ALEATÓRIA em 216.2 segundos!\n"
          ]
        },
        {
          "output_type": "error",
          "ename": "KeyboardInterrupt",
          "evalue": "",
          "traceback": [
            "\u001b[0;31m---------------------------------------------------------------------------\u001b[0m",
            "\u001b[0;31mKeyboardInterrupt\u001b[0m                         Traceback (most recent call last)",
            "\u001b[0;32m/tmp/ipython-input-3048436034.py\u001b[0m in \u001b[0;36m<cell line: 0>\u001b[0;34m()\u001b[0m\n\u001b[1;32m     21\u001b[0m \u001b[0;34m\u001b[0m\u001b[0m\n\u001b[1;32m     22\u001b[0m     \u001b[0;31m# Ajuste dos modelos\u001b[0m\u001b[0;34m\u001b[0m\u001b[0;34m\u001b[0m\u001b[0m\n\u001b[0;32m---> 23\u001b[0;31m     \u001b[0mbusca\u001b[0m\u001b[0;34m.\u001b[0m\u001b[0mfit\u001b[0m\u001b[0;34m(\u001b[0m\u001b[0mX_treino_tratada\u001b[0m\u001b[0;34m,\u001b[0m \u001b[0my_treino\u001b[0m\u001b[0;34m,\u001b[0m \u001b[0msample_weight\u001b[0m\u001b[0;34m=\u001b[0m\u001b[0mpesos_treino\u001b[0m\u001b[0;34m)\u001b[0m\u001b[0;34m\u001b[0m\u001b[0;34m\u001b[0m\u001b[0m\n\u001b[0m\u001b[1;32m     24\u001b[0m \u001b[0;34m\u001b[0m\u001b[0m\n\u001b[1;32m     25\u001b[0m     \u001b[0;31m# Armazenar os resultados da busca\u001b[0m\u001b[0;34m\u001b[0m\u001b[0;34m\u001b[0m\u001b[0m\n",
            "\u001b[0;32m/usr/local/lib/python3.12/dist-packages/sklearn/base.py\u001b[0m in \u001b[0;36mwrapper\u001b[0;34m(estimator, *args, **kwargs)\u001b[0m\n\u001b[1;32m   1387\u001b[0m                 )\n\u001b[1;32m   1388\u001b[0m             ):\n\u001b[0;32m-> 1389\u001b[0;31m                 \u001b[0;32mreturn\u001b[0m \u001b[0mfit_method\u001b[0m\u001b[0;34m(\u001b[0m\u001b[0mestimator\u001b[0m\u001b[0;34m,\u001b[0m \u001b[0;34m*\u001b[0m\u001b[0margs\u001b[0m\u001b[0;34m,\u001b[0m \u001b[0;34m**\u001b[0m\u001b[0mkwargs\u001b[0m\u001b[0;34m)\u001b[0m\u001b[0;34m\u001b[0m\u001b[0;34m\u001b[0m\u001b[0m\n\u001b[0m\u001b[1;32m   1390\u001b[0m \u001b[0;34m\u001b[0m\u001b[0m\n\u001b[1;32m   1391\u001b[0m         \u001b[0;32mreturn\u001b[0m \u001b[0mwrapper\u001b[0m\u001b[0;34m\u001b[0m\u001b[0;34m\u001b[0m\u001b[0m\n",
            "\u001b[0;32m/usr/local/lib/python3.12/dist-packages/sklearn/model_selection/_search.py\u001b[0m in \u001b[0;36mfit\u001b[0;34m(self, X, y, **params)\u001b[0m\n\u001b[1;32m   1022\u001b[0m                 \u001b[0;32mreturn\u001b[0m \u001b[0mresults\u001b[0m\u001b[0;34m\u001b[0m\u001b[0;34m\u001b[0m\u001b[0m\n\u001b[1;32m   1023\u001b[0m \u001b[0;34m\u001b[0m\u001b[0m\n\u001b[0;32m-> 1024\u001b[0;31m             \u001b[0mself\u001b[0m\u001b[0;34m.\u001b[0m\u001b[0m_run_search\u001b[0m\u001b[0;34m(\u001b[0m\u001b[0mevaluate_candidates\u001b[0m\u001b[0;34m)\u001b[0m\u001b[0;34m\u001b[0m\u001b[0;34m\u001b[0m\u001b[0m\n\u001b[0m\u001b[1;32m   1025\u001b[0m \u001b[0;34m\u001b[0m\u001b[0m\n\u001b[1;32m   1026\u001b[0m             \u001b[0;31m# multimetric is determined here because in the case of a callable\u001b[0m\u001b[0;34m\u001b[0m\u001b[0;34m\u001b[0m\u001b[0m\n",
            "\u001b[0;32m/usr/local/lib/python3.12/dist-packages/sklearn/model_selection/_search.py\u001b[0m in \u001b[0;36m_run_search\u001b[0;34m(self, evaluate_candidates)\u001b[0m\n\u001b[1;32m   1949\u001b[0m     \u001b[0;32mdef\u001b[0m \u001b[0m_run_search\u001b[0m\u001b[0;34m(\u001b[0m\u001b[0mself\u001b[0m\u001b[0;34m,\u001b[0m \u001b[0mevaluate_candidates\u001b[0m\u001b[0;34m)\u001b[0m\u001b[0;34m:\u001b[0m\u001b[0;34m\u001b[0m\u001b[0;34m\u001b[0m\u001b[0m\n\u001b[1;32m   1950\u001b[0m         \u001b[0;34m\"\"\"Search n_iter candidates from param_distributions\"\"\"\u001b[0m\u001b[0;34m\u001b[0m\u001b[0;34m\u001b[0m\u001b[0m\n\u001b[0;32m-> 1951\u001b[0;31m         evaluate_candidates(\n\u001b[0m\u001b[1;32m   1952\u001b[0m             ParameterSampler(\n\u001b[1;32m   1953\u001b[0m                 \u001b[0mself\u001b[0m\u001b[0;34m.\u001b[0m\u001b[0mparam_distributions\u001b[0m\u001b[0;34m,\u001b[0m \u001b[0mself\u001b[0m\u001b[0;34m.\u001b[0m\u001b[0mn_iter\u001b[0m\u001b[0;34m,\u001b[0m \u001b[0mrandom_state\u001b[0m\u001b[0;34m=\u001b[0m\u001b[0mself\u001b[0m\u001b[0;34m.\u001b[0m\u001b[0mrandom_state\u001b[0m\u001b[0;34m\u001b[0m\u001b[0;34m\u001b[0m\u001b[0m\n",
            "\u001b[0;32m/usr/local/lib/python3.12/dist-packages/sklearn/model_selection/_search.py\u001b[0m in \u001b[0;36mevaluate_candidates\u001b[0;34m(candidate_params, cv, more_results)\u001b[0m\n\u001b[1;32m    968\u001b[0m                     )\n\u001b[1;32m    969\u001b[0m \u001b[0;34m\u001b[0m\u001b[0m\n\u001b[0;32m--> 970\u001b[0;31m                 out = parallel(\n\u001b[0m\u001b[1;32m    971\u001b[0m                     delayed(_fit_and_score)(\n\u001b[1;32m    972\u001b[0m                         \u001b[0mclone\u001b[0m\u001b[0;34m(\u001b[0m\u001b[0mbase_estimator\u001b[0m\u001b[0;34m)\u001b[0m\u001b[0;34m,\u001b[0m\u001b[0;34m\u001b[0m\u001b[0;34m\u001b[0m\u001b[0m\n",
            "\u001b[0;32m/usr/local/lib/python3.12/dist-packages/sklearn/utils/parallel.py\u001b[0m in \u001b[0;36m__call__\u001b[0;34m(self, iterable)\u001b[0m\n\u001b[1;32m     75\u001b[0m             \u001b[0;32mfor\u001b[0m \u001b[0mdelayed_func\u001b[0m\u001b[0;34m,\u001b[0m \u001b[0margs\u001b[0m\u001b[0;34m,\u001b[0m \u001b[0mkwargs\u001b[0m \u001b[0;32min\u001b[0m \u001b[0miterable\u001b[0m\u001b[0;34m\u001b[0m\u001b[0;34m\u001b[0m\u001b[0m\n\u001b[1;32m     76\u001b[0m         )\n\u001b[0;32m---> 77\u001b[0;31m         \u001b[0;32mreturn\u001b[0m \u001b[0msuper\u001b[0m\u001b[0;34m(\u001b[0m\u001b[0;34m)\u001b[0m\u001b[0;34m.\u001b[0m\u001b[0m__call__\u001b[0m\u001b[0;34m(\u001b[0m\u001b[0miterable_with_config\u001b[0m\u001b[0;34m)\u001b[0m\u001b[0;34m\u001b[0m\u001b[0;34m\u001b[0m\u001b[0m\n\u001b[0m\u001b[1;32m     78\u001b[0m \u001b[0;34m\u001b[0m\u001b[0m\n\u001b[1;32m     79\u001b[0m \u001b[0;34m\u001b[0m\u001b[0m\n",
            "\u001b[0;32m/usr/local/lib/python3.12/dist-packages/joblib/parallel.py\u001b[0m in \u001b[0;36m__call__\u001b[0;34m(self, iterable)\u001b[0m\n\u001b[1;32m   2070\u001b[0m         \u001b[0mnext\u001b[0m\u001b[0;34m(\u001b[0m\u001b[0moutput\u001b[0m\u001b[0;34m)\u001b[0m\u001b[0;34m\u001b[0m\u001b[0;34m\u001b[0m\u001b[0m\n\u001b[1;32m   2071\u001b[0m \u001b[0;34m\u001b[0m\u001b[0m\n\u001b[0;32m-> 2072\u001b[0;31m         \u001b[0;32mreturn\u001b[0m \u001b[0moutput\u001b[0m \u001b[0;32mif\u001b[0m \u001b[0mself\u001b[0m\u001b[0;34m.\u001b[0m\u001b[0mreturn_generator\u001b[0m \u001b[0;32melse\u001b[0m \u001b[0mlist\u001b[0m\u001b[0;34m(\u001b[0m\u001b[0moutput\u001b[0m\u001b[0;34m)\u001b[0m\u001b[0;34m\u001b[0m\u001b[0;34m\u001b[0m\u001b[0m\n\u001b[0m\u001b[1;32m   2073\u001b[0m \u001b[0;34m\u001b[0m\u001b[0m\n\u001b[1;32m   2074\u001b[0m     \u001b[0;32mdef\u001b[0m \u001b[0m__repr__\u001b[0m\u001b[0;34m(\u001b[0m\u001b[0mself\u001b[0m\u001b[0;34m)\u001b[0m\u001b[0;34m:\u001b[0m\u001b[0;34m\u001b[0m\u001b[0;34m\u001b[0m\u001b[0m\n",
            "\u001b[0;32m/usr/local/lib/python3.12/dist-packages/joblib/parallel.py\u001b[0m in \u001b[0;36m_get_outputs\u001b[0;34m(self, iterator, pre_dispatch)\u001b[0m\n\u001b[1;32m   1680\u001b[0m \u001b[0;34m\u001b[0m\u001b[0m\n\u001b[1;32m   1681\u001b[0m             \u001b[0;32mwith\u001b[0m \u001b[0mself\u001b[0m\u001b[0;34m.\u001b[0m\u001b[0m_backend\u001b[0m\u001b[0;34m.\u001b[0m\u001b[0mretrieval_context\u001b[0m\u001b[0;34m(\u001b[0m\u001b[0;34m)\u001b[0m\u001b[0;34m:\u001b[0m\u001b[0;34m\u001b[0m\u001b[0;34m\u001b[0m\u001b[0m\n\u001b[0;32m-> 1682\u001b[0;31m                 \u001b[0;32myield\u001b[0m \u001b[0;32mfrom\u001b[0m \u001b[0mself\u001b[0m\u001b[0;34m.\u001b[0m\u001b[0m_retrieve\u001b[0m\u001b[0;34m(\u001b[0m\u001b[0;34m)\u001b[0m\u001b[0;34m\u001b[0m\u001b[0;34m\u001b[0m\u001b[0m\n\u001b[0m\u001b[1;32m   1683\u001b[0m \u001b[0;34m\u001b[0m\u001b[0m\n\u001b[1;32m   1684\u001b[0m         \u001b[0;32mexcept\u001b[0m \u001b[0mGeneratorExit\u001b[0m\u001b[0;34m:\u001b[0m\u001b[0;34m\u001b[0m\u001b[0;34m\u001b[0m\u001b[0m\n",
            "\u001b[0;32m/usr/local/lib/python3.12/dist-packages/joblib/parallel.py\u001b[0m in \u001b[0;36m_retrieve\u001b[0;34m(self)\u001b[0m\n\u001b[1;32m   1798\u001b[0m                     \u001b[0mself\u001b[0m\u001b[0;34m.\u001b[0m\u001b[0m_jobs\u001b[0m\u001b[0;34m[\u001b[0m\u001b[0;36m0\u001b[0m\u001b[0;34m]\u001b[0m\u001b[0;34m.\u001b[0m\u001b[0mget_status\u001b[0m\u001b[0;34m(\u001b[0m\u001b[0mtimeout\u001b[0m\u001b[0;34m=\u001b[0m\u001b[0mself\u001b[0m\u001b[0;34m.\u001b[0m\u001b[0mtimeout\u001b[0m\u001b[0;34m)\u001b[0m \u001b[0;34m==\u001b[0m \u001b[0mTASK_PENDING\u001b[0m\u001b[0;34m\u001b[0m\u001b[0;34m\u001b[0m\u001b[0m\n\u001b[1;32m   1799\u001b[0m                 ):\n\u001b[0;32m-> 1800\u001b[0;31m                     \u001b[0mtime\u001b[0m\u001b[0;34m.\u001b[0m\u001b[0msleep\u001b[0m\u001b[0;34m(\u001b[0m\u001b[0;36m0.01\u001b[0m\u001b[0;34m)\u001b[0m\u001b[0;34m\u001b[0m\u001b[0;34m\u001b[0m\u001b[0m\n\u001b[0m\u001b[1;32m   1801\u001b[0m                     \u001b[0;32mcontinue\u001b[0m\u001b[0;34m\u001b[0m\u001b[0;34m\u001b[0m\u001b[0m\n\u001b[1;32m   1802\u001b[0m \u001b[0;34m\u001b[0m\u001b[0m\n",
            "\u001b[0;31mKeyboardInterrupt\u001b[0m: "
          ]
        }
      ],
      "source": [
        "resultados = []                                                              # Lista para armazenar resultados\n",
        "contador_modelos = 0                                                         # Contador de modelos testados\n",
        "pesos_treino = compute_sample_weight(class_weight='balanced', y=y_treino)    # Pesos das observações no treino (pois alguns algoritmos não aceitam o argumento 'class_weight')\n",
        "\n",
        "for nome_algoritmo, (classe_algoritmo, hiperparametros) in algoritmos.items():\n",
        "\n",
        "    # Início da contagem de tempo e de modelos\n",
        "    inicio = time.time()\n",
        "\n",
        "    # Busca aleatória de hiperparâmetros com validação cruzada (randomized search)\n",
        "    busca = RandomizedSearchCV(\n",
        "        estimator=classe_algoritmo,\n",
        "        param_distributions=hiperparametros,\n",
        "        n_iter=1 if not hiperparametros else qtd_iteracoes,\n",
        "        scoring='roc_auc',\n",
        "        cv=kf,\n",
        "        return_train_score=True,\n",
        "        random_state=123,\n",
        "        n_jobs=-1\n",
        "    )\n",
        "\n",
        "    # Ajuste dos modelos\n",
        "    busca.fit(X_treino_tratada, y_treino, sample_weight=pesos_treino)\n",
        "\n",
        "    # Armazenar os resultados da busca\n",
        "    resultados_aux = pd.DataFrame({\n",
        "        \"num_modelo\": [f\"Modelo {contador_modelos + i}\" for i in range(len(busca.cv_results_[\"params\"]))],\n",
        "        \"nome_algoritmo\": nome_algoritmo,\n",
        "        \"classe_algoritmo\": type(classe_algoritmo).__name__,\n",
        "        \"hiperparametros\": busca.cv_results_[\"params\"],\n",
        "        \"media_score_treino\": busca.cv_results_[\"mean_train_score\"],\n",
        "        \"media_score_teste_interno\": busca.cv_results_[\"mean_test_score\"],\n",
        "        \"dp_score_treino\": busca.cv_results_[\"std_train_score\"],\n",
        "        \"dp_score_teste_interno\": busca.cv_results_[\"std_test_score\"]\n",
        "    })\n",
        "\n",
        "    metrica = \"roc_auc\"\n",
        "    scorer = get_scorer(metrica)\n",
        "\n",
        "    # Calcular score no teste externo, para cada modelo\n",
        "    score_teste = []\n",
        "    for params in resultados_aux[\"hiperparametros\"]:\n",
        "        estimador = busca.best_estimator_\n",
        "        p_hat_teste = estimador.predict_proba(X_teste_tratada)[:, 1]\n",
        "        score = scorer(estimador, X_teste_tratada, y_teste)\n",
        "        score_teste.append(score)\n",
        "\n",
        "    # Adicionar coluna de score em teste externo e colunas de variações absolutas de score em relação ao treino\n",
        "    resultados_aux[\"score_teste_externo\"] = score_teste\n",
        "    resultados_aux[\"var_abs_media_score_teste_interno\"] = abs(resultados_aux[\"media_score_teste_interno\"] - resultados_aux[\"media_score_treino\"])\n",
        "    resultados_aux[\"var_abs_score_teste_externo\"] = abs(resultados_aux[\"score_teste_externo\"] - resultados_aux[\"media_score_treino\"])\n",
        "\n",
        "    resultados.append(resultados_aux)\n",
        "    contador_modelos += len(resultados_aux)\n",
        "\n",
        "    # Fim da contagem de tempo e mensagem de finalização\n",
        "    fim = time.time()\n",
        "    print(f\"({math.ceil(contador_modelos/qtd_iteracoes)} de {len(algoritmos)}) Processo concluído para o algoritmo {nome_algoritmo} em {fim - inicio:.1f} segundos!\")\n",
        "\n",
        "# Criação de data frame com os resultados\n",
        "resultados = pd.concat(resultados, ignore_index=True)"
      ]
    },
    {
      "cell_type": "markdown",
      "metadata": {
        "id": "aDuAOP7PpneF"
      },
      "source": [
        "**Etapa 6: Comparação de modelos**"
      ]
    },
    {
      "cell_type": "markdown",
      "metadata": {
        "id": "VfAwl6uppneF"
      },
      "source": [
        "*Ordenação dos melhores modelos*"
      ]
    },
    {
      "cell_type": "code",
      "execution_count": null,
      "metadata": {
        "id": "DkGrsB57pneF"
      },
      "outputs": [],
      "source": [
        "# Escolha por qual coluna ordenar\n",
        "ordenar_por = \"media_score_teste_interno\"\n",
        "# ordenar_por = \"score_teste_externo\"\n",
        "\n",
        "# Escolha quais o percentuais máximos de variação de score (da média do treino para a média do teste interno; e da média do treino para o teste externo)\n",
        "max_var_perc_score_teste_interno = 0.1  # ex.: 0.1 representa 10%\n",
        "max_var_perc_score_teste_externo = 0.1\n",
        "\n",
        "# Ordenação e filtragem\n",
        "resultados_filt_ord = resultados[(resultados['var_abs_media_score_teste_interno'] < max_var_perc_score_teste_interno) & (resultados['var_abs_score_teste_externo'] < max_var_perc_score_teste_externo)]\n",
        "resultados_filt_ord = resultados_filt_ord.sort_values(ordenar_por, ascending=False)"
      ]
    },
    {
      "cell_type": "markdown",
      "metadata": {
        "id": "-kGm7wl6pneF"
      },
      "source": [
        "*Exibição dos melhores modelos, em formato de tabela e gráfico*"
      ]
    },
    {
      "cell_type": "code",
      "execution_count": null,
      "metadata": {
        "id": "IPZhCQEJpneF"
      },
      "outputs": [],
      "source": [
        "pd.set_option('display.float_format', '{:.3f}'.format)   # Quantidade de casas decimais\n",
        "resultados_filt_ord[['num_modelo',\n",
        "                     'nome_algoritmo',\n",
        "                     'hiperparametros',\n",
        "                     'media_score_treino',\n",
        "                     'dp_score_treino',\n",
        "                     'media_score_teste_interno',\n",
        "                     'dp_score_teste_interno',\n",
        "                     'var_abs_media_score_teste_interno',\n",
        "                     'score_teste_externo',\n",
        "                     'var_abs_score_teste_externo']].head(10)   # Escolha quantos modelos quer exibir"
      ]
    },
    {
      "cell_type": "code",
      "execution_count": null,
      "metadata": {
        "id": "xGgH0nFypneF"
      },
      "outputs": [],
      "source": [
        "dados_grafico = resultados_filt_ord.head(10)     # Escolha quantos modelos quer exibir\n",
        "x_pos = np.arange(len(dados_grafico))            # Posições dos rótulos do eixo X\n",
        "largura_barra = 0.25                             # Largura das barras\n",
        "\n",
        "plt.figure(figsize=(18, 6))\n",
        "plt.bar(x_pos - largura_barra,                   # Série com score médio de treino\n",
        "        dados_grafico[\"media_score_treino\"],\n",
        "        width=largura_barra,\n",
        "        label=\"Score Médio de Treino\",\n",
        "        color=\"lightgray\")\n",
        "plt.bar(x_pos,                                   # Série com score médio de teste interno\n",
        "        dados_grafico[\"media_score_teste_interno\"],\n",
        "        width=largura_barra,\n",
        "        label=\"Score Médio de Teste Interno\",\n",
        "        color=\"darkcyan\")\n",
        "plt.bar(x_pos + largura_barra,                   # Série com score médio de teste externo\n",
        "        dados_grafico[\"score_teste_externo\"],\n",
        "        width=largura_barra,\n",
        "        label=\"Score de Teste Externo\",\n",
        "        color=\"turquoise\")\n",
        "\n",
        "plt.xticks(x_pos,\n",
        "           dados_grafico[\"num_modelo\"],\n",
        "           rotation=0,\n",
        "           ha='center')\n",
        "plt.ylabel(\"Score\")\n",
        "plt.title(\"Comparativo dos Melhores Modelos: Treino, Teste Interno e Teste Externo\")\n",
        "plt.legend()\n",
        "plt.tight_layout()\n",
        "plt.grid(axis='y', linestyle='--', alpha=0.5)\n",
        "plt.show()"
      ]
    },
    {
      "cell_type": "markdown",
      "metadata": {
        "id": "AaLVlc1-pneF"
      },
      "source": [
        "**Etapa 7: Escolha do modelo**"
      ]
    },
    {
      "cell_type": "markdown",
      "metadata": {
        "id": "lvgksL3SpneF"
      },
      "source": [
        "*Escolha do modelo*"
      ]
    },
    {
      "cell_type": "code",
      "execution_count": null,
      "metadata": {
        "id": "KuzE1OkHpneF"
      },
      "outputs": [],
      "source": [
        "num_modelo_escolhido = \"Modelo 586\""
      ]
    },
    {
      "cell_type": "markdown",
      "metadata": {
        "id": "2YU8uTQipneF"
      },
      "source": [
        "*Características do modelo escolhido*"
      ]
    },
    {
      "cell_type": "code",
      "execution_count": null,
      "metadata": {
        "id": "NXJNGWAVpneF"
      },
      "outputs": [],
      "source": [
        "linha = resultados.loc[resultados[\"num_modelo\"] == num_modelo_escolhido].squeeze()\n",
        "nome_algoritmo = linha[\"nome_algoritmo\"]\n",
        "hiperparametros = linha[\"hiperparametros\"]\n",
        "classe = algoritmos[nome_algoritmo][0]\n",
        "print(f\"O modelo final adotado foi construído com o algoritmo {nome_algoritmo}, com hiperparâmetros: { {k: round(v, 4) if isinstance(v, float) else v for k, v in hiperparametros.items()} }\")"
      ]
    },
    {
      "cell_type": "markdown",
      "metadata": {
        "id": "Dssrv3j1pneF"
      },
      "source": [
        "*Retreino do modelo no conjunto de treino completo*"
      ]
    },
    {
      "cell_type": "code",
      "execution_count": null,
      "metadata": {
        "id": "rFiN52wvpneF"
      },
      "outputs": [],
      "source": [
        "modelo_final = classe.set_params(**hiperparametros)\n",
        "modelo_final.fit(X_treino_tratada, y_treino, sample_weight=pesos_treino)"
      ]
    }
  ],
  "metadata": {
    "colab": {
      "provenance": [],
      "collapsed_sections": [
        "nGD5Csd2q7VV",
        "q3nWlTuwiJDh",
        "i6guzACW3Jdh",
        "cJypgi7hM83M",
        "pbI74rg4Xns2",
        "mIOwsKP1rDPC",
        "tHwrRQ8XNM-b",
        "KpGZliOrGwZj"
      ],
      "toc_visible": true,
      "include_colab_link": true
    },
    "kernelspec": {
      "display_name": "Python 3",
      "language": "python",
      "name": "python3"
    },
    "language_info": {
      "codemirror_mode": {
        "name": "ipython",
        "version": 3
      },
      "file_extension": ".py",
      "mimetype": "text/x-python",
      "name": "python",
      "nbconvert_exporter": "python",
      "pygments_lexer": "ipython3",
      "version": "3.13.5"
    },
    "orig_nbformat": 4
  },
  "nbformat": 4,
  "nbformat_minor": 0
}